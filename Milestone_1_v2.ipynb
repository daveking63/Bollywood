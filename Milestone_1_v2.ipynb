{
  "nbformat": 4,
  "nbformat_minor": 0,
  "metadata": {
    "colab": {
      "name": "Untitled0.ipynb",
      "provenance": [],
      "collapsed_sections": [],
      "authorship_tag": "ABX9TyO+SA/27BKRhKz3Z+attC/H",
      "include_colab_link": true
    },
    "kernelspec": {
      "name": "python3",
      "display_name": "Python 3"
    }
  },
  "cells": [
    {
      "cell_type": "markdown",
      "metadata": {
        "id": "view-in-github",
        "colab_type": "text"
      },
      "source": [
        "<a href=\"https://colab.research.google.com/github/daveking63/Bollywood/blob/master/Milestone_1_v2.ipynb\" target=\"_parent\"><img src=\"https://colab.research.google.com/assets/colab-badge.svg\" alt=\"Open In Colab\"/></a>"
      ]
    },
    {
      "cell_type": "code",
      "metadata": {
        "id": "vIcMyLzxboPB",
        "colab_type": "code",
        "colab": {}
      },
      "source": [
        "import warnings\n",
        "warnings.filterwarnings('ignore')"
      ],
      "execution_count": 115,
      "outputs": []
    },
    {
      "cell_type": "code",
      "metadata": {
        "id": "IjpKvn6Z7Q1_",
        "colab_type": "code",
        "colab": {}
      },
      "source": [
        "import pandas as pd\n",
        "import numpy as np\n",
        "import seaborn as sns\n",
        "import matplotlib.pyplot as plt\n",
        "%matplotlib inline"
      ],
      "execution_count": 116,
      "outputs": []
    },
    {
      "cell_type": "code",
      "metadata": {
        "id": "fzz04hdTKznZ",
        "colab_type": "code",
        "colab": {
          "resources": {
            "http://localhost:8080/nbextensions/google.colab/files.js": {
              "data": "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",
              "ok": true,
              "headers": [
                [
                  "content-type",
                  "application/javascript"
                ]
              ],
              "status": 200,
              "status_text": ""
            }
          },
          "base_uri": "https://localhost:8080/",
          "height": 106
        },
        "outputId": "a52d5baf-25e3-486e-fb70-a3b6c01ff6a2"
      },
      "source": [
        "from google.colab import files\n",
        "data_to_load = files.upload()"
      ],
      "execution_count": 117,
      "outputs": [
        {
          "output_type": "display_data",
          "data": {
            "text/html": [
              "\n",
              "     <input type=\"file\" id=\"files-cd5c2acd-1074-4a4e-a67c-3305b8a05a14\" name=\"files[]\" multiple disabled\n",
              "        style=\"border:none\" />\n",
              "     <output id=\"result-cd5c2acd-1074-4a4e-a67c-3305b8a05a14\">\n",
              "      Upload widget is only available when the cell has been executed in the\n",
              "      current browser session. Please rerun this cell to enable.\n",
              "      </output>\n",
              "      <script src=\"/nbextensions/google.colab/files.js\"></script> "
            ],
            "text/plain": [
              "<IPython.core.display.HTML object>"
            ]
          },
          "metadata": {
            "tags": []
          }
        },
        {
          "output_type": "stream",
          "text": [
            "Saving bw_success_measures.txt to bw_success_measures (1).txt\n",
            "Saving india_cpi_2020.txt to india_cpi_2020 (1).txt\n"
          ],
          "name": "stdout"
        }
      ]
    },
    {
      "cell_type": "code",
      "metadata": {
        "id": "FYeDayafSxj7",
        "colab_type": "code",
        "colab": {}
      },
      "source": [
        "import io\n",
        "df_sm = pd.read_csv(io.BytesIO(data_to_load['bw_success_measures.txt']),sep='\\t')"
      ],
      "execution_count": 118,
      "outputs": []
    },
    {
      "cell_type": "code",
      "metadata": {
        "id": "Tj87KOElL2uk",
        "colab_type": "code",
        "colab": {
          "base_uri": "https://localhost:8080/",
          "height": 272
        },
        "outputId": "d8e7c289-9046-4875-9d11-27815f3dfa2b"
      },
      "source": [
        "# total sample size, variables, missing values, data types\n",
        "df_sm.info()"
      ],
      "execution_count": 119,
      "outputs": [
        {
          "output_type": "stream",
          "text": [
            "<class 'pandas.core.frame.DataFrame'>\n",
            "RangeIndex: 3002 entries, 0 to 3001\n",
            "Data columns (total 8 columns):\n",
            " #   Column         Non-Null Count  Dtype  \n",
            "---  ------         --------------  -----  \n",
            " 0   film           3002 non-null   object \n",
            " 1   id             3002 non-null   int64  \n",
            " 2   rank           3002 non-null   int64  \n",
            " 3   release_date   3002 non-null   object \n",
            " 4   verdict        3002 non-null   object \n",
            " 5   budget         2832 non-null   float64\n",
            " 6   first_week     2496 non-null   float64\n",
            " 7   tot_net_gross  3002 non-null   int64  \n",
            "dtypes: float64(2), int64(3), object(3)\n",
            "memory usage: 187.8+ KB\n"
          ],
          "name": "stdout"
        }
      ]
    },
    {
      "cell_type": "code",
      "metadata": {
        "id": "5nwVFsg7KSst",
        "colab_type": "code",
        "colab": {
          "base_uri": "https://localhost:8080/",
          "height": 204
        },
        "outputId": "40c2d274-eb8f-4279-d4f5-42c210890581"
      },
      "source": [
        "# note format of release date and financial variables/columns\n",
        "df_sm.head(5)"
      ],
      "execution_count": 120,
      "outputs": [
        {
          "output_type": "execute_result",
          "data": {
            "text/html": [
              "<div>\n",
              "<style scoped>\n",
              "    .dataframe tbody tr th:only-of-type {\n",
              "        vertical-align: middle;\n",
              "    }\n",
              "\n",
              "    .dataframe tbody tr th {\n",
              "        vertical-align: top;\n",
              "    }\n",
              "\n",
              "    .dataframe thead th {\n",
              "        text-align: right;\n",
              "    }\n",
              "</style>\n",
              "<table border=\"1\" class=\"dataframe\">\n",
              "  <thead>\n",
              "    <tr style=\"text-align: right;\">\n",
              "      <th></th>\n",
              "      <th>film</th>\n",
              "      <th>id</th>\n",
              "      <th>rank</th>\n",
              "      <th>release_date</th>\n",
              "      <th>verdict</th>\n",
              "      <th>budget</th>\n",
              "      <th>first_week</th>\n",
              "      <th>tot_net_gross</th>\n",
              "    </tr>\n",
              "  </thead>\n",
              "  <tbody>\n",
              "    <tr>\n",
              "      <th>0</th>\n",
              "      <td>Hum Aapke Hain Koun..!</td>\n",
              "      <td>11</td>\n",
              "      <td>1</td>\n",
              "      <td>5-Aug-94</td>\n",
              "      <td>All Time Blockbuster</td>\n",
              "      <td>6.250000e+07</td>\n",
              "      <td>6.800000e+06</td>\n",
              "      <td>724650000</td>\n",
              "    </tr>\n",
              "    <tr>\n",
              "      <th>1</th>\n",
              "      <td>Bahubali 2 - The Conclusion</td>\n",
              "      <td>3517</td>\n",
              "      <td>2</td>\n",
              "      <td>28-Apr-17</td>\n",
              "      <td>All Time Blockbuster</td>\n",
              "      <td>1.950000e+09</td>\n",
              "      <td>2.464700e+09</td>\n",
              "      <td>5103600000</td>\n",
              "    </tr>\n",
              "    <tr>\n",
              "      <th>2</th>\n",
              "      <td>Gadar - Ek Prem Katha</td>\n",
              "      <td>657</td>\n",
              "      <td>3</td>\n",
              "      <td>15-Jun-01</td>\n",
              "      <td>All Time Blockbuster</td>\n",
              "      <td>1.900000e+08</td>\n",
              "      <td>9.280000e+07</td>\n",
              "      <td>768800000</td>\n",
              "    </tr>\n",
              "    <tr>\n",
              "      <th>3</th>\n",
              "      <td>Dilwale Dulhania Le Jayenge</td>\n",
              "      <td>3036</td>\n",
              "      <td>4</td>\n",
              "      <td>20-Oct-95</td>\n",
              "      <td>All Time Blockbuster</td>\n",
              "      <td>4.000000e+07</td>\n",
              "      <td>3.372500e+07</td>\n",
              "      <td>533125000</td>\n",
              "    </tr>\n",
              "    <tr>\n",
              "      <th>4</th>\n",
              "      <td>Raja Hindustani</td>\n",
              "      <td>2737</td>\n",
              "      <td>5</td>\n",
              "      <td>11-Nov-96</td>\n",
              "      <td>All Time Blockbuster</td>\n",
              "      <td>5.750000e+07</td>\n",
              "      <td>3.650000e+07</td>\n",
              "      <td>431450000</td>\n",
              "    </tr>\n",
              "  </tbody>\n",
              "</table>\n",
              "</div>"
            ],
            "text/plain": [
              "                          film    id  ...    first_week tot_net_gross\n",
              "0       Hum Aapke Hain Koun..!    11  ...  6.800000e+06     724650000\n",
              "1  Bahubali 2 - The Conclusion  3517  ...  2.464700e+09    5103600000\n",
              "2        Gadar - Ek Prem Katha   657  ...  9.280000e+07     768800000\n",
              "3  Dilwale Dulhania Le Jayenge  3036  ...  3.372500e+07     533125000\n",
              "4              Raja Hindustani  2737  ...  3.650000e+07     431450000\n",
              "\n",
              "[5 rows x 8 columns]"
            ]
          },
          "metadata": {
            "tags": []
          },
          "execution_count": 120
        }
      ]
    },
    {
      "cell_type": "code",
      "metadata": {
        "id": "VLXl96J2b61L",
        "colab_type": "code",
        "colab": {
          "base_uri": "https://localhost:8080/",
          "height": 390
        },
        "outputId": "7987cfdf-ca75-40ee-c22a-d53d1ea6938b"
      },
      "source": [
        "# aggregate stats for all variables/columns\n",
        "df_sm.describe(include = 'all')"
      ],
      "execution_count": 121,
      "outputs": [
        {
          "output_type": "execute_result",
          "data": {
            "text/html": [
              "<div>\n",
              "<style scoped>\n",
              "    .dataframe tbody tr th:only-of-type {\n",
              "        vertical-align: middle;\n",
              "    }\n",
              "\n",
              "    .dataframe tbody tr th {\n",
              "        vertical-align: top;\n",
              "    }\n",
              "\n",
              "    .dataframe thead th {\n",
              "        text-align: right;\n",
              "    }\n",
              "</style>\n",
              "<table border=\"1\" class=\"dataframe\">\n",
              "  <thead>\n",
              "    <tr style=\"text-align: right;\">\n",
              "      <th></th>\n",
              "      <th>film</th>\n",
              "      <th>id</th>\n",
              "      <th>rank</th>\n",
              "      <th>release_date</th>\n",
              "      <th>verdict</th>\n",
              "      <th>budget</th>\n",
              "      <th>first_week</th>\n",
              "      <th>tot_net_gross</th>\n",
              "    </tr>\n",
              "  </thead>\n",
              "  <tbody>\n",
              "    <tr>\n",
              "      <th>count</th>\n",
              "      <td>3002</td>\n",
              "      <td>3002.000000</td>\n",
              "      <td>3002.000000</td>\n",
              "      <td>3002</td>\n",
              "      <td>3002</td>\n",
              "      <td>2.832000e+03</td>\n",
              "      <td>2.496000e+03</td>\n",
              "      <td>3.002000e+03</td>\n",
              "    </tr>\n",
              "    <tr>\n",
              "      <th>unique</th>\n",
              "      <td>2977</td>\n",
              "      <td>NaN</td>\n",
              "      <td>NaN</td>\n",
              "      <td>1326</td>\n",
              "      <td>9</td>\n",
              "      <td>NaN</td>\n",
              "      <td>NaN</td>\n",
              "      <td>NaN</td>\n",
              "    </tr>\n",
              "    <tr>\n",
              "      <th>top</th>\n",
              "      <td>Baaghi</td>\n",
              "      <td>NaN</td>\n",
              "      <td>NaN</td>\n",
              "      <td>16-Nov-01</td>\n",
              "      <td>Disaster</td>\n",
              "      <td>NaN</td>\n",
              "      <td>NaN</td>\n",
              "      <td>NaN</td>\n",
              "    </tr>\n",
              "    <tr>\n",
              "      <th>freq</th>\n",
              "      <td>2</td>\n",
              "      <td>NaN</td>\n",
              "      <td>NaN</td>\n",
              "      <td>9</td>\n",
              "      <td>1735</td>\n",
              "      <td>NaN</td>\n",
              "      <td>NaN</td>\n",
              "      <td>NaN</td>\n",
              "    </tr>\n",
              "    <tr>\n",
              "      <th>mean</th>\n",
              "      <td>NaN</td>\n",
              "      <td>1925.207528</td>\n",
              "      <td>1507.872418</td>\n",
              "      <td>NaN</td>\n",
              "      <td>NaN</td>\n",
              "      <td>1.348159e+08</td>\n",
              "      <td>9.572944e+07</td>\n",
              "      <td>1.270749e+08</td>\n",
              "    </tr>\n",
              "    <tr>\n",
              "      <th>std</th>\n",
              "      <td>NaN</td>\n",
              "      <td>1302.691181</td>\n",
              "      <td>872.595911</td>\n",
              "      <td>NaN</td>\n",
              "      <td>NaN</td>\n",
              "      <td>2.735867e+08</td>\n",
              "      <td>2.226717e+08</td>\n",
              "      <td>3.312716e+08</td>\n",
              "    </tr>\n",
              "    <tr>\n",
              "      <th>min</th>\n",
              "      <td>NaN</td>\n",
              "      <td>1.000000</td>\n",
              "      <td>1.000000</td>\n",
              "      <td>NaN</td>\n",
              "      <td>NaN</td>\n",
              "      <td>8.000000e+05</td>\n",
              "      <td>2.500000e+04</td>\n",
              "      <td>5.000000e+04</td>\n",
              "    </tr>\n",
              "    <tr>\n",
              "      <th>25%</th>\n",
              "      <td>NaN</td>\n",
              "      <td>770.250000</td>\n",
              "      <td>755.250000</td>\n",
              "      <td>NaN</td>\n",
              "      <td>NaN</td>\n",
              "      <td>1.250000e+07</td>\n",
              "      <td>4.375000e+06</td>\n",
              "      <td>2.350000e+06</td>\n",
              "    </tr>\n",
              "    <tr>\n",
              "      <th>50%</th>\n",
              "      <td>NaN</td>\n",
              "      <td>1896.500000</td>\n",
              "      <td>1505.500000</td>\n",
              "      <td>NaN</td>\n",
              "      <td>NaN</td>\n",
              "      <td>4.500000e+07</td>\n",
              "      <td>1.870000e+07</td>\n",
              "      <td>1.677500e+07</td>\n",
              "    </tr>\n",
              "    <tr>\n",
              "      <th>75%</th>\n",
              "      <td>NaN</td>\n",
              "      <td>2769.750000</td>\n",
              "      <td>2255.750000</td>\n",
              "      <td>NaN</td>\n",
              "      <td>NaN</td>\n",
              "      <td>1.400000e+08</td>\n",
              "      <td>6.770000e+07</td>\n",
              "      <td>9.006250e+07</td>\n",
              "    </tr>\n",
              "    <tr>\n",
              "      <th>max</th>\n",
              "      <td>NaN</td>\n",
              "      <td>5824.000000</td>\n",
              "      <td>4201.000000</td>\n",
              "      <td>NaN</td>\n",
              "      <td>NaN</td>\n",
              "      <td>5.750000e+09</td>\n",
              "      <td>2.464700e+09</td>\n",
              "      <td>5.103600e+09</td>\n",
              "    </tr>\n",
              "  </tbody>\n",
              "</table>\n",
              "</div>"
            ],
            "text/plain": [
              "          film           id  ...    first_week tot_net_gross\n",
              "count     3002  3002.000000  ...  2.496000e+03  3.002000e+03\n",
              "unique    2977          NaN  ...           NaN           NaN\n",
              "top     Baaghi          NaN  ...           NaN           NaN\n",
              "freq         2          NaN  ...           NaN           NaN\n",
              "mean       NaN  1925.207528  ...  9.572944e+07  1.270749e+08\n",
              "std        NaN  1302.691181  ...  2.226717e+08  3.312716e+08\n",
              "min        NaN     1.000000  ...  2.500000e+04  5.000000e+04\n",
              "25%        NaN   770.250000  ...  4.375000e+06  2.350000e+06\n",
              "50%        NaN  1896.500000  ...  1.870000e+07  1.677500e+07\n",
              "75%        NaN  2769.750000  ...  6.770000e+07  9.006250e+07\n",
              "max        NaN  5824.000000  ...  2.464700e+09  5.103600e+09\n",
              "\n",
              "[11 rows x 8 columns]"
            ]
          },
          "metadata": {
            "tags": []
          },
          "execution_count": 121
        }
      ]
    },
    {
      "cell_type": "code",
      "metadata": {
        "id": "XeHEL7VkK2Sn",
        "colab_type": "code",
        "colab": {
          "base_uri": "https://localhost:8080/",
          "height": 204
        },
        "outputId": "c68c6bae-6737-49ef-81af-bb527042206f"
      },
      "source": [
        "# convert budget, first_week, and tot_net_gross from rupees to crores (10 million rupees)\n",
        "# create new variables for the values in crores - saves the agony of rerunning everything\n",
        "# if you make a mistake\n",
        "\n",
        "cr = 10000000\n",
        "\n",
        "df_sm.loc[0:,'budget_cr'] = round(df_sm.loc[0:,'budget'].div(cr),3)\n",
        "df_sm.loc[0:,'first_week_cr'] = round(df_sm.loc[0:,'first_week'].div(cr),3)\n",
        "df_sm.loc[0:,'tot_net_gross_cr'] = round(df_sm.loc[0:,'tot_net_gross'].div(cr),3)\n",
        "df_sm.loc[0:,'budget_cr':'tot_net_gross_cr'].head()"
      ],
      "execution_count": 122,
      "outputs": [
        {
          "output_type": "execute_result",
          "data": {
            "text/html": [
              "<div>\n",
              "<style scoped>\n",
              "    .dataframe tbody tr th:only-of-type {\n",
              "        vertical-align: middle;\n",
              "    }\n",
              "\n",
              "    .dataframe tbody tr th {\n",
              "        vertical-align: top;\n",
              "    }\n",
              "\n",
              "    .dataframe thead th {\n",
              "        text-align: right;\n",
              "    }\n",
              "</style>\n",
              "<table border=\"1\" class=\"dataframe\">\n",
              "  <thead>\n",
              "    <tr style=\"text-align: right;\">\n",
              "      <th></th>\n",
              "      <th>budget_cr</th>\n",
              "      <th>first_week_cr</th>\n",
              "      <th>tot_net_gross_cr</th>\n",
              "    </tr>\n",
              "  </thead>\n",
              "  <tbody>\n",
              "    <tr>\n",
              "      <th>0</th>\n",
              "      <td>6.25</td>\n",
              "      <td>0.680</td>\n",
              "      <td>72.465</td>\n",
              "    </tr>\n",
              "    <tr>\n",
              "      <th>1</th>\n",
              "      <td>195.00</td>\n",
              "      <td>246.470</td>\n",
              "      <td>510.360</td>\n",
              "    </tr>\n",
              "    <tr>\n",
              "      <th>2</th>\n",
              "      <td>19.00</td>\n",
              "      <td>9.280</td>\n",
              "      <td>76.880</td>\n",
              "    </tr>\n",
              "    <tr>\n",
              "      <th>3</th>\n",
              "      <td>4.00</td>\n",
              "      <td>3.372</td>\n",
              "      <td>53.312</td>\n",
              "    </tr>\n",
              "    <tr>\n",
              "      <th>4</th>\n",
              "      <td>5.75</td>\n",
              "      <td>3.650</td>\n",
              "      <td>43.145</td>\n",
              "    </tr>\n",
              "  </tbody>\n",
              "</table>\n",
              "</div>"
            ],
            "text/plain": [
              "   budget_cr  first_week_cr  tot_net_gross_cr\n",
              "0       6.25          0.680            72.465\n",
              "1     195.00        246.470           510.360\n",
              "2      19.00          9.280            76.880\n",
              "3       4.00          3.372            53.312\n",
              "4       5.75          3.650            43.145"
            ]
          },
          "metadata": {
            "tags": []
          },
          "execution_count": 122
        }
      ]
    },
    {
      "cell_type": "markdown",
      "metadata": {
        "id": "1LkwQNaEXtl8",
        "colab_type": "text"
      },
      "source": [
        ""
      ]
    },
    {
      "cell_type": "code",
      "metadata": {
        "id": "aD2E5Szeikxv",
        "colab_type": "code",
        "colab": {
          "base_uri": "https://localhost:8080/",
          "height": 204
        },
        "outputId": "bf9cf029-d8a9-4550-87e5-e43a52a0483f"
      },
      "source": [
        "# creating values for missing budget and tot_net_gross using groupby 'verdict'\n",
        "df_sm.groupby(['verdict']).size()"
      ],
      "execution_count": 123,
      "outputs": [
        {
          "output_type": "execute_result",
          "data": {
            "text/plain": [
              "verdict\n",
              "All Time Blockbuster      12\n",
              "Average                  132\n",
              "Below Average            103\n",
              "Blockbuster               44\n",
              "Disaster                1735\n",
              "Flop                     669\n",
              "Hit                      132\n",
              "Semi Hit                 103\n",
              "Super Hit                 72\n",
              "dtype: int64"
            ]
          },
          "metadata": {
            "tags": []
          },
          "execution_count": 123
        }
      ]
    },
    {
      "cell_type": "code",
      "metadata": {
        "id": "NNwsPSj4nZ03",
        "colab_type": "code",
        "colab": {
          "base_uri": "https://localhost:8080/",
          "height": 297
        },
        "outputId": "4aff2c2d-5123-4b65-b039-3ae7d7af59c5"
      },
      "source": [
        "# fill missing budget and first_week missing values with mean of groupby 'verdict'\n",
        "df_sm['budget_cr'] = df_sm.groupby('verdict')['budget_cr'].transform(lambda grp: grp.fillna(np.mean(grp)))\n",
        "df_sm['first_week_cr'] = df_sm.groupby('verdict')['first_week_cr'].transform(lambda grp: grp.fillna(np.mean(grp)))\n",
        "df_sm.loc[0:,'budget_cr':'tot_net_gross_cr'].describe(include='all')"
      ],
      "execution_count": 124,
      "outputs": [
        {
          "output_type": "execute_result",
          "data": {
            "text/html": [
              "<div>\n",
              "<style scoped>\n",
              "    .dataframe tbody tr th:only-of-type {\n",
              "        vertical-align: middle;\n",
              "    }\n",
              "\n",
              "    .dataframe tbody tr th {\n",
              "        vertical-align: top;\n",
              "    }\n",
              "\n",
              "    .dataframe thead th {\n",
              "        text-align: right;\n",
              "    }\n",
              "</style>\n",
              "<table border=\"1\" class=\"dataframe\">\n",
              "  <thead>\n",
              "    <tr style=\"text-align: right;\">\n",
              "      <th></th>\n",
              "      <th>budget_cr</th>\n",
              "      <th>first_week_cr</th>\n",
              "      <th>tot_net_gross_cr</th>\n",
              "    </tr>\n",
              "  </thead>\n",
              "  <tbody>\n",
              "    <tr>\n",
              "      <th>count</th>\n",
              "      <td>3002.000000</td>\n",
              "      <td>3002.000000</td>\n",
              "      <td>3002.000000</td>\n",
              "    </tr>\n",
              "    <tr>\n",
              "      <th>mean</th>\n",
              "      <td>13.077344</td>\n",
              "      <td>8.303543</td>\n",
              "      <td>12.707494</td>\n",
              "    </tr>\n",
              "    <tr>\n",
              "      <th>std</th>\n",
              "      <td>26.630818</td>\n",
              "      <td>20.517879</td>\n",
              "      <td>33.127153</td>\n",
              "    </tr>\n",
              "    <tr>\n",
              "      <th>min</th>\n",
              "      <td>0.080000</td>\n",
              "      <td>0.002000</td>\n",
              "      <td>0.005000</td>\n",
              "    </tr>\n",
              "    <tr>\n",
              "      <th>25%</th>\n",
              "      <td>1.400000</td>\n",
              "      <td>0.630000</td>\n",
              "      <td>0.235000</td>\n",
              "    </tr>\n",
              "    <tr>\n",
              "      <th>50%</th>\n",
              "      <td>5.000000</td>\n",
              "      <td>1.554202</td>\n",
              "      <td>1.677500</td>\n",
              "    </tr>\n",
              "    <tr>\n",
              "      <th>75%</th>\n",
              "      <td>13.000000</td>\n",
              "      <td>5.385000</td>\n",
              "      <td>9.006250</td>\n",
              "    </tr>\n",
              "    <tr>\n",
              "      <th>max</th>\n",
              "      <td>575.000000</td>\n",
              "      <td>246.470000</td>\n",
              "      <td>510.360000</td>\n",
              "    </tr>\n",
              "  </tbody>\n",
              "</table>\n",
              "</div>"
            ],
            "text/plain": [
              "         budget_cr  first_week_cr  tot_net_gross_cr\n",
              "count  3002.000000    3002.000000       3002.000000\n",
              "mean     13.077344       8.303543         12.707494\n",
              "std      26.630818      20.517879         33.127153\n",
              "min       0.080000       0.002000          0.005000\n",
              "25%       1.400000       0.630000          0.235000\n",
              "50%       5.000000       1.554202          1.677500\n",
              "75%      13.000000       5.385000          9.006250\n",
              "max     575.000000     246.470000        510.360000"
            ]
          },
          "metadata": {
            "tags": []
          },
          "execution_count": 124
        }
      ]
    },
    {
      "cell_type": "code",
      "metadata": {
        "id": "Lbmx54-oyaLU",
        "colab_type": "code",
        "colab": {}
      },
      "source": [
        "# read consumer price index ratio for years between 1994 & 2019 with base year of 2020\n",
        "df_cpi = pd.read_csv(io.BytesIO(data_to_load['india_cpi_2020.txt']),sep='\\t')"
      ],
      "execution_count": 125,
      "outputs": []
    },
    {
      "cell_type": "code",
      "metadata": {
        "id": "VFVCdkyaz28F",
        "colab_type": "code",
        "colab": {
          "base_uri": "https://localhost:8080/",
          "height": 54
        },
        "outputId": "b6836357-1d0e-496a-a08a-5d79c74ff550"
      },
      "source": [
        "# create a dictionary of CPI ratios with year as key\n",
        "dict_cpi = dict(zip(df_cpi.Year, df_cpi.CPI_Ratio))\n",
        "print(dict_cpi)"
      ],
      "execution_count": 126,
      "outputs": [
        {
          "output_type": "stream",
          "text": [
            "{1994: 5.77, 1995: 5.27, 1996: 4.8, 1997: 4.35, 1998: 4.09, 1999: 3.55, 2000: 3.53, 2001: 3.41, 2002: 3.25, 2003: 3.15, 2004: 3.03, 2005: 2.92, 2006: 2.77, 2007: 2.6, 2008: 2.46, 2009: 2.25, 2010: 1.95, 2011: 1.78, 2012: 1.68, 2013: 1.51, 2014: 1.38, 2015: 1.3, 2016: 1.23, 2017: 1.2, 2018: 1.15, 2019: 1.1, 2020: 1.0}\n"
          ],
          "name": "stdout"
        }
      ]
    },
    {
      "cell_type": "code",
      "metadata": {
        "id": "4ByOol6Ijp9G",
        "colab_type": "code",
        "colab": {
          "base_uri": "https://localhost:8080/",
          "height": 391
        },
        "outputId": "1c25fe08-711c-4ca9-f136-698bcb8cb1a3"
      },
      "source": [
        "# create a release_year column - insert after release_date\n",
        "import datetime\n",
        "df_sm['release_date'] = pd.to_datetime(df_sm['release_date'])\n",
        "df_sm['release_year'] = df_sm['release_date'].map(lambda x: int(x.strftime('%Y')))\n",
        "# df_sm['release_month'] = df_sm['release_date'].map(lambda x: x.strftime('%m'))\n",
        "# df_sm['release_day'] = df_sm['release_date'].map(lambda x: x.strftime('%d'))\n",
        "df_sm.head()\n"
      ],
      "execution_count": 127,
      "outputs": [
        {
          "output_type": "execute_result",
          "data": {
            "text/html": [
              "<div>\n",
              "<style scoped>\n",
              "    .dataframe tbody tr th:only-of-type {\n",
              "        vertical-align: middle;\n",
              "    }\n",
              "\n",
              "    .dataframe tbody tr th {\n",
              "        vertical-align: top;\n",
              "    }\n",
              "\n",
              "    .dataframe thead th {\n",
              "        text-align: right;\n",
              "    }\n",
              "</style>\n",
              "<table border=\"1\" class=\"dataframe\">\n",
              "  <thead>\n",
              "    <tr style=\"text-align: right;\">\n",
              "      <th></th>\n",
              "      <th>film</th>\n",
              "      <th>id</th>\n",
              "      <th>rank</th>\n",
              "      <th>release_date</th>\n",
              "      <th>verdict</th>\n",
              "      <th>budget</th>\n",
              "      <th>first_week</th>\n",
              "      <th>tot_net_gross</th>\n",
              "      <th>budget_cr</th>\n",
              "      <th>first_week_cr</th>\n",
              "      <th>tot_net_gross_cr</th>\n",
              "      <th>release_year</th>\n",
              "    </tr>\n",
              "  </thead>\n",
              "  <tbody>\n",
              "    <tr>\n",
              "      <th>0</th>\n",
              "      <td>Hum Aapke Hain Koun..!</td>\n",
              "      <td>11</td>\n",
              "      <td>1</td>\n",
              "      <td>1994-08-05</td>\n",
              "      <td>All Time Blockbuster</td>\n",
              "      <td>6.250000e+07</td>\n",
              "      <td>6.800000e+06</td>\n",
              "      <td>724650000</td>\n",
              "      <td>6.25</td>\n",
              "      <td>0.680</td>\n",
              "      <td>72.465</td>\n",
              "      <td>1994</td>\n",
              "    </tr>\n",
              "    <tr>\n",
              "      <th>1</th>\n",
              "      <td>Bahubali 2 - The Conclusion</td>\n",
              "      <td>3517</td>\n",
              "      <td>2</td>\n",
              "      <td>2017-04-28</td>\n",
              "      <td>All Time Blockbuster</td>\n",
              "      <td>1.950000e+09</td>\n",
              "      <td>2.464700e+09</td>\n",
              "      <td>5103600000</td>\n",
              "      <td>195.00</td>\n",
              "      <td>246.470</td>\n",
              "      <td>510.360</td>\n",
              "      <td>2017</td>\n",
              "    </tr>\n",
              "    <tr>\n",
              "      <th>2</th>\n",
              "      <td>Gadar - Ek Prem Katha</td>\n",
              "      <td>657</td>\n",
              "      <td>3</td>\n",
              "      <td>2001-06-15</td>\n",
              "      <td>All Time Blockbuster</td>\n",
              "      <td>1.900000e+08</td>\n",
              "      <td>9.280000e+07</td>\n",
              "      <td>768800000</td>\n",
              "      <td>19.00</td>\n",
              "      <td>9.280</td>\n",
              "      <td>76.880</td>\n",
              "      <td>2001</td>\n",
              "    </tr>\n",
              "    <tr>\n",
              "      <th>3</th>\n",
              "      <td>Dilwale Dulhania Le Jayenge</td>\n",
              "      <td>3036</td>\n",
              "      <td>4</td>\n",
              "      <td>1995-10-20</td>\n",
              "      <td>All Time Blockbuster</td>\n",
              "      <td>4.000000e+07</td>\n",
              "      <td>3.372500e+07</td>\n",
              "      <td>533125000</td>\n",
              "      <td>4.00</td>\n",
              "      <td>3.372</td>\n",
              "      <td>53.312</td>\n",
              "      <td>1995</td>\n",
              "    </tr>\n",
              "    <tr>\n",
              "      <th>4</th>\n",
              "      <td>Raja Hindustani</td>\n",
              "      <td>2737</td>\n",
              "      <td>5</td>\n",
              "      <td>1996-11-11</td>\n",
              "      <td>All Time Blockbuster</td>\n",
              "      <td>5.750000e+07</td>\n",
              "      <td>3.650000e+07</td>\n",
              "      <td>431450000</td>\n",
              "      <td>5.75</td>\n",
              "      <td>3.650</td>\n",
              "      <td>43.145</td>\n",
              "      <td>1996</td>\n",
              "    </tr>\n",
              "  </tbody>\n",
              "</table>\n",
              "</div>"
            ],
            "text/plain": [
              "                          film    id  ...  tot_net_gross_cr release_year\n",
              "0       Hum Aapke Hain Koun..!    11  ...            72.465         1994\n",
              "1  Bahubali 2 - The Conclusion  3517  ...           510.360         2017\n",
              "2        Gadar - Ek Prem Katha   657  ...            76.880         2001\n",
              "3  Dilwale Dulhania Le Jayenge  3036  ...            53.312         1995\n",
              "4              Raja Hindustani  2737  ...            43.145         1996\n",
              "\n",
              "[5 rows x 12 columns]"
            ]
          },
          "metadata": {
            "tags": []
          },
          "execution_count": 127
        }
      ]
    },
    {
      "cell_type": "code",
      "metadata": {
        "id": "0uKILDvVzvjK",
        "colab_type": "code",
        "colab": {
          "base_uri": "https://localhost:8080/",
          "height": 527
        },
        "outputId": "dddcd57b-876d-4af2-e68e-8503a096ba16"
      },
      "source": [
        "# note years outside study boundaries - 1994 to 2019\n",
        "df_sm.groupby(['release_year']).size()"
      ],
      "execution_count": 128,
      "outputs": [
        {
          "output_type": "execute_result",
          "data": {
            "text/plain": [
              "release_year\n",
              "1993     21\n",
              "1994    100\n",
              "1995     94\n",
              "1996     91\n",
              "1997     91\n",
              "1998    109\n",
              "1999    110\n",
              "2000    129\n",
              "2001    145\n",
              "2002    131\n",
              "2003    132\n",
              "2004    151\n",
              "2005    158\n",
              "2006    124\n",
              "2007    122\n",
              "2008    106\n",
              "2009    101\n",
              "2010    111\n",
              "2011    110\n",
              "2012    104\n",
              "2013    125\n",
              "2014    129\n",
              "2015    104\n",
              "2016    113\n",
              "2017    100\n",
              "2018     92\n",
              "2019     81\n",
              "2020     18\n",
              "dtype: int64"
            ]
          },
          "metadata": {
            "tags": []
          },
          "execution_count": 128
        }
      ]
    },
    {
      "cell_type": "code",
      "metadata": {
        "id": "MclofaPW1j2v",
        "colab_type": "code",
        "colab": {
          "base_uri": "https://localhost:8080/",
          "height": 493
        },
        "outputId": "55a7f541-6a1a-488e-fa9c-f5c27d52681b"
      },
      "source": [
        "# delete rows with years less than 1994 or greater than 2019\n",
        "df_sm = df_sm[(df_sm['release_year'] > 1993) & (df_sm['release_year'] < 2020)]\n",
        "df_sm = df_sm.reset_index(drop=True)\n",
        "df_sm.groupby(['release_year']).size()"
      ],
      "execution_count": 129,
      "outputs": [
        {
          "output_type": "execute_result",
          "data": {
            "text/plain": [
              "release_year\n",
              "1994    100\n",
              "1995     94\n",
              "1996     91\n",
              "1997     91\n",
              "1998    109\n",
              "1999    110\n",
              "2000    129\n",
              "2001    145\n",
              "2002    131\n",
              "2003    132\n",
              "2004    151\n",
              "2005    158\n",
              "2006    124\n",
              "2007    122\n",
              "2008    106\n",
              "2009    101\n",
              "2010    111\n",
              "2011    110\n",
              "2012    104\n",
              "2013    125\n",
              "2014    129\n",
              "2015    104\n",
              "2016    113\n",
              "2017    100\n",
              "2018     92\n",
              "2019     81\n",
              "dtype: int64"
            ]
          },
          "metadata": {
            "tags": []
          },
          "execution_count": 129
        }
      ]
    },
    {
      "cell_type": "code",
      "metadata": {
        "id": "gswJVpZR6fOa",
        "colab_type": "code",
        "colab": {}
      },
      "source": [
        "# create new financial variables adjusted for inflation\n",
        "df_ln = df_sm.shape[0]\n",
        "for i in range(df_ln):\n",
        "  yr = df_sm.loc[i,'release_year']\n",
        "  cpi_ratio = dict_cpi[yr]\n",
        "  df_sm.loc[i,'cpi_ratio'] = cpi_ratio\n",
        "  df_sm.loc[i,'budget_adjust'] = round(df_sm.loc[i,'budget_cr']*cpi_ratio,3)\n",
        "  df_sm.loc[i,'first_week_adjust'] = round(df_sm.loc[i,'first_week_cr']*cpi_ratio,3)\n",
        "  df_sm.loc[i,'tot_net_gross_adjust'] = round(df_sm.loc[i,'tot_net_gross_cr']*cpi_ratio,3)"
      ],
      "execution_count": 130,
      "outputs": []
    },
    {
      "cell_type": "code",
      "metadata": {
        "id": "n_Hu7aXsDlWy",
        "colab_type": "code",
        "colab": {
          "base_uri": "https://localhost:8080/",
          "height": 411
        },
        "outputId": "337b11e6-bafd-4b33-eceb-f55fcbbb23ec"
      },
      "source": [
        "df_sm.head()"
      ],
      "execution_count": 131,
      "outputs": [
        {
          "output_type": "execute_result",
          "data": {
            "text/html": [
              "<div>\n",
              "<style scoped>\n",
              "    .dataframe tbody tr th:only-of-type {\n",
              "        vertical-align: middle;\n",
              "    }\n",
              "\n",
              "    .dataframe tbody tr th {\n",
              "        vertical-align: top;\n",
              "    }\n",
              "\n",
              "    .dataframe thead th {\n",
              "        text-align: right;\n",
              "    }\n",
              "</style>\n",
              "<table border=\"1\" class=\"dataframe\">\n",
              "  <thead>\n",
              "    <tr style=\"text-align: right;\">\n",
              "      <th></th>\n",
              "      <th>film</th>\n",
              "      <th>id</th>\n",
              "      <th>rank</th>\n",
              "      <th>release_date</th>\n",
              "      <th>verdict</th>\n",
              "      <th>budget</th>\n",
              "      <th>first_week</th>\n",
              "      <th>tot_net_gross</th>\n",
              "      <th>budget_cr</th>\n",
              "      <th>first_week_cr</th>\n",
              "      <th>tot_net_gross_cr</th>\n",
              "      <th>release_year</th>\n",
              "      <th>cpi_ratio</th>\n",
              "      <th>budget_adjust</th>\n",
              "      <th>first_week_adjust</th>\n",
              "      <th>tot_net_gross_adjust</th>\n",
              "    </tr>\n",
              "  </thead>\n",
              "  <tbody>\n",
              "    <tr>\n",
              "      <th>0</th>\n",
              "      <td>Hum Aapke Hain Koun..!</td>\n",
              "      <td>11</td>\n",
              "      <td>1</td>\n",
              "      <td>1994-08-05</td>\n",
              "      <td>All Time Blockbuster</td>\n",
              "      <td>6.250000e+07</td>\n",
              "      <td>6.800000e+06</td>\n",
              "      <td>724650000</td>\n",
              "      <td>6.25</td>\n",
              "      <td>0.680</td>\n",
              "      <td>72.465</td>\n",
              "      <td>1994</td>\n",
              "      <td>5.77</td>\n",
              "      <td>36.062</td>\n",
              "      <td>3.924</td>\n",
              "      <td>418.123</td>\n",
              "    </tr>\n",
              "    <tr>\n",
              "      <th>1</th>\n",
              "      <td>Bahubali 2 - The Conclusion</td>\n",
              "      <td>3517</td>\n",
              "      <td>2</td>\n",
              "      <td>2017-04-28</td>\n",
              "      <td>All Time Blockbuster</td>\n",
              "      <td>1.950000e+09</td>\n",
              "      <td>2.464700e+09</td>\n",
              "      <td>5103600000</td>\n",
              "      <td>195.00</td>\n",
              "      <td>246.470</td>\n",
              "      <td>510.360</td>\n",
              "      <td>2017</td>\n",
              "      <td>1.20</td>\n",
              "      <td>234.000</td>\n",
              "      <td>295.764</td>\n",
              "      <td>612.432</td>\n",
              "    </tr>\n",
              "    <tr>\n",
              "      <th>2</th>\n",
              "      <td>Gadar - Ek Prem Katha</td>\n",
              "      <td>657</td>\n",
              "      <td>3</td>\n",
              "      <td>2001-06-15</td>\n",
              "      <td>All Time Blockbuster</td>\n",
              "      <td>1.900000e+08</td>\n",
              "      <td>9.280000e+07</td>\n",
              "      <td>768800000</td>\n",
              "      <td>19.00</td>\n",
              "      <td>9.280</td>\n",
              "      <td>76.880</td>\n",
              "      <td>2001</td>\n",
              "      <td>3.41</td>\n",
              "      <td>64.790</td>\n",
              "      <td>31.645</td>\n",
              "      <td>262.161</td>\n",
              "    </tr>\n",
              "    <tr>\n",
              "      <th>3</th>\n",
              "      <td>Dilwale Dulhania Le Jayenge</td>\n",
              "      <td>3036</td>\n",
              "      <td>4</td>\n",
              "      <td>1995-10-20</td>\n",
              "      <td>All Time Blockbuster</td>\n",
              "      <td>4.000000e+07</td>\n",
              "      <td>3.372500e+07</td>\n",
              "      <td>533125000</td>\n",
              "      <td>4.00</td>\n",
              "      <td>3.372</td>\n",
              "      <td>53.312</td>\n",
              "      <td>1995</td>\n",
              "      <td>5.27</td>\n",
              "      <td>21.080</td>\n",
              "      <td>17.770</td>\n",
              "      <td>280.954</td>\n",
              "    </tr>\n",
              "    <tr>\n",
              "      <th>4</th>\n",
              "      <td>Raja Hindustani</td>\n",
              "      <td>2737</td>\n",
              "      <td>5</td>\n",
              "      <td>1996-11-11</td>\n",
              "      <td>All Time Blockbuster</td>\n",
              "      <td>5.750000e+07</td>\n",
              "      <td>3.650000e+07</td>\n",
              "      <td>431450000</td>\n",
              "      <td>5.75</td>\n",
              "      <td>3.650</td>\n",
              "      <td>43.145</td>\n",
              "      <td>1996</td>\n",
              "      <td>4.80</td>\n",
              "      <td>27.600</td>\n",
              "      <td>17.520</td>\n",
              "      <td>207.096</td>\n",
              "    </tr>\n",
              "  </tbody>\n",
              "</table>\n",
              "</div>"
            ],
            "text/plain": [
              "                          film    id  ...  first_week_adjust tot_net_gross_adjust\n",
              "0       Hum Aapke Hain Koun..!    11  ...              3.924              418.123\n",
              "1  Bahubali 2 - The Conclusion  3517  ...            295.764              612.432\n",
              "2        Gadar - Ek Prem Katha   657  ...             31.645              262.161\n",
              "3  Dilwale Dulhania Le Jayenge  3036  ...             17.770              280.954\n",
              "4              Raja Hindustani  2737  ...             17.520              207.096\n",
              "\n",
              "[5 rows x 16 columns]"
            ]
          },
          "metadata": {
            "tags": []
          },
          "execution_count": 131
        }
      ]
    },
    {
      "cell_type": "code",
      "metadata": {
        "id": "GCiok90nPuP0",
        "colab_type": "code",
        "colab": {
          "base_uri": "https://localhost:8080/",
          "height": 297
        },
        "outputId": "71f36101-366e-438a-c254-de76ee484334"
      },
      "source": [
        "# roi for first_week_adjust, tot_net_gross_adjust\n",
        "df_ln = df_sm.shape[0]\n",
        "for i in range(0,df_ln):\n",
        "  bud = df_sm.loc[i,'budget_adjust']\n",
        "  first = df_sm.loc[i,'first_week_adjust']\n",
        "  tot = df_sm.loc[i, 'tot_net_gross_adjust']\n",
        "  df_sm.loc[i,'first_week_roi'] = ((first - bud)/bud) * 100\n",
        "  df_sm.loc[i,'tot_net_gross_roi'] = ((tot - bud)/bud) * 100\n",
        "\n",
        "#df_sm.info()\n",
        "df_sm.loc[0:,['first_week_roi','tot_net_gross_roi']].describe()"
      ],
      "execution_count": 132,
      "outputs": [
        {
          "output_type": "execute_result",
          "data": {
            "text/html": [
              "<div>\n",
              "<style scoped>\n",
              "    .dataframe tbody tr th:only-of-type {\n",
              "        vertical-align: middle;\n",
              "    }\n",
              "\n",
              "    .dataframe tbody tr th {\n",
              "        vertical-align: top;\n",
              "    }\n",
              "\n",
              "    .dataframe thead th {\n",
              "        text-align: right;\n",
              "    }\n",
              "</style>\n",
              "<table border=\"1\" class=\"dataframe\">\n",
              "  <thead>\n",
              "    <tr style=\"text-align: right;\">\n",
              "      <th></th>\n",
              "      <th>first_week_roi</th>\n",
              "      <th>tot_net_gross_roi</th>\n",
              "    </tr>\n",
              "  </thead>\n",
              "  <tbody>\n",
              "    <tr>\n",
              "      <th>count</th>\n",
              "      <td>2963.000000</td>\n",
              "      <td>2963.000000</td>\n",
              "    </tr>\n",
              "    <tr>\n",
              "      <th>mean</th>\n",
              "      <td>81.921044</td>\n",
              "      <td>-27.341040</td>\n",
              "    </tr>\n",
              "    <tr>\n",
              "      <th>std</th>\n",
              "      <td>513.277258</td>\n",
              "      <td>79.828130</td>\n",
              "    </tr>\n",
              "    <tr>\n",
              "      <th>min</th>\n",
              "      <td>-99.628205</td>\n",
              "      <td>-99.967973</td>\n",
              "    </tr>\n",
              "    <tr>\n",
              "      <th>25%</th>\n",
              "      <td>-80.662811</td>\n",
              "      <td>-80.047513</td>\n",
              "    </tr>\n",
              "    <tr>\n",
              "      <th>50%</th>\n",
              "      <td>-55.981352</td>\n",
              "      <td>-49.103943</td>\n",
              "    </tr>\n",
              "    <tr>\n",
              "      <th>75%</th>\n",
              "      <td>-19.837063</td>\n",
              "      <td>-1.194955</td>\n",
              "    </tr>\n",
              "    <tr>\n",
              "      <th>max</th>\n",
              "      <td>8306.555773</td>\n",
              "      <td>1232.798861</td>\n",
              "    </tr>\n",
              "  </tbody>\n",
              "</table>\n",
              "</div>"
            ],
            "text/plain": [
              "       first_week_roi  tot_net_gross_roi\n",
              "count     2963.000000        2963.000000\n",
              "mean        81.921044         -27.341040\n",
              "std        513.277258          79.828130\n",
              "min        -99.628205         -99.967973\n",
              "25%        -80.662811         -80.047513\n",
              "50%        -55.981352         -49.103943\n",
              "75%        -19.837063          -1.194955\n",
              "max       8306.555773        1232.798861"
            ]
          },
          "metadata": {
            "tags": []
          },
          "execution_count": 132
        }
      ]
    },
    {
      "cell_type": "code",
      "metadata": {
        "id": "8ruMk9_bkACw",
        "colab_type": "code",
        "colab": {
          "base_uri": "https://localhost:8080/",
          "height": 362
        },
        "outputId": "e201411b-1a39-438f-db0b-3283c25331b4"
      },
      "source": [
        "corr_list = ['budget_adjust','first_week_adjust','tot_net_gross_adjust', 'first_week_roi','tot_net_gross_roi']\n",
        "corr = pd.DataFrame()\n",
        "for var1 in corr_list:\n",
        "    for var2 in corr_list:\n",
        "        corr.loc[var1, var2] = df_sm.corr().loc[var1, var2]\n",
        "sns.heatmap(corr, annot=True);"
      ],
      "execution_count": 133,
      "outputs": [
        {
          "output_type": "display_data",
          "data": {
            "image/png": "[encoded data removed]",
            "text/plain": [
              "<Figure size 432x288 with 2 Axes>"
            ]
          },
          "metadata": {
            "tags": [],
            "needs_background": "light"
          }
        }
      ]
    },
    {
      "cell_type": "code",
      "metadata": {
        "id": "hCSsL0yGc51z",
        "colab_type": "code",
        "colab": {
          "base_uri": "https://localhost:8080/",
          "height": 320
        },
        "outputId": "68f53cb6-e2e5-45e5-f302-fb0a167c067e"
      },
      "source": [
        "# box_plot of budget_adjust, first_week_adjust, tot_net_gross_adjust\n",
        "fig, ax = plt.subplots(figsize=(10, 5))\n",
        "df_sm.loc[0:,['budget_adjust','first_week_adjust','tot_net_gross_adjust']].boxplot(vert=False);"
      ],
      "execution_count": 134,
      "outputs": [
        {
          "output_type": "display_data",
          "data": {
            "image/png": "[encoded data removed]",
            "text/plain": [
              "<Figure size 720x360 with 1 Axes>"
            ]
          },
          "metadata": {
            "tags": [],
            "needs_background": "light"
          }
        }
      ]
    },
    {
      "cell_type": "code",
      "metadata": {
        "id": "Zk4vYQwl2toh",
        "colab_type": "code",
        "colab": {
          "base_uri": "https://localhost:8080/",
          "height": 320
        },
        "outputId": "4ab54dae-5145-4c3c-e5e6-add9cd3d6080"
      },
      "source": [
        "# box_plot of budget_adjust, first_week_adjust, tot_net_gross_adjust\n",
        "fig, ax = plt.subplots(figsize=(10, 5))\n",
        "df_sm.loc[0:,['first_week_roi','tot_net_gross_roi']].boxplot(vert=False);"
      ],
      "execution_count": 135,
      "outputs": [
        {
          "output_type": "display_data",
          "data": {
            "image/png": "[encoded data removed]",
            "text/plain": [
              "<Figure size 720x360 with 1 Axes>"
            ]
          },
          "metadata": {
            "tags": [],
            "needs_background": "light"
          }
        }
      ]
    },
    {
      "cell_type": "code",
      "metadata": {
        "id": "30HjlmNHxy9T",
        "colab_type": "code",
        "colab": {
          "base_uri": "https://localhost:8080/",
          "height": 265
        },
        "outputId": "88f15d66-ca82-431b-f30a-be535354a93a"
      },
      "source": [
        "num_bins = 50\n",
        "col_sel = ['budget_adjust','first_week_adjust','tot_met_gross_adjust']\n",
        "x = df_sm.budget_adjust\n",
        "n, bins, patches = plt.hist(x, num_bins, facecolor='blue', alpha=0.5)"
      ],
      "execution_count": 136,
      "outputs": [
        {
          "output_type": "display_data",
          "data": {
            "image/png": "[encoded data removed]",
            "text/plain": [
              "<Figure size 432x288 with 1 Axes>"
            ]
          },
          "metadata": {
            "tags": [],
            "needs_background": "light"
          }
        }
      ]
    },
    {
      "cell_type": "code",
      "metadata": {
        "id": "uH3BmFzAzR-c",
        "colab_type": "code",
        "colab": {
          "base_uri": "https://localhost:8080/",
          "height": 227
        },
        "outputId": "c71b6639-8eb1-4a04-8382-35775f5c42b8"
      },
      "source": [
        "df_sm.loc[0:,['budget_adjust','first_week_adjust','tot_net_gross_adjust']].hist(bins=50,figsize=(12,3), layout=(1,3));"
      ],
      "execution_count": 137,
      "outputs": [
        {
          "output_type": "display_data",
          "data": {
            "image/png": "[encoded data removed]",
            "text/plain": [
              "<Figure size 864x216 with 3 Axes>"
            ]
          },
          "metadata": {
            "tags": [],
            "needs_background": "light"
          }
        }
      ]
    },
    {
      "cell_type": "code",
      "metadata": {
        "id": "tTj2V-waSMS8",
        "colab_type": "code",
        "colab": {
          "base_uri": "https://localhost:8080/",
          "height": 227
        },
        "outputId": "653b24db-f3d6-4e54-ecaa-ae2eaa5557cc"
      },
      "source": [
        "df_sm.loc[0:,['first_week_roi','tot_net_gross_roi']].hist(bins=50,figsize=(9,3), layout=(1,2));"
      ],
      "execution_count": 138,
      "outputs": [
        {
          "output_type": "display_data",
          "data": {
            "image/png": "[encoded data removed]",
            "text/plain": [
              "<Figure size 648x216 with 2 Axes>"
            ]
          },
          "metadata": {
            "tags": [],
            "needs_background": "light"
          }
        }
      ]
    },
    {
      "cell_type": "code",
      "metadata": {
        "id": "8UGqz3PsHLEq",
        "colab_type": "code",
        "colab": {
          "base_uri": "https://localhost:8080/",
          "height": 102
        },
        "outputId": "2e050db5-b496-4c09-c290-2d8fe9acabe8"
      },
      "source": [
        "from scipy.stats import kurtosis\n",
        "from scipy.stats import skew\n",
        "\n",
        "col_sel = ['budget_adjust','first_week_adjust','tot_net_gross_adjust','first_week_roi','tot_net_gross_roi']\n",
        "for var in col_sel:\n",
        "  data = df_sm[var]\n",
        "  print(var, round(skew(data),3), round(kurtosis(data),3))\n"
      ],
      "execution_count": 139,
      "outputs": [
        {
          "output_type": "stream",
          "text": [
            "budget_adjust 4.784 47.064\n",
            "first_week_adjust 4.344 25.095\n",
            "tot_net_gross_adjust 4.375 27.569\n",
            "first_week_roi 7.743 82.182\n",
            "tot_net_gross_roi 3.996 38.208\n"
          ],
          "name": "stdout"
        }
      ]
    },
    {
      "cell_type": "code",
      "metadata": {
        "id": "3bkxg6rEOFCc",
        "colab_type": "code",
        "colab": {}
      },
      "source": [
        "def log_trans(column):\n",
        "    y = np.log(column + 1)\n",
        "    return y"
      ],
      "execution_count": 140,
      "outputs": []
    },
    {
      "cell_type": "code",
      "metadata": {
        "id": "JVIwsQn0Om0i",
        "colab_type": "code",
        "colab": {
          "base_uri": "https://localhost:8080/",
          "height": 297
        },
        "outputId": "0d8c9232-d73c-4b8d-a3eb-1b899fd103dc"
      },
      "source": [
        "df_sm.loc[0:,'budget_log'] = log_trans(df_sm.budget_adjust)\n",
        "df_sm.loc[0:,'first_week_log'] = log_trans(df_sm.first_week_adjust)\n",
        "df_sm.loc[0:,'tot_net_gross_log'] = log_trans(df_sm.tot_net_gross_adjust)\n",
        "df_sm.loc[0:,['budget_log','first_week_log','tot_net_gross_log']].describe()"
      ],
      "execution_count": 141,
      "outputs": [
        {
          "output_type": "execute_result",
          "data": {
            "text/html": [
              "<div>\n",
              "<style scoped>\n",
              "    .dataframe tbody tr th:only-of-type {\n",
              "        vertical-align: middle;\n",
              "    }\n",
              "\n",
              "    .dataframe tbody tr th {\n",
              "        vertical-align: top;\n",
              "    }\n",
              "\n",
              "    .dataframe thead th {\n",
              "        text-align: right;\n",
              "    }\n",
              "</style>\n",
              "<table border=\"1\" class=\"dataframe\">\n",
              "  <thead>\n",
              "    <tr style=\"text-align: right;\">\n",
              "      <th></th>\n",
              "      <th>budget_log</th>\n",
              "      <th>first_week_log</th>\n",
              "      <th>tot_net_gross_log</th>\n",
              "    </tr>\n",
              "  </thead>\n",
              "  <tbody>\n",
              "    <tr>\n",
              "      <th>count</th>\n",
              "      <td>2963.000000</td>\n",
              "      <td>2963.000000</td>\n",
              "      <td>2963.000000</td>\n",
              "    </tr>\n",
              "    <tr>\n",
              "      <th>mean</th>\n",
              "      <td>2.497366</td>\n",
              "      <td>1.928443</td>\n",
              "      <td>1.964387</td>\n",
              "    </tr>\n",
              "    <tr>\n",
              "      <th>std</th>\n",
              "      <td>1.232046</td>\n",
              "      <td>1.216286</td>\n",
              "      <td>1.558457</td>\n",
              "    </tr>\n",
              "    <tr>\n",
              "      <th>min</th>\n",
              "      <td>0.155293</td>\n",
              "      <td>0.003992</td>\n",
              "      <td>0.005982</td>\n",
              "    </tr>\n",
              "    <tr>\n",
              "      <th>25%</th>\n",
              "      <td>1.682688</td>\n",
              "      <td>0.967744</td>\n",
              "      <td>0.444364</td>\n",
              "    </tr>\n",
              "    <tr>\n",
              "      <th>50%</th>\n",
              "      <td>2.511630</td>\n",
              "      <td>1.829216</td>\n",
              "      <td>1.685843</td>\n",
              "    </tr>\n",
              "    <tr>\n",
              "      <th>75%</th>\n",
              "      <td>3.400697</td>\n",
              "      <td>2.720143</td>\n",
              "      <td>3.227855</td>\n",
              "    </tr>\n",
              "    <tr>\n",
              "      <th>max</th>\n",
              "      <td>6.495643</td>\n",
              "      <td>5.692937</td>\n",
              "      <td>6.419069</td>\n",
              "    </tr>\n",
              "  </tbody>\n",
              "</table>\n",
              "</div>"
            ],
            "text/plain": [
              "        budget_log  first_week_log  tot_net_gross_log\n",
              "count  2963.000000     2963.000000        2963.000000\n",
              "mean      2.497366        1.928443           1.964387\n",
              "std       1.232046        1.216286           1.558457\n",
              "min       0.155293        0.003992           0.005982\n",
              "25%       1.682688        0.967744           0.444364\n",
              "50%       2.511630        1.829216           1.685843\n",
              "75%       3.400697        2.720143           3.227855\n",
              "max       6.495643        5.692937           6.419069"
            ]
          },
          "metadata": {
            "tags": []
          },
          "execution_count": 141
        }
      ]
    },
    {
      "cell_type": "code",
      "metadata": {
        "id": "bqv-vrnip1P0",
        "colab_type": "code",
        "colab": {
          "base_uri": "https://localhost:8080/",
          "height": 68
        },
        "outputId": "f4d4e9bf-66bb-457d-d1af-a61ca863bf6d"
      },
      "source": [
        "col_sel = ['budget_log','first_week_log','tot_net_gross_log']\n",
        "for var in col_sel:\n",
        "  data = df_sm[var]\n",
        "  print(var, round(skew(data),3), round(kurtosis(data),3))"
      ],
      "execution_count": 142,
      "outputs": [
        {
          "output_type": "stream",
          "text": [
            "budget_log -0.012 -0.669\n",
            "first_week_log 0.494 -0.377\n",
            "tot_net_gross_log 0.488 -0.951\n"
          ],
          "name": "stdout"
        }
      ]
    },
    {
      "cell_type": "code",
      "metadata": {
        "id": "51ljg7kdrsoQ",
        "colab_type": "code",
        "colab": {
          "base_uri": "https://localhost:8080/",
          "height": 227
        },
        "outputId": "a7575700-8d98-41ee-af37-ee1a7bd36dfe"
      },
      "source": [
        "df_sm.loc[0:,['budget_log','first_week_log','tot_net_gross_log']].hist(bins=50,figsize=(12,3), layout=(1,3));"
      ],
      "execution_count": 143,
      "outputs": [
        {
          "output_type": "display_data",
          "data": {
            "image/png": "[encoded data removed]",
            "text/plain": [
              "<Figure size 864x216 with 3 Axes>"
            ]
          },
          "metadata": {
            "tags": [],
            "needs_background": "light"
          }
        }
      ]
    },
    {
      "cell_type": "code",
      "metadata": {
        "id": "nfGCSU7HwLcl",
        "colab_type": "code",
        "colab": {}
      },
      "source": [
        "def znorm(df_col):\n",
        "  df_z = (df_col - df_col.mean())/df_col.std()\n",
        "  return df_z\n",
        "\n",
        "def minmax_norm(df_col):\n",
        "  df_mm = (df_col -df_col.min())/(df_col.max()-df_col.min())\n",
        "  return df_mm"
      ],
      "execution_count": 144,
      "outputs": []
    },
    {
      "cell_type": "code",
      "metadata": {
        "id": "MQ76ffUTOxRp",
        "colab_type": "code",
        "colab": {
          "base_uri": "https://localhost:8080/",
          "height": 297
        },
        "outputId": "cc2b4429-b602-4eae-de18-a2d386ee1dbf"
      },
      "source": [
        "df_sm.loc[0:,'budget_log_norm'] = minmax_norm(df_sm.budget_log)\n",
        "df_sm.loc[0:,'first_week_log_norm'] = minmax_norm(df_sm.first_week_log)\n",
        "df_sm.loc[0:,'tot_net_gross_log_norm'] = minmax_norm(df_sm.tot_net_gross_log)\n",
        "\n",
        "df_sm.loc[0:,['budget_log_norm','first_week_log_norm','tot_net_gross_log_norm']].describe()"
      ],
      "execution_count": 145,
      "outputs": [
        {
          "output_type": "execute_result",
          "data": {
            "text/html": [
              "<div>\n",
              "<style scoped>\n",
              "    .dataframe tbody tr th:only-of-type {\n",
              "        vertical-align: middle;\n",
              "    }\n",
              "\n",
              "    .dataframe tbody tr th {\n",
              "        vertical-align: top;\n",
              "    }\n",
              "\n",
              "    .dataframe thead th {\n",
              "        text-align: right;\n",
              "    }\n",
              "</style>\n",
              "<table border=\"1\" class=\"dataframe\">\n",
              "  <thead>\n",
              "    <tr style=\"text-align: right;\">\n",
              "      <th></th>\n",
              "      <th>budget_log_norm</th>\n",
              "      <th>first_week_log_norm</th>\n",
              "      <th>tot_net_gross_log_norm</th>\n",
              "    </tr>\n",
              "  </thead>\n",
              "  <tbody>\n",
              "    <tr>\n",
              "      <th>count</th>\n",
              "      <td>2963.000000</td>\n",
              "      <td>2963.000000</td>\n",
              "      <td>2963.000000</td>\n",
              "    </tr>\n",
              "    <tr>\n",
              "      <th>mean</th>\n",
              "      <td>0.369392</td>\n",
              "      <td>0.338279</td>\n",
              "      <td>0.305376</td>\n",
              "    </tr>\n",
              "    <tr>\n",
              "      <th>std</th>\n",
              "      <td>0.194318</td>\n",
              "      <td>0.213798</td>\n",
              "      <td>0.243012</td>\n",
              "    </tr>\n",
              "    <tr>\n",
              "      <th>min</th>\n",
              "      <td>0.000000</td>\n",
              "      <td>0.000000</td>\n",
              "      <td>0.000000</td>\n",
              "    </tr>\n",
              "    <tr>\n",
              "      <th>25%</th>\n",
              "      <td>0.240901</td>\n",
              "      <td>0.169408</td>\n",
              "      <td>0.068357</td>\n",
              "    </tr>\n",
              "    <tr>\n",
              "      <th>50%</th>\n",
              "      <td>0.371641</td>\n",
              "      <td>0.320837</td>\n",
              "      <td>0.261943</td>\n",
              "    </tr>\n",
              "    <tr>\n",
              "      <th>75%</th>\n",
              "      <td>0.511865</td>\n",
              "      <td>0.477444</td>\n",
              "      <td>0.502390</td>\n",
              "    </tr>\n",
              "    <tr>\n",
              "      <th>max</th>\n",
              "      <td>1.000000</td>\n",
              "      <td>1.000000</td>\n",
              "      <td>1.000000</td>\n",
              "    </tr>\n",
              "  </tbody>\n",
              "</table>\n",
              "</div>"
            ],
            "text/plain": [
              "       budget_log_norm  first_week_log_norm  tot_net_gross_log_norm\n",
              "count      2963.000000          2963.000000             2963.000000\n",
              "mean          0.369392             0.338279                0.305376\n",
              "std           0.194318             0.213798                0.243012\n",
              "min           0.000000             0.000000                0.000000\n",
              "25%           0.240901             0.169408                0.068357\n",
              "50%           0.371641             0.320837                0.261943\n",
              "75%           0.511865             0.477444                0.502390\n",
              "max           1.000000             1.000000                1.000000"
            ]
          },
          "metadata": {
            "tags": []
          },
          "execution_count": 145
        }
      ]
    },
    {
      "cell_type": "code",
      "metadata": {
        "id": "7h7nOiJzxhNb",
        "colab_type": "code",
        "colab": {
          "base_uri": "https://localhost:8080/",
          "height": 68
        },
        "outputId": "84fc8b8c-045e-4f54-f2e3-1d21275a750d"
      },
      "source": [
        "col_sel = ['budget_log_norm','first_week_log_norm','tot_net_gross_log_norm']\n",
        "for var in col_sel:\n",
        "  data = df_sm[var]\n",
        "  print(var, round(skew(data),3), round(kurtosis(data),3))"
      ],
      "execution_count": 146,
      "outputs": [
        {
          "output_type": "stream",
          "text": [
            "budget_log_norm -0.012 -0.669\n",
            "first_week_log_norm 0.494 -0.377\n",
            "tot_net_gross_log_norm 0.488 -0.951\n"
          ],
          "name": "stdout"
        }
      ]
    },
    {
      "cell_type": "code",
      "metadata": {
        "id": "W0BzJeeMwwup",
        "colab_type": "code",
        "colab": {
          "base_uri": "https://localhost:8080/",
          "height": 227
        },
        "outputId": "6cd4e471-e5a9-48ee-de74-78f00eb20a3c"
      },
      "source": [
        "df_sm.loc[0:,['budget_log_norm','first_week_log_norm','tot_net_gross_log_norm']].hist(bins=50,figsize=(12,3), layout=(1,3));"
      ],
      "execution_count": 147,
      "outputs": [
        {
          "output_type": "display_data",
          "data": {
            "image/png": "[encoded data removed]",
            "text/plain": [
              "<Figure size 864x216 with 3 Axes>"
            ]
          },
          "metadata": {
            "tags": [],
            "needs_background": "light"
          }
        }
      ]
    },
    {
      "cell_type": "code",
      "metadata": {
        "id": "nSz_cjojx8d-",
        "colab_type": "code",
        "colab": {
          "base_uri": "https://localhost:8080/",
          "height": 187
        },
        "outputId": "0ea2a582-f839-457a-9120-554b2db5d54d"
      },
      "source": [
        "# Success where measures are ordinal variables - converted to numerical values\n",
        "\n",
        "# first measure based on rankings assigned by BOI (partially based on gross revenues and roi)\n",
        "# verdict_rank - 1-9 based on verdict ('Disaster' = 1 ... 'All Time Blockbuster' = 9)\n",
        " \n",
        "verdict_dict = {'All Time Blockbuster':9,'Blockbuster':8, 'Super Hit':7, 'Hit':6, 'Semi Hit':5, 'Average':4, 'Below Average':3, 'Flop':2, 'Disaster':1}\n",
        "\n",
        "for i in range(0,df_ln):\n",
        "  df_sm.loc[i,'verdict_rank'] = verdict_dict[df_sm.loc[i,'verdict']]\n",
        "\n",
        "# Frequency of verdict_ranks in sorted order\n",
        "df_sm.verdict_rank.value_counts(sort=False)"
      ],
      "execution_count": 148,
      "outputs": [
        {
          "output_type": "execute_result",
          "data": {
            "text/plain": [
              "9.0      12\n",
              "8.0      42\n",
              "7.0      72\n",
              "6.0     132\n",
              "5.0     103\n",
              "4.0     132\n",
              "3.0     101\n",
              "2.0     651\n",
              "1.0    1718\n",
              "Name: verdict_rank, dtype: int64"
            ]
          },
          "metadata": {
            "tags": []
          },
          "execution_count": 148
        }
      ]
    },
    {
      "cell_type": "code",
      "metadata": {
        "id": "VM1uOeGD2VON",
        "colab_type": "code",
        "colab": {
          "base_uri": "https://localhost:8080/",
          "height": 280
        },
        "outputId": "4d876eb0-50fb-4ca4-9246-1cbcc94dcbc3"
      },
      "source": [
        "ax = sns.countplot(x=\"verdict_rank\",data=df_sm)"
      ],
      "execution_count": 149,
      "outputs": [
        {
          "output_type": "display_data",
          "data": {
            "image/png": "[encoded data removed]",
            "text/plain": [
              "<Figure size 432x288 with 1 Axes>"
            ]
          },
          "metadata": {
            "tags": [],
            "needs_background": "light"
          }
        }
      ]
    },
    {
      "cell_type": "code",
      "metadata": {
        "id": "YwcHPGVm55Ga",
        "colab_type": "code",
        "colab": {
          "base_uri": "https://localhost:8080/",
          "height": 68
        },
        "outputId": "2d294876-7e7b-4cd0-c43a-3e7ff4b89f2b"
      },
      "source": [
        "# Success based on profit = \n",
        "for i in range(0,df_ln):\n",
        "  revenue = df_sm.loc[i,'tot_net_gross_adjust']\n",
        "  budget = df_sm.loc[i,'budget_adjust']\n",
        "  profit = (.8 * revenue) - budget\n",
        "  if profit > 0:\n",
        "    df_sm.loc[i,'success_flop'] = 1 # success\n",
        "  else:\n",
        "    df_sm.loc[i,'success_flop'] = 0 # flop\n",
        "\n",
        "df_sm.success_flop.value_counts()"
      ],
      "execution_count": 150,
      "outputs": [
        {
          "output_type": "execute_result",
          "data": {
            "text/plain": [
              "0.0    2451\n",
              "1.0     512\n",
              "Name: success_flop, dtype: int64"
            ]
          },
          "metadata": {
            "tags": []
          },
          "execution_count": 150
        }
      ]
    },
    {
      "cell_type": "code",
      "metadata": {
        "id": "FcTYlqEh8B7Z",
        "colab_type": "code",
        "colab": {
          "base_uri": "https://localhost:8080/",
          "height": 280
        },
        "outputId": "096cae38-7e99-483f-c81a-83d4a4a5ca6d"
      },
      "source": [
        "ax = sns.countplot(x=\"success_flop\",data=df_sm);"
      ],
      "execution_count": 151,
      "outputs": [
        {
          "output_type": "display_data",
          "data": {
            "image/png": "[encoded data removed]",
            "text/plain": [
              "<Figure size 432x288 with 1 Axes>"
            ]
          },
          "metadata": {
            "tags": [],
            "needs_background": "light"
          }
        }
      ]
    },
    {
      "cell_type": "code",
      "metadata": {
        "id": "2HA1pEmT8MVU",
        "colab_type": "code",
        "colab": {
          "base_uri": "https://localhost:8080/",
          "height": 85
        },
        "outputId": "b895a8f7-6842-43a5-8fa3-0b3411ce5109"
      },
      "source": [
        "# Success measured by profit ratio = gross_rev/budget\n",
        "# 3 ordinal values: low = profit ratio - < 1.0; moderate - profit ratio >= 1.0 and < 2.0; high - >= 2.0\n",
        "\n",
        "for i in range(0,df_ln):\n",
        "  revenue = df_sm.loc[i,'tot_net_gross_adjust']\n",
        "  budget = df_sm.loc[i,'budget_adjust']\n",
        "  profit_ratio = revenue/budget\n",
        "  if profit_ratio < 1.0:\n",
        "    df_sm.loc[i,'profit_ratio'] = 1 # low grossing\n",
        "  elif profit_ratio >= 2.0:\n",
        "    df_sm.loc[i,'profit_ratio'] = 3 # high grossing\n",
        "  else:\n",
        "    df_sm.loc[i,'profit_ratio'] = 2 # moderate grossing\n",
        "\n",
        "df_sm.profit_ratio.value_counts()"
      ],
      "execution_count": 152,
      "outputs": [
        {
          "output_type": "execute_result",
          "data": {
            "text/plain": [
              "1.0    2231\n",
              "2.0     553\n",
              "3.0     179\n",
              "Name: profit_ratio, dtype: int64"
            ]
          },
          "metadata": {
            "tags": []
          },
          "execution_count": 152
        }
      ]
    },
    {
      "cell_type": "code",
      "metadata": {
        "id": "QHj4AV119NlV",
        "colab_type": "code",
        "colab": {
          "base_uri": "https://localhost:8080/",
          "height": 307
        },
        "outputId": "61b38924-eb1e-424a-d114-4027ef3ed450"
      },
      "source": [
        "ax = sns.countplot(x=\"rev_grossing\",data=df_sm);"
      ],
      "execution_count": 153,
      "outputs": [
        {
          "output_type": "error",
          "ename": "ValueError",
          "evalue": "ignored",
          "traceback": [
            "\u001b[0;31m---------------------------------------------------------------------------\u001b[0m",
            "\u001b[0;31mValueError\u001b[0m                                Traceback (most recent call last)",
            "\u001b[0;32m<ipython-input-153-da5aa10c778d>\u001b[0m in \u001b[0;36m<module>\u001b[0;34m()\u001b[0m\n\u001b[0;32m----> 1\u001b[0;31m \u001b[0max\u001b[0m \u001b[0;34m=\u001b[0m \u001b[0msns\u001b[0m\u001b[0;34m.\u001b[0m\u001b[0mcountplot\u001b[0m\u001b[0;34m(\u001b[0m\u001b[0mx\u001b[0m\u001b[0;34m=\u001b[0m\u001b[0;34m\"rev_grossing\"\u001b[0m\u001b[0;34m,\u001b[0m\u001b[0mdata\u001b[0m\u001b[0;34m=\u001b[0m\u001b[0mdf_sm\u001b[0m\u001b[0;34m)\u001b[0m\u001b[0;34m;\u001b[0m\u001b[0;34m\u001b[0m\u001b[0;34m\u001b[0m\u001b[0m\n\u001b[0m",
            "\u001b[0;32m/usr/local/lib/python3.6/dist-packages/seaborn/categorical.py\u001b[0m in \u001b[0;36mcountplot\u001b[0;34m(x, y, hue, data, order, hue_order, orient, color, palette, saturation, dodge, ax, **kwargs)\u001b[0m\n\u001b[1;32m   3550\u001b[0m                           \u001b[0mestimator\u001b[0m\u001b[0;34m,\u001b[0m \u001b[0mci\u001b[0m\u001b[0;34m,\u001b[0m \u001b[0mn_boot\u001b[0m\u001b[0;34m,\u001b[0m \u001b[0munits\u001b[0m\u001b[0;34m,\u001b[0m \u001b[0mseed\u001b[0m\u001b[0;34m,\u001b[0m\u001b[0;34m\u001b[0m\u001b[0;34m\u001b[0m\u001b[0m\n\u001b[1;32m   3551\u001b[0m                           \u001b[0morient\u001b[0m\u001b[0;34m,\u001b[0m \u001b[0mcolor\u001b[0m\u001b[0;34m,\u001b[0m \u001b[0mpalette\u001b[0m\u001b[0;34m,\u001b[0m \u001b[0msaturation\u001b[0m\u001b[0;34m,\u001b[0m\u001b[0;34m\u001b[0m\u001b[0;34m\u001b[0m\u001b[0m\n\u001b[0;32m-> 3552\u001b[0;31m                           errcolor, errwidth, capsize, dodge)\n\u001b[0m\u001b[1;32m   3553\u001b[0m \u001b[0;34m\u001b[0m\u001b[0m\n\u001b[1;32m   3554\u001b[0m     \u001b[0mplotter\u001b[0m\u001b[0;34m.\u001b[0m\u001b[0mvalue_label\u001b[0m \u001b[0;34m=\u001b[0m \u001b[0;34m\"count\"\u001b[0m\u001b[0;34m\u001b[0m\u001b[0;34m\u001b[0m\u001b[0m\n",
            "\u001b[0;32m/usr/local/lib/python3.6/dist-packages/seaborn/categorical.py\u001b[0m in \u001b[0;36m__init__\u001b[0;34m(self, x, y, hue, data, order, hue_order, estimator, ci, n_boot, units, seed, orient, color, palette, saturation, errcolor, errwidth, capsize, dodge)\u001b[0m\n\u001b[1;32m   1601\u001b[0m         \u001b[0;34m\"\"\"Initialize the plotter.\"\"\"\u001b[0m\u001b[0;34m\u001b[0m\u001b[0;34m\u001b[0m\u001b[0m\n\u001b[1;32m   1602\u001b[0m         self.establish_variables(x, y, hue, data, orient,\n\u001b[0;32m-> 1603\u001b[0;31m                                  order, hue_order, units)\n\u001b[0m\u001b[1;32m   1604\u001b[0m         \u001b[0mself\u001b[0m\u001b[0;34m.\u001b[0m\u001b[0mestablish_colors\u001b[0m\u001b[0;34m(\u001b[0m\u001b[0mcolor\u001b[0m\u001b[0;34m,\u001b[0m \u001b[0mpalette\u001b[0m\u001b[0;34m,\u001b[0m \u001b[0msaturation\u001b[0m\u001b[0;34m)\u001b[0m\u001b[0;34m\u001b[0m\u001b[0;34m\u001b[0m\u001b[0m\n\u001b[1;32m   1605\u001b[0m         \u001b[0mself\u001b[0m\u001b[0;34m.\u001b[0m\u001b[0mestimate_statistic\u001b[0m\u001b[0;34m(\u001b[0m\u001b[0mestimator\u001b[0m\u001b[0;34m,\u001b[0m \u001b[0mci\u001b[0m\u001b[0;34m,\u001b[0m \u001b[0mn_boot\u001b[0m\u001b[0;34m,\u001b[0m \u001b[0mseed\u001b[0m\u001b[0;34m)\u001b[0m\u001b[0;34m\u001b[0m\u001b[0;34m\u001b[0m\u001b[0m\n",
            "\u001b[0;32m/usr/local/lib/python3.6/dist-packages/seaborn/categorical.py\u001b[0m in \u001b[0;36mestablish_variables\u001b[0;34m(self, x, y, hue, data, orient, order, hue_order, units)\u001b[0m\n\u001b[1;32m    150\u001b[0m                 \u001b[0;32mif\u001b[0m \u001b[0misinstance\u001b[0m\u001b[0;34m(\u001b[0m\u001b[0mvar\u001b[0m\u001b[0;34m,\u001b[0m \u001b[0mstr\u001b[0m\u001b[0;34m)\u001b[0m\u001b[0;34m:\u001b[0m\u001b[0;34m\u001b[0m\u001b[0;34m\u001b[0m\u001b[0m\n\u001b[1;32m    151\u001b[0m                     \u001b[0merr\u001b[0m \u001b[0;34m=\u001b[0m \u001b[0;34m\"Could not interpret input '{}'\"\u001b[0m\u001b[0;34m.\u001b[0m\u001b[0mformat\u001b[0m\u001b[0;34m(\u001b[0m\u001b[0mvar\u001b[0m\u001b[0;34m)\u001b[0m\u001b[0;34m\u001b[0m\u001b[0;34m\u001b[0m\u001b[0m\n\u001b[0;32m--> 152\u001b[0;31m                     \u001b[0;32mraise\u001b[0m \u001b[0mValueError\u001b[0m\u001b[0;34m(\u001b[0m\u001b[0merr\u001b[0m\u001b[0;34m)\u001b[0m\u001b[0;34m\u001b[0m\u001b[0;34m\u001b[0m\u001b[0m\n\u001b[0m\u001b[1;32m    153\u001b[0m \u001b[0;34m\u001b[0m\u001b[0m\n\u001b[1;32m    154\u001b[0m             \u001b[0;31m# Figure out the plotting orientation\u001b[0m\u001b[0;34m\u001b[0m\u001b[0;34m\u001b[0m\u001b[0;34m\u001b[0m\u001b[0m\n",
            "\u001b[0;31mValueError\u001b[0m: Could not interpret input 'rev_grossing'"
          ]
        }
      ]
    },
    {
      "cell_type": "code",
      "metadata": {
        "id": "XAthHwIxtmiE",
        "colab_type": "code",
        "colab": {}
      },
      "source": [
        "var_list = ['success_flop','rev_grossing','verdict_rank','success_flop','rev_grossing']\n",
        "for i in range(0,2):\n",
        "  var1= var_list[i]\n",
        "  for j in range(i+1,3):\n",
        "    var2 = var_list[j]\n",
        "    print(pd.crosstab(df_sm.loc[0:,var1],df_sm.loc[0:,var2], dropna = False, margins = True),'\\n')\n"
      ],
      "execution_count": null,
      "outputs": []
    },
    {
      "cell_type": "code",
      "metadata": {
        "id": "ZaaF6n2W9Zuo",
        "colab_type": "code",
        "colab": {}
      },
      "source": [
        "from scipy import stats\n",
        "\n",
        "corr = pd.DataFrame()\n",
        "for var1 in var_list:\n",
        "    for var2 in corr_list:\n",
        "        rho, pval = stats.spearmanr(df_sm.loc[0:,var1],df_sm.loc[0:,var2])\n",
        "        corr.loc[var1, var2] = rho\n",
        "sns.heatmap(corr, annot=True);\n"
      ],
      "execution_count": null,
      "outputs": []
    },
    {
      "cell_type": "code",
      "metadata": {
        "id": "qeD1aRoVseEO",
        "colab_type": "code",
        "colab": {}
      },
      "source": [
        "# success_flop, rev_grossing, verdict_rank by 5 year groups\n",
        "yr_limits = [(1994,2000,1995),(2000,2005,2000),(2005,2010, 2005),(2010,2015,2010),(2015,2020,2015)]\n",
        "\n",
        "for i in range(0,df_ln):\n",
        "  for yr_tup in yr_limits:\n",
        "    if (df_sm.loc[i,'release_year'] >= yr_tup[0] and df_sm.loc[i,'release_year'] < yr_tup[1]):\n",
        "      #print(i,df_sm.loc[i,'release_year'],yr_tup[0],yr_tup[2])\n",
        "      df_sm.loc[i,'5yr'] = yr_tup[2]\n",
        "      \n",
        "df_sm.groupby('5yr')['5yr'].count()\n"
      ],
      "execution_count": null,
      "outputs": []
    },
    {
      "cell_type": "code",
      "metadata": {
        "id": "FbG-gif6IoJJ",
        "colab_type": "code",
        "colab": {}
      },
      "source": [
        "# regardless of the ordinal variable, the percentage of poorly performing movies remained relatively\n",
        "# the same from 2000 on.\n",
        "pd.crosstab(df_sm.loc[0:,'5yr'],df_sm.loc[0:,'verdict_rank'], dropna = False, margins = True, normalize='index')"
      ],
      "execution_count": null,
      "outputs": []
    },
    {
      "cell_type": "code",
      "metadata": {
        "id": "Gxkup2hLKda2",
        "colab_type": "code",
        "colab": {}
      },
      "source": [
        "df_sm.groupby('5yr')['tot_net_gross_adjust','budget_adjust','tot_net_gross_roi'].mean()"
      ],
      "execution_count": null,
      "outputs": []
    }
  ]
}