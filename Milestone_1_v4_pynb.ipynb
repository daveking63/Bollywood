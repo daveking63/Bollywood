{
  "nbformat": 4,
  "nbformat_minor": 0,
  "metadata": {
    "colab": {
      "name": "Milestone_1_v4.pynb",
      "provenance": [],
      "collapsed_sections": [],
      "authorship_tag": "ABX9TyOdlpfBydBbItltH0U2ipzi",
      "include_colab_link": true
    },
    "kernelspec": {
      "name": "python3",
      "display_name": "Python 3"
    }
  },
  "cells": [
    {
      "cell_type": "markdown",
      "metadata": {
        "id": "view-in-github",
        "colab_type": "text"
      },
      "source": [
        "<a href=\"https://colab.research.google.com/github/daveking63/Bollywood/blob/master/Milestone_1_v4_pynb.ipynb\" target=\"_parent\"><img src=\"https://colab.research.google.com/assets/colab-badge.svg\" alt=\"Open In Colab\"/></a>"
      ]
    },
    {
      "cell_type": "code",
      "metadata": {
        "id": "vIcMyLzxboPB",
        "colab_type": "code",
        "colab": {}
      },
      "source": [
        "import warnings\n",
        "warnings.filterwarnings('ignore')"
      ],
      "execution_count": 1,
      "outputs": []
    },
    {
      "cell_type": "code",
      "metadata": {
        "id": "fzz04hdTKznZ",
        "colab_type": "code",
        "colab": {
          "resources": {
            "http://localhost:8080/nbextensions/google.colab/files.js": {
              "data": "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",
              "ok": true,
              "headers": [
                [
                  "content-type",
                  "application/javascript"
                ]
              ],
              "status": 200,
              "status_text": ""
            }
          },
          "base_uri": "https://localhost:8080/",
          "height": 140
        },
        "outputId": "e8807289-c404-4258-d539-50632123cfc7"
      },
      "source": [
        "from google.colab import files\n",
        "data_to_load = files.upload()"
      ],
      "execution_count": 2,
      "outputs": [
        {
          "output_type": "display_data",
          "data": {
            "text/html": [
              "\n",
              "     <input type=\"file\" id=\"files-4b177f6d-ad41-4a14-a5ae-ac4a13cc0ce1\" name=\"files[]\" multiple disabled\n",
              "        style=\"border:none\" />\n",
              "     <output id=\"result-4b177f6d-ad41-4a14-a5ae-ac4a13cc0ce1\">\n",
              "      Upload widget is only available when the cell has been executed in the\n",
              "      current browser session. Please rerun this cell to enable.\n",
              "      </output>\n",
              "      <script src=\"/nbextensions/google.colab/files.js\"></script> "
            ],
            "text/plain": [
              "<IPython.core.display.HTML object>"
            ]
          },
          "metadata": {
            "tags": []
          }
        },
        {
          "output_type": "stream",
          "text": [
            "Saving india_cpi_2020.txt to india_cpi_2020 (2).txt\n",
            "Saving verdict_ranks.txt to verdict_ranks (2).txt\n",
            "Saving bw_success_measures.txt to bw_success_measures (2).txt\n"
          ],
          "name": "stdout"
        }
      ]
    },
    {
      "cell_type": "code",
      "metadata": {
        "id": "IjpKvn6Z7Q1_",
        "colab_type": "code",
        "colab": {}
      },
      "source": [
        "import pandas as pd\n",
        "import numpy as np\n",
        "import seaborn as sns\n",
        "import matplotlib.pyplot as plt\n",
        "%matplotlib inline"
      ],
      "execution_count": 3,
      "outputs": []
    },
    {
      "cell_type": "code",
      "metadata": {
        "id": "FYeDayafSxj7",
        "colab_type": "code",
        "colab": {}
      },
      "source": [
        "# load data tab separated text file, converting to pandas DataFrame\n",
        "import io\n",
        "df_sm = pd.read_csv(io.BytesIO(data_to_load['bw_success_measures.txt']),sep='\\t')"
      ],
      "execution_count": 4,
      "outputs": []
    },
    {
      "cell_type": "code",
      "metadata": {
        "id": "Tj87KOElL2uk",
        "colab_type": "code",
        "colab": {
          "base_uri": "https://localhost:8080/",
          "height": 272
        },
        "outputId": "cb7bb44f-6d03-49ff-a4dc-6919e2265dd4"
      },
      "source": [
        "# Total sample size, variables, missing values, data types for download file\n",
        "df_sm.info()"
      ],
      "execution_count": 5,
      "outputs": [
        {
          "output_type": "stream",
          "text": [
            "<class 'pandas.core.frame.DataFrame'>\n",
            "RangeIndex: 2963 entries, 0 to 2962\n",
            "Data columns (total 8 columns):\n",
            " #   Column         Non-Null Count  Dtype  \n",
            "---  ------         --------------  -----  \n",
            " 0   film           2963 non-null   object \n",
            " 1   id             2963 non-null   int64  \n",
            " 2   rank           2963 non-null   int64  \n",
            " 3   release_date   2963 non-null   object \n",
            " 4   verdict        2963 non-null   object \n",
            " 5   budget         2797 non-null   float64\n",
            " 6   first_week     2466 non-null   float64\n",
            " 7   tot_net_gross  2963 non-null   float64\n",
            "dtypes: float64(3), int64(2), object(3)\n",
            "memory usage: 185.3+ KB\n"
          ],
          "name": "stdout"
        }
      ]
    },
    {
      "cell_type": "code",
      "metadata": {
        "id": "HyunhOBFQ3no",
        "colab_type": "code",
        "colab": {
          "base_uri": "https://localhost:8080/",
          "height": 297
        },
        "outputId": "bcdcaa67-ecf5-4f40-db45-423c9ad10afa"
      },
      "source": [
        "# Summary of aggregate measures for key financial variables\n",
        "# mean, std, min ... all in Indian Crores (10M rupees)\n",
        "\n",
        "df_sm[['budget','first_week','tot_net_gross']].describe()"
      ],
      "execution_count": 6,
      "outputs": [
        {
          "output_type": "execute_result",
          "data": {
            "text/html": [
              "<div>\n",
              "<style scoped>\n",
              "    .dataframe tbody tr th:only-of-type {\n",
              "        vertical-align: middle;\n",
              "    }\n",
              "\n",
              "    .dataframe tbody tr th {\n",
              "        vertical-align: top;\n",
              "    }\n",
              "\n",
              "    .dataframe thead th {\n",
              "        text-align: right;\n",
              "    }\n",
              "</style>\n",
              "<table border=\"1\" class=\"dataframe\">\n",
              "  <thead>\n",
              "    <tr style=\"text-align: right;\">\n",
              "      <th></th>\n",
              "      <th>budget</th>\n",
              "      <th>first_week</th>\n",
              "      <th>tot_net_gross</th>\n",
              "    </tr>\n",
              "  </thead>\n",
              "  <tbody>\n",
              "    <tr>\n",
              "      <th>count</th>\n",
              "      <td>2797.000000</td>\n",
              "      <td>2466.000000</td>\n",
              "      <td>2963.00000</td>\n",
              "    </tr>\n",
              "    <tr>\n",
              "      <th>mean</th>\n",
              "      <td>13.391911</td>\n",
              "      <td>9.523644</td>\n",
              "      <td>12.64578</td>\n",
              "    </tr>\n",
              "    <tr>\n",
              "      <th>std</th>\n",
              "      <td>27.234132</td>\n",
              "      <td>22.247333</td>\n",
              "      <td>32.94777</td>\n",
              "    </tr>\n",
              "    <tr>\n",
              "      <th>min</th>\n",
              "      <td>0.080000</td>\n",
              "      <td>0.003000</td>\n",
              "      <td>0.00500</td>\n",
              "    </tr>\n",
              "    <tr>\n",
              "      <th>25%</th>\n",
              "      <td>1.250000</td>\n",
              "      <td>0.435000</td>\n",
              "      <td>0.23350</td>\n",
              "    </tr>\n",
              "    <tr>\n",
              "      <th>50%</th>\n",
              "      <td>4.500000</td>\n",
              "      <td>1.871500</td>\n",
              "      <td>1.67500</td>\n",
              "    </tr>\n",
              "    <tr>\n",
              "      <th>75%</th>\n",
              "      <td>14.000000</td>\n",
              "      <td>6.737500</td>\n",
              "      <td>8.96750</td>\n",
              "    </tr>\n",
              "    <tr>\n",
              "      <th>max</th>\n",
              "      <td>575.000000</td>\n",
              "      <td>246.470000</td>\n",
              "      <td>510.36000</td>\n",
              "    </tr>\n",
              "  </tbody>\n",
              "</table>\n",
              "</div>"
            ],
            "text/plain": [
              "            budget   first_week  tot_net_gross\n",
              "count  2797.000000  2466.000000     2963.00000\n",
              "mean     13.391911     9.523644       12.64578\n",
              "std      27.234132    22.247333       32.94777\n",
              "min       0.080000     0.003000        0.00500\n",
              "25%       1.250000     0.435000        0.23350\n",
              "50%       4.500000     1.871500        1.67500\n",
              "75%      14.000000     6.737500        8.96750\n",
              "max     575.000000   246.470000      510.36000"
            ]
          },
          "metadata": {
            "tags": []
          },
          "execution_count": 6
        }
      ]
    },
    {
      "cell_type": "code",
      "metadata": {
        "id": "OWwvPa-TciYq",
        "colab_type": "code",
        "colab": {
          "base_uri": "https://localhost:8080/",
          "height": 227
        },
        "outputId": "ee919881-4ca6-4d40-b9e9-ad1a6050b90b"
      },
      "source": [
        "df_sm.loc[0:,['budget','first_week','tot_net_gross']].hist(bins=50,figsize=(15,3), layout=(1,3));"
      ],
      "execution_count": 7,
      "outputs": [
        {
          "output_type": "display_data",
          "data": {
            "image/png": "[encoded data removed]",
            "text/plain": [
              "<Figure size 1080x216 with 3 Axes>"
            ]
          },
          "metadata": {
            "tags": [],
            "needs_background": "light"
          }
        }
      ]
    },
    {
      "cell_type": "code",
      "metadata": {
        "id": "0o17rKSfLKdS",
        "colab_type": "code",
        "colab": {
          "base_uri": "https://localhost:8080/",
          "height": 279
        },
        "outputId": "96b3ef02-1670-4694-a5cb-be989959afee"
      },
      "source": [
        "# These are highly skewed to the left and as a consequence the variables\n",
        "# highly intercorrelated because of the overwhelming majority of low values\n",
        "# (although technically shouldn't report this because of skew)\n",
        "\n",
        "corr_list = ['budget','first_week','tot_net_gross']\n",
        "corr = pd.DataFrame()\n",
        "for var1 in corr_list:\n",
        "    for var2 in corr_list:\n",
        "        corr.loc[var1, var2] = df_sm.corr().loc[var1, var2]\n",
        "sns.heatmap(corr, annot=True);"
      ],
      "execution_count": 8,
      "outputs": [
        {
          "output_type": "display_data",
          "data": {
            "image/png": "[encoded data removed]",
            "text/plain": [
              "<Figure size 432x288 with 2 Axes>"
            ]
          },
          "metadata": {
            "tags": [],
            "needs_background": "light"
          }
        }
      ]
    },
    {
      "cell_type": "code",
      "metadata": {
        "id": "8tqud9zi5YDI",
        "colab_type": "code",
        "colab": {
          "base_uri": "https://localhost:8080/",
          "height": 289
        },
        "outputId": "a9ebdb0f-935a-405b-8dea-a7b3e73870a3"
      },
      "source": [
        "# As a precursor to handling missing data, create and\n",
        "# insert the year the film was made\n",
        "\n",
        "# The requires converting the type of the release_date \n",
        "# from a (string) object to a 'datetime'. After the conversion,\n",
        "# insert a new column release_year (int) just after the release_date column\n",
        "\n",
        "import datetime\n",
        "release_year = pd.Series([])\n",
        "df_sm['release_date'] = pd.to_datetime(df_sm['release_date'])\n",
        "release_year = df_sm['release_date'].map(lambda x: int(x.strftime('%Y')))\n",
        "df_sm.insert(4, \"release_year\", release_year)\n",
        "df_sm.info()"
      ],
      "execution_count": 9,
      "outputs": [
        {
          "output_type": "stream",
          "text": [
            "<class 'pandas.core.frame.DataFrame'>\n",
            "RangeIndex: 2963 entries, 0 to 2962\n",
            "Data columns (total 9 columns):\n",
            " #   Column         Non-Null Count  Dtype         \n",
            "---  ------         --------------  -----         \n",
            " 0   film           2963 non-null   object        \n",
            " 1   id             2963 non-null   int64         \n",
            " 2   rank           2963 non-null   int64         \n",
            " 3   release_date   2963 non-null   datetime64[ns]\n",
            " 4   release_year   2963 non-null   int64         \n",
            " 5   verdict        2963 non-null   object        \n",
            " 6   budget         2797 non-null   float64       \n",
            " 7   first_week     2466 non-null   float64       \n",
            " 8   tot_net_gross  2963 non-null   float64       \n",
            "dtypes: datetime64[ns](1), float64(3), int64(3), object(2)\n",
            "memory usage: 208.5+ KB\n"
          ],
          "name": "stdout"
        }
      ]
    },
    {
      "cell_type": "code",
      "metadata": {
        "id": "P7xf-A7ac756",
        "colab_type": "code",
        "colab": {
          "base_uri": "https://localhost:8080/",
          "height": 281
        },
        "outputId": "859765c6-f382-4f2b-d6ce-cae0ef5402e3"
      },
      "source": [
        "# distribution of number of movies by year (1994-2019)\n",
        "df_sm['release_year'].value_counts().sort_index().plot(kind='bar');"
      ],
      "execution_count": 10,
      "outputs": [
        {
          "output_type": "display_data",
          "data": {
            "image/png": "[encoded data removed]",
            "text/plain": [
              "<Figure size 432x288 with 1 Axes>"
            ]
          },
          "metadata": {
            "tags": [],
            "needs_background": "light"
          }
        }
      ]
    },
    {
      "cell_type": "code",
      "metadata": {
        "id": "UXXqmNFhEOKw",
        "colab_type": "code",
        "colab": {
          "base_uri": "https://localhost:8080/",
          "height": 227
        },
        "outputId": "134a7ec9-b68c-421d-8c97-77a0887137da"
      },
      "source": [
        "# Question: do financial variables vary by release_year\n",
        "\n",
        "df_years_groups = df_sm.groupby(['release_year'])[['budget','first_week','tot_net_gross']].mean()\n",
        "#print(df_years_groups)\n",
        "\n",
        "fig, axs = plt.subplots(1, 3, figsize=(15,3))\n",
        "(ax1, ax2, ax3) = axs\n",
        "ax1.plot(df_years_groups.index, df_years_groups['budget'])\n",
        "ax1.set_title('budget')\n",
        "ax2.plot(df_years_groups.index, df_years_groups['first_week'])\n",
        "ax2.set_title('First Week Gross')\n",
        "ax3.plot(df_years_groups.index, df_years_groups['tot_net_gross'])\n",
        "ax3.set_title('Total Net Gross');"
      ],
      "execution_count": 11,
      "outputs": [
        {
          "output_type": "display_data",
          "data": {
            "image/png": "[encoded data removed]",
            "text/plain": [
              "<Figure size 1080x216 with 3 Axes>"
            ]
          },
          "metadata": {
            "tags": [],
            "needs_background": "light"
          }
        }
      ]
    },
    {
      "cell_type": "code",
      "metadata": {
        "id": "JdnkQB6kwBRs",
        "colab_type": "code",
        "colab": {}
      },
      "source": [
        "# Handling Missing Data\n",
        "\n",
        "# In this dataset there are only two variables with missing values -\n",
        "# budget and first_week revenues. There are variety of ways to\n",
        "# handle missing values:\n",
        "# 1. drop columns with missing values - not an option since both\n",
        "# columns are critical\n",
        "# 2. drop rows with missing values - there are 166 rows with missing\n",
        "# budgets and 497 with missing first_week revenues. This would eliminate\n",
        "# at least 500 rows (about 17%). Since financial data is skewed to the left\n",
        "# this would raise the budget and first_week figures\n",
        "# 3. impute a value for the missing values (e.g. use the overall mean or median\n",
        "# each variable). This would probably lower the figures.\n",
        "\n",
        "# Here, we've decided on a combination - eliminate the rows with missing first_week\n",
        "# revenues and impute values for the missing budgets using median values by year.\n",
        "\n",
        "# In both cases we've also decided to copy the original dataset and work with a\n",
        "# new version.  This way if we decide latter to alter the plan we don't have to \n",
        "# go back to square 1."
      ],
      "execution_count": 12,
      "outputs": []
    },
    {
      "cell_type": "code",
      "metadata": {
        "id": "m9ElMnz_mmg_",
        "colab_type": "code",
        "colab": {
          "base_uri": "https://localhost:8080/",
          "height": 586
        },
        "outputId": "15adb585-f2e7-4b60-ee1d-14b64da22ddc"
      },
      "source": [
        "# Step 1: Eliminate rows with missing first_week revenues\n",
        "# new dataframe is called df_sm_miss\n",
        "\n",
        "df_sm_miss = df_sm.copy(deep=True)\n",
        "df_sm_miss = df_sm_miss.dropna(subset=['first_week'])\n",
        "df_sm_miss.index = range(len(df_sm_miss.index))\n",
        "print(df_sm_miss.info())\n",
        "\n",
        "df_sm_miss_agg = df_sm_miss[['budget','first_week','tot_net_gross']].describe()\n",
        "df_sm_miss_agg"
      ],
      "execution_count": 13,
      "outputs": [
        {
          "output_type": "stream",
          "text": [
            "<class 'pandas.core.frame.DataFrame'>\n",
            "RangeIndex: 2466 entries, 0 to 2465\n",
            "Data columns (total 9 columns):\n",
            " #   Column         Non-Null Count  Dtype         \n",
            "---  ------         --------------  -----         \n",
            " 0   film           2466 non-null   object        \n",
            " 1   id             2466 non-null   int64         \n",
            " 2   rank           2466 non-null   int64         \n",
            " 3   release_date   2466 non-null   datetime64[ns]\n",
            " 4   release_year   2466 non-null   int64         \n",
            " 5   verdict        2466 non-null   object        \n",
            " 6   budget         2354 non-null   float64       \n",
            " 7   first_week     2466 non-null   float64       \n",
            " 8   tot_net_gross  2466 non-null   float64       \n",
            "dtypes: datetime64[ns](1), float64(3), int64(3), object(2)\n",
            "memory usage: 173.5+ KB\n",
            "None\n"
          ],
          "name": "stdout"
        },
        {
          "output_type": "execute_result",
          "data": {
            "text/html": [
              "<div>\n",
              "<style scoped>\n",
              "    .dataframe tbody tr th:only-of-type {\n",
              "        vertical-align: middle;\n",
              "    }\n",
              "\n",
              "    .dataframe tbody tr th {\n",
              "        vertical-align: top;\n",
              "    }\n",
              "\n",
              "    .dataframe thead th {\n",
              "        text-align: right;\n",
              "    }\n",
              "</style>\n",
              "<table border=\"1\" class=\"dataframe\">\n",
              "  <thead>\n",
              "    <tr style=\"text-align: right;\">\n",
              "      <th></th>\n",
              "      <th>budget</th>\n",
              "      <th>first_week</th>\n",
              "      <th>tot_net_gross</th>\n",
              "    </tr>\n",
              "  </thead>\n",
              "  <tbody>\n",
              "    <tr>\n",
              "      <th>count</th>\n",
              "      <td>2354.000000</td>\n",
              "      <td>2466.000000</td>\n",
              "      <td>2466.000000</td>\n",
              "    </tr>\n",
              "    <tr>\n",
              "      <th>mean</th>\n",
              "      <td>15.857508</td>\n",
              "      <td>9.523644</td>\n",
              "      <td>15.169829</td>\n",
              "    </tr>\n",
              "    <tr>\n",
              "      <th>std</th>\n",
              "      <td>29.033149</td>\n",
              "      <td>22.247333</td>\n",
              "      <td>35.586895</td>\n",
              "    </tr>\n",
              "    <tr>\n",
              "      <th>min</th>\n",
              "      <td>0.100000</td>\n",
              "      <td>0.003000</td>\n",
              "      <td>0.023000</td>\n",
              "    </tr>\n",
              "    <tr>\n",
              "      <th>25%</th>\n",
              "      <td>2.500000</td>\n",
              "      <td>0.435000</td>\n",
              "      <td>0.635750</td>\n",
              "    </tr>\n",
              "    <tr>\n",
              "      <th>50%</th>\n",
              "      <td>6.000000</td>\n",
              "      <td>1.871500</td>\n",
              "      <td>3.029000</td>\n",
              "    </tr>\n",
              "    <tr>\n",
              "      <th>75%</th>\n",
              "      <td>18.000000</td>\n",
              "      <td>6.737500</td>\n",
              "      <td>12.328750</td>\n",
              "    </tr>\n",
              "    <tr>\n",
              "      <th>max</th>\n",
              "      <td>575.000000</td>\n",
              "      <td>246.470000</td>\n",
              "      <td>510.360000</td>\n",
              "    </tr>\n",
              "  </tbody>\n",
              "</table>\n",
              "</div>"
            ],
            "text/plain": [
              "            budget   first_week  tot_net_gross\n",
              "count  2354.000000  2466.000000    2466.000000\n",
              "mean     15.857508     9.523644      15.169829\n",
              "std      29.033149    22.247333      35.586895\n",
              "min       0.100000     0.003000       0.023000\n",
              "25%       2.500000     0.435000       0.635750\n",
              "50%       6.000000     1.871500       3.029000\n",
              "75%      18.000000     6.737500      12.328750\n",
              "max     575.000000   246.470000     510.360000"
            ]
          },
          "metadata": {
            "tags": []
          },
          "execution_count": 13
        }
      ]
    },
    {
      "cell_type": "code",
      "metadata": {
        "id": "c_v00GhkWv3k",
        "colab_type": "code",
        "colab": {
          "base_uri": "https://localhost:8080/",
          "height": 34
        },
        "outputId": "05e2fea9-5081-4d62-d8fb-7f8a13b839d8"
      },
      "source": [
        "# number of budget values currently missing\n",
        "df_sm_miss['budget'].isna().sum()\n"
      ],
      "execution_count": 14,
      "outputs": [
        {
          "output_type": "execute_result",
          "data": {
            "text/plain": [
              "112"
            ]
          },
          "metadata": {
            "tags": []
          },
          "execution_count": 14
        }
      ]
    },
    {
      "cell_type": "code",
      "metadata": {
        "id": "NNwsPSj4nZ03",
        "colab_type": "code",
        "colab": {
          "base_uri": "https://localhost:8080/",
          "height": 297
        },
        "outputId": "13135766-e030-4cdb-cf43-aa7dc1e51f65"
      },
      "source": [
        "# Step 2 - imputing values for missing budget values\n",
        "# The imputed values are based on the median budget values\n",
        "# for the year the film has released\n",
        "\n",
        "# the current sample size is now 2466 vs. the original 2963\n",
        "# still substantially larger than the other studies\n",
        "\n",
        "df_sm_miss['budget'] = df_sm_miss['budget'].fillna(df_sm_miss.groupby('release_year')['budget'].transform('median'))\n",
        "\n",
        "df_sm_miss_agg = df_sm_miss[['budget','first_week','tot_net_gross']].describe()\n",
        "df_sm_miss_agg"
      ],
      "execution_count": 15,
      "outputs": [
        {
          "output_type": "execute_result",
          "data": {
            "text/html": [
              "<div>\n",
              "<style scoped>\n",
              "    .dataframe tbody tr th:only-of-type {\n",
              "        vertical-align: middle;\n",
              "    }\n",
              "\n",
              "    .dataframe tbody tr th {\n",
              "        vertical-align: top;\n",
              "    }\n",
              "\n",
              "    .dataframe thead th {\n",
              "        text-align: right;\n",
              "    }\n",
              "</style>\n",
              "<table border=\"1\" class=\"dataframe\">\n",
              "  <thead>\n",
              "    <tr style=\"text-align: right;\">\n",
              "      <th></th>\n",
              "      <th>budget</th>\n",
              "      <th>first_week</th>\n",
              "      <th>tot_net_gross</th>\n",
              "    </tr>\n",
              "  </thead>\n",
              "  <tbody>\n",
              "    <tr>\n",
              "      <th>count</th>\n",
              "      <td>2466.000000</td>\n",
              "      <td>2466.000000</td>\n",
              "      <td>2466.000000</td>\n",
              "    </tr>\n",
              "    <tr>\n",
              "      <th>mean</th>\n",
              "      <td>16.373915</td>\n",
              "      <td>9.523644</td>\n",
              "      <td>15.169829</td>\n",
              "    </tr>\n",
              "    <tr>\n",
              "      <th>std</th>\n",
              "      <td>28.488105</td>\n",
              "      <td>22.247333</td>\n",
              "      <td>35.586895</td>\n",
              "    </tr>\n",
              "    <tr>\n",
              "      <th>min</th>\n",
              "      <td>0.100000</td>\n",
              "      <td>0.003000</td>\n",
              "      <td>0.023000</td>\n",
              "    </tr>\n",
              "    <tr>\n",
              "      <th>25%</th>\n",
              "      <td>2.500000</td>\n",
              "      <td>0.435000</td>\n",
              "      <td>0.635750</td>\n",
              "    </tr>\n",
              "    <tr>\n",
              "      <th>50%</th>\n",
              "      <td>6.750000</td>\n",
              "      <td>1.871500</td>\n",
              "      <td>3.029000</td>\n",
              "    </tr>\n",
              "    <tr>\n",
              "      <th>75%</th>\n",
              "      <td>20.000000</td>\n",
              "      <td>6.737500</td>\n",
              "      <td>12.328750</td>\n",
              "    </tr>\n",
              "    <tr>\n",
              "      <th>max</th>\n",
              "      <td>575.000000</td>\n",
              "      <td>246.470000</td>\n",
              "      <td>510.360000</td>\n",
              "    </tr>\n",
              "  </tbody>\n",
              "</table>\n",
              "</div>"
            ],
            "text/plain": [
              "            budget   first_week  tot_net_gross\n",
              "count  2466.000000  2466.000000    2466.000000\n",
              "mean     16.373915     9.523644      15.169829\n",
              "std      28.488105    22.247333      35.586895\n",
              "min       0.100000     0.003000       0.023000\n",
              "25%       2.500000     0.435000       0.635750\n",
              "50%       6.750000     1.871500       3.029000\n",
              "75%      20.000000     6.737500      12.328750\n",
              "max     575.000000   246.470000     510.360000"
            ]
          },
          "metadata": {
            "tags": []
          },
          "execution_count": 15
        }
      ]
    },
    {
      "cell_type": "code",
      "metadata": {
        "id": "ZkOkCHpgdj3q",
        "colab_type": "code",
        "colab": {}
      },
      "source": [
        "#df_sm_miss.loc[0:,['budget','first_week','tot_net_gross']].hist(bins=50,figsize=(12,3), layout=(1,3));"
      ],
      "execution_count": 16,
      "outputs": []
    },
    {
      "cell_type": "code",
      "metadata": {
        "id": "0vijKyDWqxxY",
        "colab_type": "code",
        "colab": {}
      },
      "source": [
        "#df_sm_agg = df_sm[['budget','first_week', 'tot_net_gross']].describe()\n",
        "#df_agg = pd.concat([df_sm_miss_agg, df_sm_agg], axis=1, keys=('Missing','Original'))\n",
        "#df_agg"
      ],
      "execution_count": 17,
      "outputs": []
    },
    {
      "cell_type": "code",
      "metadata": {
        "id": "D6nB4zRrRyjO",
        "colab_type": "code",
        "colab": {}
      },
      "source": [
        "# Adjusting for Currency Inflation"
      ],
      "execution_count": 18,
      "outputs": []
    },
    {
      "cell_type": "code",
      "metadata": {
        "id": "szlS_qYlKjPG",
        "colab_type": "code",
        "colab": {
          "base_uri": "https://localhost:8080/",
          "height": 187
        },
        "outputId": "7b537853-0a8f-49db-b451-4c7a89d03067"
      },
      "source": [
        "# read consumer price index ratio for years between 1994 & 2019 with base year of 2020\n",
        "df_cpi = pd.read_csv(io.BytesIO(data_to_load['india_cpi_2020.txt']),sep='\\t')\n",
        "df_cpi.info()\n"
      ],
      "execution_count": 19,
      "outputs": [
        {
          "output_type": "stream",
          "text": [
            "<class 'pandas.core.frame.DataFrame'>\n",
            "RangeIndex: 27 entries, 0 to 26\n",
            "Data columns (total 3 columns):\n",
            " #   Column     Non-Null Count  Dtype  \n",
            "---  ------     --------------  -----  \n",
            " 0   Year       27 non-null     int64  \n",
            " 1   CPI        27 non-null     float64\n",
            " 2   CPI_Ratio  27 non-null     float64\n",
            "dtypes: float64(2), int64(1)\n",
            "memory usage: 776.0 bytes\n"
          ],
          "name": "stdout"
        }
      ]
    },
    {
      "cell_type": "code",
      "metadata": {
        "id": "YsfYJElzEz3z",
        "colab_type": "code",
        "colab": {
          "base_uri": "https://localhost:8080/",
          "height": 227
        },
        "outputId": "fd78c491-737f-4d6b-fa27-13113cd4f3d5"
      },
      "source": [
        "df_cpi.iloc[0:,0].head()\n",
        "\n",
        "fig, axs = plt.subplots(1, 2, figsize=(8,3))\n",
        "(ax1, ax2) = axs\n",
        "ax1.plot(df_cpi.iloc[0:,0], df_cpi.iloc[0:,1], color='blue')\n",
        "ax1.set_title('CPI')\n",
        "ax2.plot(df_cpi.iloc[0:,0], df_cpi.iloc[0:,2], color='green')\n",
        "ax2.set_title('CPI Ratio');"
      ],
      "execution_count": 20,
      "outputs": [
        {
          "output_type": "display_data",
          "data": {
            "image/png": "[encoded data removed]",
            "text/plain": [
              "<Figure size 576x216 with 2 Axes>"
            ]
          },
          "metadata": {
            "tags": [],
            "needs_background": "light"
          }
        }
      ]
    },
    {
      "cell_type": "code",
      "metadata": {
        "id": "b2U_jrQdqn4-",
        "colab_type": "code",
        "colab": {
          "base_uri": "https://localhost:8080/",
          "height": 54
        },
        "outputId": "5500bc62-cf27-4e5f-b7dd-b99ec670188e"
      },
      "source": [
        "# create a dictionary of CPI ratios with year as key\n",
        "dict_cpi = dict(zip(df_cpi.iloc[0:,0], df_cpi.iloc[0:,2]))\n",
        "print(dict_cpi)"
      ],
      "execution_count": 21,
      "outputs": [
        {
          "output_type": "stream",
          "text": [
            "{1994: 5.77, 1995: 5.27, 1996: 4.8, 1997: 4.35, 1998: 4.09, 1999: 3.55, 2000: 3.53, 2001: 3.41, 2002: 3.25, 2003: 3.15, 2004: 3.03, 2005: 2.92, 2006: 2.77, 2007: 2.6, 2008: 2.46, 2009: 2.25, 2010: 1.95, 2011: 1.78, 2012: 1.68, 2013: 1.51, 2014: 1.38, 2015: 1.3, 2016: 1.23, 2017: 1.2, 2018: 1.15, 2019: 1.1, 2020: 1.0}\n"
          ],
          "name": "stdout"
        }
      ]
    },
    {
      "cell_type": "code",
      "metadata": {
        "id": "gswJVpZR6fOa",
        "colab_type": "code",
        "colab": {}
      },
      "source": [
        "# adjust budget, first_week, tot_net_gross for inflation\n",
        "for i in range(df_sm_miss.shape[0]):\n",
        "  yr = df_sm_miss.loc[i,'release_year']\n",
        "  cpi_ratio = dict_cpi[yr]\n",
        "  df_sm_miss.loc[i,'budget_adjust'] = round(df_sm_miss.loc[i,'budget']*cpi_ratio,3)\n",
        "  df_sm_miss.loc[i,'first_week_adjust'] = round(df_sm_miss.loc[i,'first_week']*cpi_ratio,3)\n",
        "  df_sm_miss.loc[i,'tot_net_gross_adjust'] = round(df_sm_miss.loc[i,'tot_net_gross']*cpi_ratio,3)"
      ],
      "execution_count": 22,
      "outputs": []
    },
    {
      "cell_type": "code",
      "metadata": {
        "id": "4FiNqIPvLiCO",
        "colab_type": "code",
        "colab": {
          "base_uri": "https://localhost:8080/",
          "height": 510
        },
        "outputId": "28184e16-4bcc-4aad-c6fe-b91443c7dd67"
      },
      "source": [
        " print(df_sm_miss.info())\n",
        " print(df_sm_miss.loc[0:,'budget_adjust':].describe())"
      ],
      "execution_count": 23,
      "outputs": [
        {
          "output_type": "stream",
          "text": [
            "<class 'pandas.core.frame.DataFrame'>\n",
            "RangeIndex: 2466 entries, 0 to 2465\n",
            "Data columns (total 12 columns):\n",
            " #   Column                Non-Null Count  Dtype         \n",
            "---  ------                --------------  -----         \n",
            " 0   film                  2466 non-null   object        \n",
            " 1   id                    2466 non-null   int64         \n",
            " 2   rank                  2466 non-null   int64         \n",
            " 3   release_date          2466 non-null   datetime64[ns]\n",
            " 4   release_year          2466 non-null   int64         \n",
            " 5   verdict               2466 non-null   object        \n",
            " 6   budget                2466 non-null   float64       \n",
            " 7   first_week            2466 non-null   float64       \n",
            " 8   tot_net_gross         2466 non-null   float64       \n",
            " 9   budget_adjust         2466 non-null   float64       \n",
            " 10  first_week_adjust     2466 non-null   float64       \n",
            " 11  tot_net_gross_adjust  2466 non-null   float64       \n",
            "dtypes: datetime64[ns](1), float64(6), int64(3), object(2)\n",
            "memory usage: 231.3+ KB\n",
            "None\n",
            "       budget_adjust  first_week_adjust  tot_net_gross_adjust\n",
            "count    2466.000000        2466.000000           2466.000000\n",
            "mean       29.245084          16.309522             28.206402\n",
            "std        37.459103          29.969239             51.562994\n",
            "min         0.195000           0.006000              0.082000\n",
            "25%         7.905000           1.126750              1.588750\n",
            "50%        17.800000           5.425000              8.363500\n",
            "75%        35.750000          17.207250             31.681000\n",
            "max       661.250000         295.764000            612.432000\n"
          ],
          "name": "stdout"
        }
      ]
    },
    {
      "cell_type": "code",
      "metadata": {
        "id": "zxkOg4Otd1Cw",
        "colab_type": "code",
        "colab": {
          "base_uri": "https://localhost:8080/",
          "height": 227
        },
        "outputId": "6a1ac932-66f0-425a-ec57-cd6380089da9"
      },
      "source": [
        "df_sm_miss.loc[0:,['budget_adjust','first_week_adjust','tot_net_gross_adjust']].hist(bins=50,figsize=(12,3), layout=(1,3));"
      ],
      "execution_count": 24,
      "outputs": [
        {
          "output_type": "display_data",
          "data": {
            "image/png": "[encoded data removed]",
            "text/plain": [
              "<Figure size 864x216 with 3 Axes>"
            ]
          },
          "metadata": {
            "tags": [],
            "needs_background": "light"
          }
        }
      ]
    },
    {
      "cell_type": "code",
      "metadata": {
        "id": "Zdrn24z8Mnh3",
        "colab_type": "code",
        "colab": {}
      },
      "source": [
        "#df_sm_miss.loc[0:,'budget':].describe()\n",
        "#df_sm_miss[['budget','budget_adjust','first_week','first_week_adjust','tot_net_gross','tot_net_gross_adjust']].describe()"
      ],
      "execution_count": 25,
      "outputs": []
    },
    {
      "cell_type": "markdown",
      "metadata": {
        "id": "1LkwQNaEXtl8",
        "colab_type": "text"
      },
      "source": [
        ""
      ]
    },
    {
      "cell_type": "code",
      "metadata": {
        "id": "8UGqz3PsHLEq",
        "colab_type": "code",
        "colab": {
          "base_uri": "https://localhost:8080/",
          "height": 68
        },
        "outputId": "4c0bbb92-1f38-445f-e0e9-62da98334b26"
      },
      "source": [
        "from scipy.stats import kurtosis\n",
        "from scipy.stats import skew\n",
        "\n",
        "col_sel = ['budget_adjust','first_week_adjust','tot_net_gross_adjust',]\n",
        "for var in col_sel:\n",
        "  data = df_sm_miss[var]\n",
        "  print(var, round(skew(data),3), round(kurtosis(data),3))\n"
      ],
      "execution_count": 26,
      "outputs": [
        {
          "output_type": "stream",
          "text": [
            "budget_adjust 4.62 44.322\n",
            "first_week_adjust 3.999 21.114\n",
            "tot_net_gross_adjust 4.034 23.475\n"
          ],
          "name": "stdout"
        }
      ]
    },
    {
      "cell_type": "code",
      "metadata": {
        "id": "8ruMk9_bkACw",
        "colab_type": "code",
        "colab": {
          "base_uri": "https://localhost:8080/",
          "height": 362
        },
        "outputId": "257fe471-9b51-4443-d685-afee3cb5037a"
      },
      "source": [
        "corr_list = ['budget','budget_adjust','first_week','first_week_adjust','tot_net_gross','tot_net_gross_adjust']\n",
        "corr = pd.DataFrame()\n",
        "for var1 in corr_list:\n",
        "    for var2 in corr_list:\n",
        "        corr.loc[var1, var2] = df_sm_miss.corr().loc[var1, var2]\n",
        "sns.heatmap(corr, annot=True);"
      ],
      "execution_count": 27,
      "outputs": [
        {
          "output_type": "display_data",
          "data": {
            "image/png": "[encoded data removed]",
            "text/plain": [
              "<Figure size 432x288 with 2 Axes>"
            ]
          },
          "metadata": {
            "tags": [],
            "needs_background": "light"
          }
        }
      ]
    },
    {
      "cell_type": "code",
      "metadata": {
        "id": "6V9PiyOUYr4n",
        "colab_type": "code",
        "colab": {
          "base_uri": "https://localhost:8080/",
          "height": 421
        },
        "outputId": "5dab84f1-c700-4669-c073-e8838b1b911d"
      },
      "source": [
        "# Use a subset of films to demonstrate the change with adjustments to inflation\n",
        "# All Time Blockbusters\n",
        "\n",
        "df_sm_miss[df_sm_miss.verdict == 'All Time Blockbuster'][['film','rank','release_year','budget','budget_adjust','first_week','first_week_adjust','tot_net_gross','tot_net_gross_adjust']]"
      ],
      "execution_count": 28,
      "outputs": [
        {
          "output_type": "execute_result",
          "data": {
            "text/html": [
              "<div>\n",
              "<style scoped>\n",
              "    .dataframe tbody tr th:only-of-type {\n",
              "        vertical-align: middle;\n",
              "    }\n",
              "\n",
              "    .dataframe tbody tr th {\n",
              "        vertical-align: top;\n",
              "    }\n",
              "\n",
              "    .dataframe thead th {\n",
              "        text-align: right;\n",
              "    }\n",
              "</style>\n",
              "<table border=\"1\" class=\"dataframe\">\n",
              "  <thead>\n",
              "    <tr style=\"text-align: right;\">\n",
              "      <th></th>\n",
              "      <th>film</th>\n",
              "      <th>rank</th>\n",
              "      <th>release_year</th>\n",
              "      <th>budget</th>\n",
              "      <th>budget_adjust</th>\n",
              "      <th>first_week</th>\n",
              "      <th>first_week_adjust</th>\n",
              "      <th>tot_net_gross</th>\n",
              "      <th>tot_net_gross_adjust</th>\n",
              "    </tr>\n",
              "  </thead>\n",
              "  <tbody>\n",
              "    <tr>\n",
              "      <th>0</th>\n",
              "      <td>Hum Aapke Hain Koun..!</td>\n",
              "      <td>1</td>\n",
              "      <td>1994</td>\n",
              "      <td>6.25</td>\n",
              "      <td>36.062</td>\n",
              "      <td>0.680</td>\n",
              "      <td>3.924</td>\n",
              "      <td>72.465</td>\n",
              "      <td>418.123</td>\n",
              "    </tr>\n",
              "    <tr>\n",
              "      <th>1</th>\n",
              "      <td>Bahubali 2 - The Conclusion</td>\n",
              "      <td>2</td>\n",
              "      <td>2017</td>\n",
              "      <td>195.00</td>\n",
              "      <td>234.000</td>\n",
              "      <td>246.470</td>\n",
              "      <td>295.764</td>\n",
              "      <td>510.360</td>\n",
              "      <td>612.432</td>\n",
              "    </tr>\n",
              "    <tr>\n",
              "      <th>2</th>\n",
              "      <td>Gadar - Ek Prem Katha</td>\n",
              "      <td>3</td>\n",
              "      <td>2001</td>\n",
              "      <td>19.00</td>\n",
              "      <td>64.790</td>\n",
              "      <td>9.280</td>\n",
              "      <td>31.645</td>\n",
              "      <td>76.880</td>\n",
              "      <td>262.161</td>\n",
              "    </tr>\n",
              "    <tr>\n",
              "      <th>3</th>\n",
              "      <td>Dilwale Dulhania Le Jayenge</td>\n",
              "      <td>4</td>\n",
              "      <td>1995</td>\n",
              "      <td>4.00</td>\n",
              "      <td>21.080</td>\n",
              "      <td>3.373</td>\n",
              "      <td>17.776</td>\n",
              "      <td>53.313</td>\n",
              "      <td>280.960</td>\n",
              "    </tr>\n",
              "    <tr>\n",
              "      <th>4</th>\n",
              "      <td>Raja Hindustani</td>\n",
              "      <td>5</td>\n",
              "      <td>1996</td>\n",
              "      <td>5.75</td>\n",
              "      <td>27.600</td>\n",
              "      <td>3.650</td>\n",
              "      <td>17.520</td>\n",
              "      <td>43.145</td>\n",
              "      <td>207.096</td>\n",
              "    </tr>\n",
              "    <tr>\n",
              "      <th>5</th>\n",
              "      <td>Dangal</td>\n",
              "      <td>6</td>\n",
              "      <td>2016</td>\n",
              "      <td>132.00</td>\n",
              "      <td>162.360</td>\n",
              "      <td>192.380</td>\n",
              "      <td>236.627</td>\n",
              "      <td>374.530</td>\n",
              "      <td>460.672</td>\n",
              "    </tr>\n",
              "    <tr>\n",
              "      <th>6</th>\n",
              "      <td>Border</td>\n",
              "      <td>7</td>\n",
              "      <td>1997</td>\n",
              "      <td>10.00</td>\n",
              "      <td>43.500</td>\n",
              "      <td>6.190</td>\n",
              "      <td>26.926</td>\n",
              "      <td>39.455</td>\n",
              "      <td>171.629</td>\n",
              "    </tr>\n",
              "    <tr>\n",
              "      <th>7</th>\n",
              "      <td>Kuch Kuch Hota Hai</td>\n",
              "      <td>8</td>\n",
              "      <td>1998</td>\n",
              "      <td>10.00</td>\n",
              "      <td>40.900</td>\n",
              "      <td>5.640</td>\n",
              "      <td>23.068</td>\n",
              "      <td>46.865</td>\n",
              "      <td>191.678</td>\n",
              "    </tr>\n",
              "    <tr>\n",
              "      <th>8</th>\n",
              "      <td>Bajrangi Bhaijaan</td>\n",
              "      <td>9</td>\n",
              "      <td>2015</td>\n",
              "      <td>125.00</td>\n",
              "      <td>162.500</td>\n",
              "      <td>183.520</td>\n",
              "      <td>238.576</td>\n",
              "      <td>315.490</td>\n",
              "      <td>410.137</td>\n",
              "    </tr>\n",
              "    <tr>\n",
              "      <th>9</th>\n",
              "      <td>PK</td>\n",
              "      <td>10</td>\n",
              "      <td>2014</td>\n",
              "      <td>122.00</td>\n",
              "      <td>168.360</td>\n",
              "      <td>181.260</td>\n",
              "      <td>250.139</td>\n",
              "      <td>337.725</td>\n",
              "      <td>466.060</td>\n",
              "    </tr>\n",
              "    <tr>\n",
              "      <th>10</th>\n",
              "      <td>3 Idiots</td>\n",
              "      <td>11</td>\n",
              "      <td>2009</td>\n",
              "      <td>77.00</td>\n",
              "      <td>173.250</td>\n",
              "      <td>76.260</td>\n",
              "      <td>171.585</td>\n",
              "      <td>201.373</td>\n",
              "      <td>453.089</td>\n",
              "    </tr>\n",
              "    <tr>\n",
              "      <th>11</th>\n",
              "      <td>Dhoom 3</td>\n",
              "      <td>12</td>\n",
              "      <td>2013</td>\n",
              "      <td>175.00</td>\n",
              "      <td>264.250</td>\n",
              "      <td>173.120</td>\n",
              "      <td>261.411</td>\n",
              "      <td>260.630</td>\n",
              "      <td>393.551</td>\n",
              "    </tr>\n",
              "  </tbody>\n",
              "</table>\n",
              "</div>"
            ],
            "text/plain": [
              "                           film  rank  ...  tot_net_gross  tot_net_gross_adjust\n",
              "0        Hum Aapke Hain Koun..!     1  ...         72.465               418.123\n",
              "1   Bahubali 2 - The Conclusion     2  ...        510.360               612.432\n",
              "2         Gadar - Ek Prem Katha     3  ...         76.880               262.161\n",
              "3   Dilwale Dulhania Le Jayenge     4  ...         53.313               280.960\n",
              "4               Raja Hindustani     5  ...         43.145               207.096\n",
              "5                        Dangal     6  ...        374.530               460.672\n",
              "6                        Border     7  ...         39.455               171.629\n",
              "7            Kuch Kuch Hota Hai     8  ...         46.865               191.678\n",
              "8             Bajrangi Bhaijaan     9  ...        315.490               410.137\n",
              "9                            PK    10  ...        337.725               466.060\n",
              "10                     3 Idiots    11  ...        201.373               453.089\n",
              "11                      Dhoom 3    12  ...        260.630               393.551\n",
              "\n",
              "[12 rows x 9 columns]"
            ]
          },
          "metadata": {
            "tags": []
          },
          "execution_count": 28
        }
      ]
    },
    {
      "cell_type": "code",
      "metadata": {
        "id": "87zKd3ns-FCW",
        "colab_type": "code",
        "colab": {}
      },
      "source": [
        "# Calculate Other Measures of Success\n",
        "\n",
        "# In addition to the base and adjusted versions of gross revenue (first week, total net, etc.),\n",
        "# a variety of other measures have also been used (in previous studies).  As noted, some of these \n",
        "# involve  simple differences and ratios of gross revenues to budget. Two examples are:\n",
        "\n",
        "#   1.  If (P * total gross revenue - budget) > 0, then 'success'(1) else 'flop'(0) \n",
        "#       where 'P' represents the proportion of gross that remains after future costs\n",
        "#       (e.g. % of revenues payable to stars at a future date). They used .5 but should be\n",
        "#       higher since this is net gross revenue.\n",
        "#        \n",
        "#   2.  Let (gross_cost_ratio = total gross revenue)/budget.\n",
        "#       If x < c1 then 'low grossing'(1), elif x >= c2 then 'high grossing'(3), else 'moderate grossing'(2).\n",
        "#       Again, originally c1 = 1.5 and c2 = 2.5 but I would modify to something like 1.0 and 2.0.\n",
        "#\n",
        "#  Other studies focus on external critical evaluations of success. A case in point is the BOI 'verdict' variable\n",
        "#  in the current dataframe.  This is an ordinal variable whose (string) values are:\n",
        "#  'Disaster', 'Flop', 'Below Average', 'Average', 'Semi Hit', 'Hit', 'Super Hit', 'Blockbuster', 'All Time Blockbuster'\n",
        "#  These can be easily converted to numerical values (1-9) for use in ML modeling.\n",
        "#\n",
        "#  The task at hand is to create (numerical) measures for these three examples and add them as columns to the existing\n",
        "#  dataframe. Again, using standard pandas methods, briefly describe their distributions. Finally, using appropriate\n",
        "#  'association' measures for ordinal variables (e.g. Spearman's Rho), determine which, if any, is better as a measure\n",
        "#  of success. "
      ],
      "execution_count": 29,
      "outputs": []
    },
    {
      "cell_type": "code",
      "metadata": {
        "id": "f1LMHkRfglKd",
        "colab_type": "code",
        "colab": {
          "base_uri": "https://localhost:8080/",
          "height": 348
        },
        "outputId": "52ff2790-36bf-4555-cea1-a24a26b83f00"
      },
      "source": [
        "# Success based on profit = \n",
        "for i in range(0,df_sm_miss.shape[0]):\n",
        "  revenue = df_sm_miss.loc[i,'tot_net_gross_adjust']\n",
        "  budget = df_sm_miss.loc[i,'budget_adjust']\n",
        "  profit = (.8 * revenue) - budget\n",
        "  if profit > 0:\n",
        "    df_sm_miss.loc[i,'success_flop'] = 1 # success\n",
        "  else:\n",
        "    df_sm_miss.loc[i,'success_flop'] = 0 # flop\n",
        "\n",
        "print(df_sm_miss.success_flop.value_counts(),'\\n')\n",
        "ax = sns.countplot(x=\"success_flop\",data=df_sm_miss);"
      ],
      "execution_count": 30,
      "outputs": [
        {
          "output_type": "stream",
          "text": [
            "0.0    1972\n",
            "1.0     494\n",
            "Name: success_flop, dtype: int64 \n",
            "\n"
          ],
          "name": "stdout"
        },
        {
          "output_type": "display_data",
          "data": {
            "image/png": "[encoded data removed]",
            "text/plain": [
              "<Figure size 432x288 with 1 Axes>"
            ]
          },
          "metadata": {
            "tags": [],
            "needs_background": "light"
          }
        }
      ]
    },
    {
      "cell_type": "code",
      "metadata": {
        "id": "r9qMgpy-kBGM",
        "colab_type": "code",
        "colab": {
          "base_uri": "https://localhost:8080/",
          "height": 348
        },
        "outputId": "185c845d-c25d-4dbd-bedb-726bddeb7765"
      },
      "source": [
        "# Success measured by profit ratio = gross_rev/budget\n",
        "# 3 ordinal values: low = profit ratio - < 1.0; moderate - profit ratio >= 1.0 and < 2.0; high - >= 2.0\n",
        "\n",
        "for i in range(0,df_sm_miss.shape[0]):\n",
        "  revenue = df_sm_miss.loc[i,'tot_net_gross_adjust']\n",
        "  budget = df_sm_miss.loc[i,'budget_adjust']\n",
        "  profit_ratio = revenue/budget\n",
        "  if profit_ratio < 1.0:\n",
        "    df_sm_miss.loc[i,'profit_ratio'] = 1 # low grossing\n",
        "  elif profit_ratio >= 2.0:\n",
        "    df_sm_miss.loc[i,'profit_ratio'] = 3 # high grossing\n",
        "  else:\n",
        "    df_sm_miss.loc[i,'profit_ratio'] = 2 # moderate grossing\n",
        "\n",
        "print(df_sm_miss.profit_ratio.value_counts())\n",
        "ax = sns.countplot(x=\"profit_ratio\",data=df_sm_miss);"
      ],
      "execution_count": 31,
      "outputs": [
        {
          "output_type": "stream",
          "text": [
            "1.0    1766\n",
            "2.0     523\n",
            "3.0     177\n",
            "Name: profit_ratio, dtype: int64\n"
          ],
          "name": "stdout"
        },
        {
          "output_type": "display_data",
          "data": {
            "image/png": "[encoded data removed]",
            "text/plain": [
              "<Figure size 432x288 with 1 Axes>"
            ]
          },
          "metadata": {
            "tags": [],
            "needs_background": "light"
          }
        }
      ]
    },
    {
      "cell_type": "code",
      "metadata": {
        "id": "6K_MpGPR95I_",
        "colab_type": "code",
        "colab": {
          "base_uri": "https://localhost:8080/",
          "height": 450
        },
        "outputId": "6bf4d9fe-537b-4cb4-b6f7-e03c104adf2c"
      },
      "source": [
        "# Insert a new variable 'verdict_ranking' that assigns a numerical value 1-9\n",
        "# to the ordinal variable 'verdict' whose string values are:\n",
        "# 'Disaster', 'Flop', 'Below Average', 'Average', 'Semi Hit', 'Hit', 'Super Hit', 'Blockbuster', 'All Time Blockbuster'\n",
        "\n",
        "# read file containing verdicts and associated verdict ranks\n",
        "df_verdicts = pd.read_csv(io.BytesIO(data_to_load['verdict_ranks.txt']),sep='\\t')\n",
        "\n",
        "# create a dictionary associating verdicts with verdict ranks\n",
        "verdict_dict = dict(zip(df_verdicts.verdict, df_verdicts.verdict_rank))\n",
        "\n",
        "verdict_rank_list = []\n",
        "for i in range(df_sm_miss.shape[0]):\n",
        "  vrank = verdict_dict[df_sm_miss.loc[i, 'verdict']]\n",
        "  verdict_rank_list.append(vrank)\n",
        "\n",
        "df_sm_miss.insert(6, \"verdict_rank\", verdict_rank_list)\n",
        "\n",
        "print(df_sm_miss.verdict_rank.value_counts())\n",
        "ax = sns.countplot(x=\"verdict_rank\",data=df_sm_miss);"
      ],
      "execution_count": 32,
      "outputs": [
        {
          "output_type": "stream",
          "text": [
            "1    1247\n",
            "2     633\n",
            "6     132\n",
            "4     129\n",
            "5     102\n",
            "3      97\n",
            "7      72\n",
            "8      42\n",
            "9      12\n",
            "Name: verdict_rank, dtype: int64\n"
          ],
          "name": "stdout"
        },
        {
          "output_type": "display_data",
          "data": {
            "image/png": "[encoded data removed]",
            "text/plain": [
              "<Figure size 432x288 with 1 Axes>"
            ]
          },
          "metadata": {
            "tags": [],
            "needs_background": "light"
          }
        }
      ]
    },
    {
      "cell_type": "code",
      "metadata": {
        "id": "BeBL5Kufl47X",
        "colab_type": "code",
        "colab": {
          "base_uri": "https://localhost:8080/",
          "height": 340
        },
        "outputId": "d018b60c-35ed-4490-b30c-41569c9174ed"
      },
      "source": [
        "var_list = ['success_flop','profit_ratio','verdict_rank']\n",
        "for i in range(0,2):\n",
        "  var1= var_list[i]\n",
        "  for j in range(i+1,3):\n",
        "    var2 = var_list[j]\n",
        "    print(pd.crosstab(df_sm_miss.loc[0:,var1],df_sm_miss.loc[0:,var2], dropna = False, margins = True),'\\n')"
      ],
      "execution_count": 33,
      "outputs": [
        {
          "output_type": "stream",
          "text": [
            "profit_ratio   1.0  2.0  3.0   All\n",
            "success_flop                      \n",
            "0.0           1766  206    0  1972\n",
            "1.0              0  317  177   494\n",
            "All           1766  523  177  2466 \n",
            "\n",
            "verdict_rank     1    2   3    4    5    6   7   8   9   All\n",
            "success_flop                                                \n",
            "0.0           1246  586  57   51   17   12   2   1   0  1972\n",
            "1.0              1   47  40   78   85  120  70  41  12   494\n",
            "All           1247  633  97  129  102  132  72  42  12  2466 \n",
            "\n",
            "verdict_rank     1    2   3    4    5    6   7   8   9   All\n",
            "profit_ratio                                                \n",
            "1.0           1238  486  22    7    7    4   1   1   0  1766\n",
            "2.0              9  147  75  114   76   68  18  15   1   523\n",
            "3.0              0    0   0    8   19   60  53  26  11   177\n",
            "All           1247  633  97  129  102  132  72  42  12  2466 \n",
            "\n"
          ],
          "name": "stdout"
        }
      ]
    },
    {
      "cell_type": "code",
      "metadata": {
        "id": "AUrjqdaEjxm2",
        "colab_type": "code",
        "colab": {
          "base_uri": "https://localhost:8080/",
          "height": 274
        },
        "outputId": "681aa18a-0811-4df7-8505-4a5ca922734d"
      },
      "source": [
        "# Association among ordinal (categorical) measures of success\n",
        "# Spearman's Rho\n",
        "\n",
        "from scipy import stats\n",
        "\n",
        "var_list = ['success_flop','profit_ratio','verdict_rank']\n",
        "\n",
        "corr = pd.DataFrame()\n",
        "for var1 in var_list:\n",
        "    for var2 in var_list:\n",
        "        rho, pval = stats.spearmanr(df_sm_miss.loc[0:,var1],df_sm_miss.loc[0:,var2])\n",
        "        corr.loc[var1, var2] = rho\n",
        "sns.heatmap(corr, annot=True);"
      ],
      "execution_count": 34,
      "outputs": [
        {
          "output_type": "display_data",
          "data": {
            "image/png": "[encoded data removed]",
            "text/plain": [
              "<Figure size 432x288 with 2 Axes>"
            ]
          },
          "metadata": {
            "tags": [],
            "needs_background": "light"
          }
        }
      ]
    },
    {
      "cell_type": "code",
      "metadata": {
        "id": "I5hrD5-SpEUs",
        "colab_type": "code",
        "colab": {
          "base_uri": "https://localhost:8080/",
          "height": 391
        },
        "outputId": "a7379a0a-31a0-47b6-a18e-23455f71a67e"
      },
      "source": [
        "df_sm_miss.info()"
      ],
      "execution_count": 35,
      "outputs": [
        {
          "output_type": "stream",
          "text": [
            "<class 'pandas.core.frame.DataFrame'>\n",
            "RangeIndex: 2466 entries, 0 to 2465\n",
            "Data columns (total 15 columns):\n",
            " #   Column                Non-Null Count  Dtype         \n",
            "---  ------                --------------  -----         \n",
            " 0   film                  2466 non-null   object        \n",
            " 1   id                    2466 non-null   int64         \n",
            " 2   rank                  2466 non-null   int64         \n",
            " 3   release_date          2466 non-null   datetime64[ns]\n",
            " 4   release_year          2466 non-null   int64         \n",
            " 5   verdict               2466 non-null   object        \n",
            " 6   verdict_rank          2466 non-null   int64         \n",
            " 7   budget                2466 non-null   float64       \n",
            " 8   first_week            2466 non-null   float64       \n",
            " 9   tot_net_gross         2466 non-null   float64       \n",
            " 10  budget_adjust         2466 non-null   float64       \n",
            " 11  first_week_adjust     2466 non-null   float64       \n",
            " 12  tot_net_gross_adjust  2466 non-null   float64       \n",
            " 13  success_flop          2466 non-null   float64       \n",
            " 14  profit_ratio          2466 non-null   float64       \n",
            "dtypes: datetime64[ns](1), float64(8), int64(4), object(2)\n",
            "memory usage: 289.1+ KB\n"
          ],
          "name": "stdout"
        }
      ]
    },
    {
      "cell_type": "code",
      "metadata": {
        "id": "Cm6Dvqn4m3Gk",
        "colab_type": "code",
        "colab": {
          "base_uri": "https://localhost:8080/",
          "height": 561
        },
        "outputId": "03097c6a-28d3-4048-f119-1a1f8b4e99d2"
      },
      "source": [
        "# success_flop, profit_ratio, verdict_rank by 5 year groups\n",
        "# Adding five_year lower limits as column in dataframe\n",
        "\n",
        "yr_limits = [(1994,2000,1995),(2000,2005,2000),(2005,2010, 2005),(2010,2015,2010),(2015,2020,2015)]\n",
        "\n",
        "yr5_lower = []\n",
        "for i in range(df_sm_miss.shape[0]):\n",
        "  for yr_tup in yr_limits:\n",
        "    if (df_sm_miss.loc[i,'release_year'] >= yr_tup[0] and df_sm_miss.loc[i,'release_year'] < yr_tup[1]):\n",
        "      yr5_lower.append(yr_tup[2])\n",
        "\n",
        "df_sm_miss.insert(5, 'five_yr', yr5_lower)\n",
        "print(df_sm_miss.info(),'\\n')\n",
        "\n",
        "df_sm_miss.groupby('five_yr')['five_yr'].count()"
      ],
      "execution_count": 36,
      "outputs": [
        {
          "output_type": "stream",
          "text": [
            "<class 'pandas.core.frame.DataFrame'>\n",
            "RangeIndex: 2466 entries, 0 to 2465\n",
            "Data columns (total 16 columns):\n",
            " #   Column                Non-Null Count  Dtype         \n",
            "---  ------                --------------  -----         \n",
            " 0   film                  2466 non-null   object        \n",
            " 1   id                    2466 non-null   int64         \n",
            " 2   rank                  2466 non-null   int64         \n",
            " 3   release_date          2466 non-null   datetime64[ns]\n",
            " 4   release_year          2466 non-null   int64         \n",
            " 5   five_yr               2466 non-null   int64         \n",
            " 6   verdict               2466 non-null   object        \n",
            " 7   verdict_rank          2466 non-null   int64         \n",
            " 8   budget                2466 non-null   float64       \n",
            " 9   first_week            2466 non-null   float64       \n",
            " 10  tot_net_gross         2466 non-null   float64       \n",
            " 11  budget_adjust         2466 non-null   float64       \n",
            " 12  first_week_adjust     2466 non-null   float64       \n",
            " 13  tot_net_gross_adjust  2466 non-null   float64       \n",
            " 14  success_flop          2466 non-null   float64       \n",
            " 15  profit_ratio          2466 non-null   float64       \n",
            "dtypes: datetime64[ns](1), float64(8), int64(5), object(2)\n",
            "memory usage: 308.4+ KB\n",
            "None \n",
            "\n"
          ],
          "name": "stdout"
        },
        {
          "output_type": "execute_result",
          "data": {
            "text/plain": [
              "five_yr\n",
              "1995    475\n",
              "2000    478\n",
              "2005    526\n",
              "2010    544\n",
              "2015    443\n",
              "Name: five_yr, dtype: int64"
            ]
          },
          "metadata": {
            "tags": []
          },
          "execution_count": 36
        }
      ]
    },
    {
      "cell_type": "code",
      "metadata": {
        "id": "yOJwuklYrjxH",
        "colab_type": "code",
        "colab": {
          "base_uri": "https://localhost:8080/",
          "height": 510
        },
        "outputId": "3b920536-2878-48f5-b80a-ac6ed95154cf"
      },
      "source": [
        "\n",
        "# regardless of the ordinal variable, the percentage of poorly performing movies remained relatively\n",
        "# the same from 2000 on\n",
        "\n",
        "print(pd.crosstab(df_sm_miss['five_yr'],df_sm_miss['success_flop'],dropna = False,margins = True,normalize='index'),'\\n')\n",
        "print(pd.crosstab(df_sm_miss['five_yr'],df_sm_miss['profit_ratio'],dropna = False,margins = True,normalize='index'),'\\n')\n",
        "print(pd.crosstab(df_sm_miss['five_yr'],df_sm_miss['verdict_rank'],dropna = False,margins = True,normalize='index'),'\\n')\n",
        "\n"
      ],
      "execution_count": 38,
      "outputs": [
        {
          "output_type": "stream",
          "text": [
            "success_flop       0.0       1.0\n",
            "five_yr                         \n",
            "1995          0.631579  0.368421\n",
            "2000          0.849372  0.150628\n",
            "2005          0.855513  0.144487\n",
            "2010          0.825368  0.174632\n",
            "2015          0.828442  0.171558\n",
            "All           0.799676  0.200324 \n",
            "\n",
            "profit_ratio       1.0       2.0       3.0\n",
            "five_yr                                   \n",
            "1995          0.473684  0.387368  0.138947\n",
            "2000          0.763598  0.192469  0.043933\n",
            "2005          0.802281  0.157795  0.039924\n",
            "2010          0.770221  0.167279  0.062500\n",
            "2015          0.756208  0.164786  0.079007\n",
            "All           0.716139  0.212084  0.071776 \n",
            "\n",
            "verdict_rank         1         2         3  ...         7         8         9\n",
            "five_yr                                     ...                              \n",
            "1995          0.288421  0.416842  0.042105  ...  0.042105  0.016842  0.010526\n",
            "2000          0.569038  0.230126  0.046025  ...  0.012552  0.008368  0.002092\n",
            "2005          0.600760  0.195817  0.028517  ...  0.024715  0.013308  0.001901\n",
            "2010          0.555147  0.209559  0.042279  ...  0.027574  0.022059  0.003676\n",
            "2015          0.496614  0.243792  0.038375  ...  0.040632  0.024831  0.006772\n",
            "All           0.505677  0.256691  0.039335  ...  0.029197  0.017032  0.004866\n",
            "\n",
            "[6 rows x 9 columns] \n",
            "\n"
          ],
          "name": "stdout"
        }
      ]
    }
  ]
}