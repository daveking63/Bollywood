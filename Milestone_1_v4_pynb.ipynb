{
  "nbformat": 4,
  "nbformat_minor": 0,
  "metadata": {
    "colab": {
      "name": "Milestone_1_v4.pynb",
      "provenance": [],
      "collapsed_sections": [],
      "authorship_tag": "ABX9TyON1pd2VDTWRxscqhNeNg0o",
      "include_colab_link": true
    },
    "kernelspec": {
      "name": "python3",
      "display_name": "Python 3"
    }
  },
  "cells": [
    {
      "cell_type": "markdown",
      "metadata": {
        "id": "view-in-github",
        "colab_type": "text"
      },
      "source": [
        "<a href=\"https://colab.research.google.com/github/daveking63/Bollywood/blob/master/Milestone_1_v4_pynb.ipynb\" target=\"_parent\"><img src=\"https://colab.research.google.com/assets/colab-badge.svg\" alt=\"Open In Colab\"/></a>"
      ]
    },
    {
      "cell_type": "code",
      "metadata": {
        "id": "vIcMyLzxboPB",
        "colab_type": "code",
        "colab": {}
      },
      "source": [
        "import warnings\n",
        "warnings.filterwarnings('ignore')"
      ],
      "execution_count": 1,
      "outputs": []
    },
    {
      "cell_type": "code",
      "metadata": {
        "id": "fzz04hdTKznZ",
        "colab_type": "code",
        "colab": {
          "resources": {
            "http://localhost:8080/nbextensions/google.colab/files.js": {
              "data": "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",
              "ok": true,
              "headers": [
                [
                  "content-type",
                  "application/javascript"
                ]
              ],
              "status": 200,
              "status_text": ""
            }
          },
          "base_uri": "https://localhost:8080/",
          "height": 140
        },
        "outputId": "5e47526f-7403-4680-af70-02b1c26e40ad"
      },
      "source": [
        "from google.colab import files\n",
        "data_to_load = files.upload()"
      ],
      "execution_count": 2,
      "outputs": [
        {
          "output_type": "display_data",
          "data": {
            "text/html": [
              "\n",
              "     <input type=\"file\" id=\"files-7547c607-e321-4b6b-ab50-905c9fb3d783\" name=\"files[]\" multiple disabled\n",
              "        style=\"border:none\" />\n",
              "     <output id=\"result-7547c607-e321-4b6b-ab50-905c9fb3d783\">\n",
              "      Upload widget is only available when the cell has been executed in the\n",
              "      current browser session. Please rerun this cell to enable.\n",
              "      </output>\n",
              "      <script src=\"/nbextensions/google.colab/files.js\"></script> "
            ],
            "text/plain": [
              "<IPython.core.display.HTML object>"
            ]
          },
          "metadata": {
            "tags": []
          }
        },
        {
          "output_type": "stream",
          "text": [
            "Saving verdict_ranks.txt to verdict_ranks (5).txt\n",
            "Saving bw_success_measures.txt to bw_success_measures (10).txt\n",
            "Saving india_cpi_2020.txt to india_cpi_2020 (10).txt\n"
          ],
          "name": "stdout"
        }
      ]
    },
    {
      "cell_type": "code",
      "metadata": {
        "id": "IjpKvn6Z7Q1_",
        "colab_type": "code",
        "colab": {}
      },
      "source": [
        "import pandas as pd\n",
        "import numpy as np\n",
        "import seaborn as sns\n",
        "import matplotlib.pyplot as plt\n",
        "%matplotlib inline"
      ],
      "execution_count": 3,
      "outputs": []
    },
    {
      "cell_type": "code",
      "metadata": {
        "id": "FYeDayafSxj7",
        "colab_type": "code",
        "colab": {}
      },
      "source": [
        "import io\n",
        "df_sm = pd.read_csv(io.BytesIO(data_to_load['bw_success_measures.txt']),sep='\\t')"
      ],
      "execution_count": 4,
      "outputs": []
    },
    {
      "cell_type": "code",
      "metadata": {
        "id": "Tj87KOElL2uk",
        "colab_type": "code",
        "colab": {
          "base_uri": "https://localhost:8080/",
          "height": 272
        },
        "outputId": "01ffcd94-b1d4-4a64-da8a-73a6d8223295"
      },
      "source": [
        "# Total sample size, variables, missing values, data types for download file\n",
        "df_sm.info()"
      ],
      "execution_count": 5,
      "outputs": [
        {
          "output_type": "stream",
          "text": [
            "<class 'pandas.core.frame.DataFrame'>\n",
            "RangeIndex: 2963 entries, 0 to 2962\n",
            "Data columns (total 8 columns):\n",
            " #   Column         Non-Null Count  Dtype  \n",
            "---  ------         --------------  -----  \n",
            " 0   film           2963 non-null   object \n",
            " 1   id             2963 non-null   int64  \n",
            " 2   rank           2963 non-null   int64  \n",
            " 3   release_date   2963 non-null   object \n",
            " 4   verdict        2963 non-null   object \n",
            " 5   budget         2797 non-null   float64\n",
            " 6   first_week     2466 non-null   float64\n",
            " 7   tot_net_gross  2963 non-null   float64\n",
            "dtypes: float64(3), int64(2), object(3)\n",
            "memory usage: 185.3+ KB\n"
          ],
          "name": "stdout"
        }
      ]
    },
    {
      "cell_type": "code",
      "metadata": {
        "id": "HyunhOBFQ3no",
        "colab_type": "code",
        "colab": {
          "base_uri": "https://localhost:8080/",
          "height": 297
        },
        "outputId": "557cff04-851d-4c54-d00e-93fa1943a3ed"
      },
      "source": [
        "# Summary of aggregate measures for key financial (response/dependent) variables\n",
        "# mean, std, min ... all in Indian Crores (10M rupees)\n",
        "\n",
        "df_sm[['budget','first_week','tot_net_gross']].describe()"
      ],
      "execution_count": 6,
      "outputs": [
        {
          "output_type": "execute_result",
          "data": {
            "text/html": [
              "<div>\n",
              "<style scoped>\n",
              "    .dataframe tbody tr th:only-of-type {\n",
              "        vertical-align: middle;\n",
              "    }\n",
              "\n",
              "    .dataframe tbody tr th {\n",
              "        vertical-align: top;\n",
              "    }\n",
              "\n",
              "    .dataframe thead th {\n",
              "        text-align: right;\n",
              "    }\n",
              "</style>\n",
              "<table border=\"1\" class=\"dataframe\">\n",
              "  <thead>\n",
              "    <tr style=\"text-align: right;\">\n",
              "      <th></th>\n",
              "      <th>budget</th>\n",
              "      <th>first_week</th>\n",
              "      <th>tot_net_gross</th>\n",
              "    </tr>\n",
              "  </thead>\n",
              "  <tbody>\n",
              "    <tr>\n",
              "      <th>count</th>\n",
              "      <td>2797.000000</td>\n",
              "      <td>2466.000000</td>\n",
              "      <td>2963.00000</td>\n",
              "    </tr>\n",
              "    <tr>\n",
              "      <th>mean</th>\n",
              "      <td>13.391911</td>\n",
              "      <td>9.523644</td>\n",
              "      <td>12.64578</td>\n",
              "    </tr>\n",
              "    <tr>\n",
              "      <th>std</th>\n",
              "      <td>27.234132</td>\n",
              "      <td>22.247333</td>\n",
              "      <td>32.94777</td>\n",
              "    </tr>\n",
              "    <tr>\n",
              "      <th>min</th>\n",
              "      <td>0.080000</td>\n",
              "      <td>0.003000</td>\n",
              "      <td>0.00500</td>\n",
              "    </tr>\n",
              "    <tr>\n",
              "      <th>25%</th>\n",
              "      <td>1.250000</td>\n",
              "      <td>0.435000</td>\n",
              "      <td>0.23350</td>\n",
              "    </tr>\n",
              "    <tr>\n",
              "      <th>50%</th>\n",
              "      <td>4.500000</td>\n",
              "      <td>1.871500</td>\n",
              "      <td>1.67500</td>\n",
              "    </tr>\n",
              "    <tr>\n",
              "      <th>75%</th>\n",
              "      <td>14.000000</td>\n",
              "      <td>6.737500</td>\n",
              "      <td>8.96750</td>\n",
              "    </tr>\n",
              "    <tr>\n",
              "      <th>max</th>\n",
              "      <td>575.000000</td>\n",
              "      <td>246.470000</td>\n",
              "      <td>510.36000</td>\n",
              "    </tr>\n",
              "  </tbody>\n",
              "</table>\n",
              "</div>"
            ],
            "text/plain": [
              "            budget   first_week  tot_net_gross\n",
              "count  2797.000000  2466.000000     2963.00000\n",
              "mean     13.391911     9.523644       12.64578\n",
              "std      27.234132    22.247333       32.94777\n",
              "min       0.080000     0.003000        0.00500\n",
              "25%       1.250000     0.435000        0.23350\n",
              "50%       4.500000     1.871500        1.67500\n",
              "75%      14.000000     6.737500        8.96750\n",
              "max     575.000000   246.470000      510.36000"
            ]
          },
          "metadata": {
            "tags": []
          },
          "execution_count": 6
        }
      ]
    },
    {
      "cell_type": "code",
      "metadata": {
        "id": "OWwvPa-TciYq",
        "colab_type": "code",
        "colab": {
          "base_uri": "https://localhost:8080/",
          "height": 227
        },
        "outputId": "6bdae06c-2fee-498f-de9b-7879e075393d"
      },
      "source": [
        "df_sm.loc[0:,['budget','first_week','tot_net_gross']].hist(bins=50,figsize=(12,3), layout=(1,3));"
      ],
      "execution_count": 44,
      "outputs": [
        {
          "output_type": "display_data",
          "data": {
            "image/png": "[encoded data removed]",
            "text/plain": [
              "<Figure size 864x216 with 3 Axes>"
            ]
          },
          "metadata": {
            "tags": [],
            "needs_background": "light"
          }
        }
      ]
    },
    {
      "cell_type": "code",
      "metadata": {
        "id": "8tqud9zi5YDI",
        "colab_type": "code",
        "colab": {
          "base_uri": "https://localhost:8080/",
          "height": 289
        },
        "outputId": "07d0b15c-a213-49f1-ca54-1cbe41fcb9a9"
      },
      "source": [
        "# As a precursor to handling missing data create and\n",
        "# insert the year the film was made and a numerical\n",
        "# variable representing the values for the ordinal variable 'verdict'\n",
        "\n",
        "# Convert the release_date to 'datetime', then insert\n",
        "# a new column release_year (int)\n",
        "\n",
        "import datetime\n",
        "release_year = pd.Series([])\n",
        "df_sm['release_date'] = pd.to_datetime(df_sm['release_date'])\n",
        "release_year = df_sm['release_date'].map(lambda x: int(x.strftime('%Y')))\n",
        "df_sm.insert(4, \"release_year\", release_year)\n",
        "df_sm.info()"
      ],
      "execution_count": 7,
      "outputs": [
        {
          "output_type": "stream",
          "text": [
            "<class 'pandas.core.frame.DataFrame'>\n",
            "RangeIndex: 2963 entries, 0 to 2962\n",
            "Data columns (total 9 columns):\n",
            " #   Column         Non-Null Count  Dtype         \n",
            "---  ------         --------------  -----         \n",
            " 0   film           2963 non-null   object        \n",
            " 1   id             2963 non-null   int64         \n",
            " 2   rank           2963 non-null   int64         \n",
            " 3   release_date   2963 non-null   datetime64[ns]\n",
            " 4   release_year   2963 non-null   int64         \n",
            " 5   verdict        2963 non-null   object        \n",
            " 6   budget         2797 non-null   float64       \n",
            " 7   first_week     2466 non-null   float64       \n",
            " 8   tot_net_gross  2963 non-null   float64       \n",
            "dtypes: datetime64[ns](1), float64(3), int64(3), object(2)\n",
            "memory usage: 208.5+ KB\n"
          ],
          "name": "stdout"
        }
      ]
    },
    {
      "cell_type": "code",
      "metadata": {
        "id": "P7xf-A7ac756",
        "colab_type": "code",
        "colab": {
          "base_uri": "https://localhost:8080/",
          "height": 227
        },
        "outputId": "37074fb4-549a-40de-ecf3-0903136e9f28"
      },
      "source": [
        "df_sm.loc[0:,['release_year']].hist(bins=50,figsize=(12,3), layout=(1,3));"
      ],
      "execution_count": 45,
      "outputs": [
        {
          "output_type": "display_data",
          "data": {
            "image/png": "[encoded data removed]",
            "text/plain": [
              "<Figure size 864x216 with 3 Axes>"
            ]
          },
          "metadata": {
            "tags": [],
            "needs_background": "light"
          }
        }
      ]
    },
    {
      "cell_type": "code",
      "metadata": {
        "id": "6K_MpGPR95I_",
        "colab_type": "code",
        "colab": {
          "base_uri": "https://localhost:8080/",
          "height": 323
        },
        "outputId": "b3898488-a8dd-4825-d767-f977d7e3bca6"
      },
      "source": [
        "# Insert a new variable 'verdict_ranking' that assigns a numerical value 1-9\n",
        "# to the ordinal variable 'verdict' whose string values are:\n",
        "# Disaster, Flop, Below Average, Average, Semi Hit, Hit, Super Hit, Blockbuster, All Time Blockbuster\n",
        "\n",
        "# read file containing verdicts and associated verdict ranks\n",
        "df_verdicts = pd.read_csv(io.BytesIO(data_to_load['verdict_ranks.txt']),sep='\\t')\n",
        "\n",
        "# create a dictionary associating verdicts with verdict ranks\n",
        "verdict_dict = dict(zip(df_verdicts.verdict, df_verdicts.verdict_rank))\n",
        "\n",
        "verdict_rank_list = []\n",
        "for i in range(df_sm.shape[0]):\n",
        "  vrank = verdict_dict[df_sm.loc[i, 'verdict']]\n",
        "  verdict_rank_list.append(vrank)\n",
        "\n",
        "df_sm.insert(6, \"verdict_rank\", verdict_rank_list)\n",
        "print(df_sm.info())"
      ],
      "execution_count": 8,
      "outputs": [
        {
          "output_type": "stream",
          "text": [
            "<class 'pandas.core.frame.DataFrame'>\n",
            "RangeIndex: 2963 entries, 0 to 2962\n",
            "Data columns (total 10 columns):\n",
            " #   Column         Non-Null Count  Dtype         \n",
            "---  ------         --------------  -----         \n",
            " 0   film           2963 non-null   object        \n",
            " 1   id             2963 non-null   int64         \n",
            " 2   rank           2963 non-null   int64         \n",
            " 3   release_date   2963 non-null   datetime64[ns]\n",
            " 4   release_year   2963 non-null   int64         \n",
            " 5   verdict        2963 non-null   object        \n",
            " 6   verdict_rank   2963 non-null   int64         \n",
            " 7   budget         2797 non-null   float64       \n",
            " 8   first_week     2466 non-null   float64       \n",
            " 9   tot_net_gross  2963 non-null   float64       \n",
            "dtypes: datetime64[ns](1), float64(3), int64(4), object(2)\n",
            "memory usage: 231.6+ KB\n",
            "None\n"
          ],
          "name": "stdout"
        }
      ]
    },
    {
      "cell_type": "code",
      "metadata": {
        "id": "x2L2VODUdLa-",
        "colab_type": "code",
        "colab": {
          "base_uri": "https://localhost:8080/",
          "height": 227
        },
        "outputId": "3799ead7-178d-4a8a-ef25-9f1dac64ed54"
      },
      "source": [
        "df_sm.loc[0:,['verdict_rank']].hist(bins=50,figsize=(12,3), layout=(1,3));"
      ],
      "execution_count": 46,
      "outputs": [
        {
          "output_type": "display_data",
          "data": {
            "image/png": "[encoded data removed]",
            "text/plain": [
              "<Figure size 864x216 with 3 Axes>"
            ]
          },
          "metadata": {
            "tags": [],
            "needs_background": "light"
          }
        }
      ]
    },
    {
      "cell_type": "code",
      "metadata": {
        "id": "JdnkQB6kwBRs",
        "colab_type": "code",
        "colab": {
          "base_uri": "https://localhost:8080/",
          "height": 603
        },
        "outputId": "8e141d00-9f3f-4359-bb0d-7e901f0d4250"
      },
      "source": [
        "# Handling Missing Data\n",
        "\n",
        "# Option 1:\n",
        "# Drop rows with missing budget or first_week\n",
        "# There are 166 rows or films missing budget data and 497 missing first_week revenues\n",
        "# Decision is to drop the rows with missing first_week revenues\n",
        "\n",
        "df_sm_miss = df_sm.copy(deep=True)\n",
        "df_sm_miss = df_sm_miss.dropna(subset=['first_week'])\n",
        "df_sm_miss.index = range(len(df_sm_miss.index))\n",
        "print(df_sm_miss.info())\n",
        "\n",
        "df_sm_miss_agg = df_sm_miss[['budget','first_week','tot_net_gross']].describe()\n",
        "df_sm_miss_agg"
      ],
      "execution_count": 14,
      "outputs": [
        {
          "output_type": "stream",
          "text": [
            "<class 'pandas.core.frame.DataFrame'>\n",
            "RangeIndex: 2466 entries, 0 to 2465\n",
            "Data columns (total 10 columns):\n",
            " #   Column         Non-Null Count  Dtype         \n",
            "---  ------         --------------  -----         \n",
            " 0   film           2466 non-null   object        \n",
            " 1   id             2466 non-null   int64         \n",
            " 2   rank           2466 non-null   int64         \n",
            " 3   release_date   2466 non-null   datetime64[ns]\n",
            " 4   release_year   2466 non-null   int64         \n",
            " 5   verdict        2466 non-null   object        \n",
            " 6   verdict_rank   2466 non-null   int64         \n",
            " 7   budget         2354 non-null   float64       \n",
            " 8   first_week     2466 non-null   float64       \n",
            " 9   tot_net_gross  2466 non-null   float64       \n",
            "dtypes: datetime64[ns](1), float64(3), int64(4), object(2)\n",
            "memory usage: 192.8+ KB\n",
            "None\n"
          ],
          "name": "stdout"
        },
        {
          "output_type": "execute_result",
          "data": {
            "text/html": [
              "<div>\n",
              "<style scoped>\n",
              "    .dataframe tbody tr th:only-of-type {\n",
              "        vertical-align: middle;\n",
              "    }\n",
              "\n",
              "    .dataframe tbody tr th {\n",
              "        vertical-align: top;\n",
              "    }\n",
              "\n",
              "    .dataframe thead th {\n",
              "        text-align: right;\n",
              "    }\n",
              "</style>\n",
              "<table border=\"1\" class=\"dataframe\">\n",
              "  <thead>\n",
              "    <tr style=\"text-align: right;\">\n",
              "      <th></th>\n",
              "      <th>budget</th>\n",
              "      <th>first_week</th>\n",
              "      <th>tot_net_gross</th>\n",
              "    </tr>\n",
              "  </thead>\n",
              "  <tbody>\n",
              "    <tr>\n",
              "      <th>count</th>\n",
              "      <td>2354.000000</td>\n",
              "      <td>2466.000000</td>\n",
              "      <td>2466.000000</td>\n",
              "    </tr>\n",
              "    <tr>\n",
              "      <th>mean</th>\n",
              "      <td>15.857508</td>\n",
              "      <td>9.523644</td>\n",
              "      <td>15.169829</td>\n",
              "    </tr>\n",
              "    <tr>\n",
              "      <th>std</th>\n",
              "      <td>29.033149</td>\n",
              "      <td>22.247333</td>\n",
              "      <td>35.586895</td>\n",
              "    </tr>\n",
              "    <tr>\n",
              "      <th>min</th>\n",
              "      <td>0.100000</td>\n",
              "      <td>0.003000</td>\n",
              "      <td>0.023000</td>\n",
              "    </tr>\n",
              "    <tr>\n",
              "      <th>25%</th>\n",
              "      <td>2.500000</td>\n",
              "      <td>0.435000</td>\n",
              "      <td>0.635750</td>\n",
              "    </tr>\n",
              "    <tr>\n",
              "      <th>50%</th>\n",
              "      <td>6.000000</td>\n",
              "      <td>1.871500</td>\n",
              "      <td>3.029000</td>\n",
              "    </tr>\n",
              "    <tr>\n",
              "      <th>75%</th>\n",
              "      <td>18.000000</td>\n",
              "      <td>6.737500</td>\n",
              "      <td>12.328750</td>\n",
              "    </tr>\n",
              "    <tr>\n",
              "      <th>max</th>\n",
              "      <td>575.000000</td>\n",
              "      <td>246.470000</td>\n",
              "      <td>510.360000</td>\n",
              "    </tr>\n",
              "  </tbody>\n",
              "</table>\n",
              "</div>"
            ],
            "text/plain": [
              "            budget   first_week  tot_net_gross\n",
              "count  2354.000000  2466.000000    2466.000000\n",
              "mean     15.857508     9.523644      15.169829\n",
              "std      29.033149    22.247333      35.586895\n",
              "min       0.100000     0.003000       0.023000\n",
              "25%       2.500000     0.435000       0.635750\n",
              "50%       6.000000     1.871500       3.029000\n",
              "75%      18.000000     6.737500      12.328750\n",
              "max     575.000000   246.470000     510.360000"
            ]
          },
          "metadata": {
            "tags": []
          },
          "execution_count": 14
        }
      ]
    },
    {
      "cell_type": "code",
      "metadata": {
        "id": "aD2E5Szeikxv",
        "colab_type": "code",
        "colab": {
          "base_uri": "https://localhost:8080/",
          "height": 476
        },
        "outputId": "0d832bd7-6e0a-4425-8bcc-a9496a86fa08"
      },
      "source": [
        "# Option 2 - imputing values for rows missing\n",
        "# budget values. The imputed values are based on\n",
        "# mean budget values for each 'verdict_rank'\n",
        "print('Original dataframe')\n",
        "print(df_sm.groupby('verdict_rank')[['budget']].agg(['mean','median','count']),'\\n')\n",
        "print('With rows missing first_week revenues')\n",
        "print(df_sm_miss.groupby('verdict_rank')[['budget']].agg(['mean','median','count']))"
      ],
      "execution_count": 17,
      "outputs": [
        {
          "output_type": "stream",
          "text": [
            "Original dataframe\n",
            "                 budget             \n",
            "                   mean median count\n",
            "verdict_rank                        \n",
            "1              5.793394   2.00  1560\n",
            "2             16.177686   7.75   644\n",
            "3             17.383663   9.50   101\n",
            "4             19.617803  11.00   132\n",
            "5             26.372549  13.00   102\n",
            "6             33.639015  20.50   132\n",
            "7             41.203472  24.50    72\n",
            "8             63.755952  41.50    42\n",
            "9             73.416667  48.00    12 \n",
            "\n",
            "With rows missing first_week revenues\n",
            "                 budget             \n",
            "                   mean median count\n",
            "verdict_rank                        \n",
            "1              7.819864    4.0  1140\n",
            "2             16.558156    8.0   629\n",
            "3             18.088144    9.5    97\n",
            "4             20.068217   12.0   129\n",
            "5             26.631188   13.0   101\n",
            "6             33.639015   20.5   132\n",
            "7             41.203472   24.5    72\n",
            "8             63.755952   41.5    42\n",
            "9             73.416667   48.0    12\n"
          ],
          "name": "stdout"
        }
      ]
    },
    {
      "cell_type": "code",
      "metadata": {
        "id": "c_v00GhkWv3k",
        "colab_type": "code",
        "colab": {
          "base_uri": "https://localhost:8080/",
          "height": 34
        },
        "outputId": "2a3357f5-7428-498f-de3b-afdb2d1a7dd3"
      },
      "source": [
        "df_sm_miss['budget'].isna().sum()\n"
      ],
      "execution_count": 18,
      "outputs": [
        {
          "output_type": "execute_result",
          "data": {
            "text/plain": [
              "112"
            ]
          },
          "metadata": {
            "tags": []
          },
          "execution_count": 18
        }
      ]
    },
    {
      "cell_type": "code",
      "metadata": {
        "id": "NNwsPSj4nZ03",
        "colab_type": "code",
        "colab": {
          "base_uri": "https://localhost:8080/",
          "height": 297
        },
        "outputId": "c9e8576a-6d28-4056-fa0a-01ee83460dac"
      },
      "source": [
        "# Substitute median budget from verdict_rank for missing budget values\n",
        "df_sm_miss['budget'] = df_sm_miss['budget'].fillna(df_sm_miss.groupby('verdict_rank')['budget'].transform('median'))\n",
        "#df_sm_miss['budget'] = df_sm_miss.groupby('verdict')['budget'].transform(lambda grp: grp.fillna(np.median(grp)))\n",
        "df_sm_miss_agg = df_sm_miss[['budget','first_week','tot_net_gross']].describe()\n",
        "df_sm_miss_agg"
      ],
      "execution_count": 19,
      "outputs": [
        {
          "output_type": "execute_result",
          "data": {
            "text/html": [
              "<div>\n",
              "<style scoped>\n",
              "    .dataframe tbody tr th:only-of-type {\n",
              "        vertical-align: middle;\n",
              "    }\n",
              "\n",
              "    .dataframe tbody tr th {\n",
              "        vertical-align: top;\n",
              "    }\n",
              "\n",
              "    .dataframe thead th {\n",
              "        text-align: right;\n",
              "    }\n",
              "</style>\n",
              "<table border=\"1\" class=\"dataframe\">\n",
              "  <thead>\n",
              "    <tr style=\"text-align: right;\">\n",
              "      <th></th>\n",
              "      <th>budget</th>\n",
              "      <th>first_week</th>\n",
              "      <th>tot_net_gross</th>\n",
              "    </tr>\n",
              "  </thead>\n",
              "  <tbody>\n",
              "    <tr>\n",
              "      <th>count</th>\n",
              "      <td>2466.000000</td>\n",
              "      <td>2466.000000</td>\n",
              "      <td>2466.000000</td>\n",
              "    </tr>\n",
              "    <tr>\n",
              "      <th>mean</th>\n",
              "      <td>15.329106</td>\n",
              "      <td>9.523644</td>\n",
              "      <td>15.169829</td>\n",
              "    </tr>\n",
              "    <tr>\n",
              "      <th>std</th>\n",
              "      <td>28.470193</td>\n",
              "      <td>22.247333</td>\n",
              "      <td>35.586895</td>\n",
              "    </tr>\n",
              "    <tr>\n",
              "      <th>min</th>\n",
              "      <td>0.100000</td>\n",
              "      <td>0.003000</td>\n",
              "      <td>0.023000</td>\n",
              "    </tr>\n",
              "    <tr>\n",
              "      <th>25%</th>\n",
              "      <td>2.500000</td>\n",
              "      <td>0.435000</td>\n",
              "      <td>0.635750</td>\n",
              "    </tr>\n",
              "    <tr>\n",
              "      <th>50%</th>\n",
              "      <td>5.750000</td>\n",
              "      <td>1.871500</td>\n",
              "      <td>3.029000</td>\n",
              "    </tr>\n",
              "    <tr>\n",
              "      <th>75%</th>\n",
              "      <td>17.000000</td>\n",
              "      <td>6.737500</td>\n",
              "      <td>12.328750</td>\n",
              "    </tr>\n",
              "    <tr>\n",
              "      <th>max</th>\n",
              "      <td>575.000000</td>\n",
              "      <td>246.470000</td>\n",
              "      <td>510.360000</td>\n",
              "    </tr>\n",
              "  </tbody>\n",
              "</table>\n",
              "</div>"
            ],
            "text/plain": [
              "            budget   first_week  tot_net_gross\n",
              "count  2466.000000  2466.000000    2466.000000\n",
              "mean     15.329106     9.523644      15.169829\n",
              "std      28.470193    22.247333      35.586895\n",
              "min       0.100000     0.003000       0.023000\n",
              "25%       2.500000     0.435000       0.635750\n",
              "50%       5.750000     1.871500       3.029000\n",
              "75%      17.000000     6.737500      12.328750\n",
              "max     575.000000   246.470000     510.360000"
            ]
          },
          "metadata": {
            "tags": []
          },
          "execution_count": 19
        }
      ]
    },
    {
      "cell_type": "code",
      "metadata": {
        "id": "ZkOkCHpgdj3q",
        "colab_type": "code",
        "colab": {
          "base_uri": "https://localhost:8080/",
          "height": 227
        },
        "outputId": "7d21e810-bfe9-44df-8424-84ccebd80eff"
      },
      "source": [
        "df_sm_miss.loc[0:,['budget','first_week','tot_net_gross']].hist(bins=50,figsize=(12,3), layout=(1,3));"
      ],
      "execution_count": 47,
      "outputs": [
        {
          "output_type": "display_data",
          "data": {
            "image/png": "[encoded data removed]",
            "text/plain": [
              "<Figure size 864x216 with 3 Axes>"
            ]
          },
          "metadata": {
            "tags": [],
            "needs_background": "light"
          }
        }
      ]
    },
    {
      "cell_type": "code",
      "metadata": {
        "id": "0vijKyDWqxxY",
        "colab_type": "code",
        "colab": {
          "base_uri": "https://localhost:8080/",
          "height": 328
        },
        "outputId": "701008e3-9103-4261-c427-048b941e0211"
      },
      "source": [
        "df_sm_agg = df_sm[['budget','first_week', 'tot_net_gross']].describe()\n",
        "df_agg = pd.concat([df_sm_miss_agg, df_sm_agg], axis=1, keys=('Missing','Original'))\n",
        "df_agg"
      ],
      "execution_count": 20,
      "outputs": [
        {
          "output_type": "execute_result",
          "data": {
            "text/html": [
              "<div>\n",
              "<style scoped>\n",
              "    .dataframe tbody tr th:only-of-type {\n",
              "        vertical-align: middle;\n",
              "    }\n",
              "\n",
              "    .dataframe tbody tr th {\n",
              "        vertical-align: top;\n",
              "    }\n",
              "\n",
              "    .dataframe thead tr th {\n",
              "        text-align: left;\n",
              "    }\n",
              "</style>\n",
              "<table border=\"1\" class=\"dataframe\">\n",
              "  <thead>\n",
              "    <tr>\n",
              "      <th></th>\n",
              "      <th colspan=\"3\" halign=\"left\">Missing</th>\n",
              "      <th colspan=\"3\" halign=\"left\">Original</th>\n",
              "    </tr>\n",
              "    <tr>\n",
              "      <th></th>\n",
              "      <th>budget</th>\n",
              "      <th>first_week</th>\n",
              "      <th>tot_net_gross</th>\n",
              "      <th>budget</th>\n",
              "      <th>first_week</th>\n",
              "      <th>tot_net_gross</th>\n",
              "    </tr>\n",
              "  </thead>\n",
              "  <tbody>\n",
              "    <tr>\n",
              "      <th>count</th>\n",
              "      <td>2466.000000</td>\n",
              "      <td>2466.000000</td>\n",
              "      <td>2466.000000</td>\n",
              "      <td>2797.000000</td>\n",
              "      <td>2466.000000</td>\n",
              "      <td>2963.00000</td>\n",
              "    </tr>\n",
              "    <tr>\n",
              "      <th>mean</th>\n",
              "      <td>15.329106</td>\n",
              "      <td>9.523644</td>\n",
              "      <td>15.169829</td>\n",
              "      <td>13.391911</td>\n",
              "      <td>9.523644</td>\n",
              "      <td>12.64578</td>\n",
              "    </tr>\n",
              "    <tr>\n",
              "      <th>std</th>\n",
              "      <td>28.470193</td>\n",
              "      <td>22.247333</td>\n",
              "      <td>35.586895</td>\n",
              "      <td>27.234132</td>\n",
              "      <td>22.247333</td>\n",
              "      <td>32.94777</td>\n",
              "    </tr>\n",
              "    <tr>\n",
              "      <th>min</th>\n",
              "      <td>0.100000</td>\n",
              "      <td>0.003000</td>\n",
              "      <td>0.023000</td>\n",
              "      <td>0.080000</td>\n",
              "      <td>0.003000</td>\n",
              "      <td>0.00500</td>\n",
              "    </tr>\n",
              "    <tr>\n",
              "      <th>25%</th>\n",
              "      <td>2.500000</td>\n",
              "      <td>0.435000</td>\n",
              "      <td>0.635750</td>\n",
              "      <td>1.250000</td>\n",
              "      <td>0.435000</td>\n",
              "      <td>0.23350</td>\n",
              "    </tr>\n",
              "    <tr>\n",
              "      <th>50%</th>\n",
              "      <td>5.750000</td>\n",
              "      <td>1.871500</td>\n",
              "      <td>3.029000</td>\n",
              "      <td>4.500000</td>\n",
              "      <td>1.871500</td>\n",
              "      <td>1.67500</td>\n",
              "    </tr>\n",
              "    <tr>\n",
              "      <th>75%</th>\n",
              "      <td>17.000000</td>\n",
              "      <td>6.737500</td>\n",
              "      <td>12.328750</td>\n",
              "      <td>14.000000</td>\n",
              "      <td>6.737500</td>\n",
              "      <td>8.96750</td>\n",
              "    </tr>\n",
              "    <tr>\n",
              "      <th>max</th>\n",
              "      <td>575.000000</td>\n",
              "      <td>246.470000</td>\n",
              "      <td>510.360000</td>\n",
              "      <td>575.000000</td>\n",
              "      <td>246.470000</td>\n",
              "      <td>510.36000</td>\n",
              "    </tr>\n",
              "  </tbody>\n",
              "</table>\n",
              "</div>"
            ],
            "text/plain": [
              "           Missing               ...     Original              \n",
              "            budget   first_week  ...   first_week tot_net_gross\n",
              "count  2466.000000  2466.000000  ...  2466.000000    2963.00000\n",
              "mean     15.329106     9.523644  ...     9.523644      12.64578\n",
              "std      28.470193    22.247333  ...    22.247333      32.94777\n",
              "min       0.100000     0.003000  ...     0.003000       0.00500\n",
              "25%       2.500000     0.435000  ...     0.435000       0.23350\n",
              "50%       5.750000     1.871500  ...     1.871500       1.67500\n",
              "75%      17.000000     6.737500  ...     6.737500       8.96750\n",
              "max     575.000000   246.470000  ...   246.470000     510.36000\n",
              "\n",
              "[8 rows x 6 columns]"
            ]
          },
          "metadata": {
            "tags": []
          },
          "execution_count": 20
        }
      ]
    },
    {
      "cell_type": "code",
      "metadata": {
        "id": "D6nB4zRrRyjO",
        "colab_type": "code",
        "colab": {}
      },
      "source": [
        "# Adjusting for Currency Inflation"
      ],
      "execution_count": 21,
      "outputs": []
    },
    {
      "cell_type": "code",
      "metadata": {
        "id": "szlS_qYlKjPG",
        "colab_type": "code",
        "colab": {
          "base_uri": "https://localhost:8080/",
          "height": 54
        },
        "outputId": "062591d5-bfe3-4862-d3a2-31e9d4f12a94"
      },
      "source": [
        "# read consumer price index ratio for years between 1994 & 2019 with base year of 2020\n",
        "df_cpi = pd.read_csv(io.BytesIO(data_to_load['india_cpi_2020.txt']),sep='\\t')\n",
        "\n",
        "# create a dictionary of CPI ratios with year as key\n",
        "dict_cpi = dict(zip(df_cpi.Year, df_cpi.CPI_Ratio))\n",
        "print(dict_cpi)"
      ],
      "execution_count": 22,
      "outputs": [
        {
          "output_type": "stream",
          "text": [
            "{1994: 5.77, 1995: 5.27, 1996: 4.8, 1997: 4.35, 1998: 4.09, 1999: 3.55, 2000: 3.53, 2001: 3.41, 2002: 3.25, 2003: 3.15, 2004: 3.03, 2005: 2.92, 2006: 2.77, 2007: 2.6, 2008: 2.46, 2009: 2.25, 2010: 1.95, 2011: 1.78, 2012: 1.68, 2013: 1.51, 2014: 1.38, 2015: 1.3, 2016: 1.23, 2017: 1.2, 2018: 1.15, 2019: 1.1, 2020: 1.0}\n"
          ],
          "name": "stdout"
        }
      ]
    },
    {
      "cell_type": "code",
      "metadata": {
        "id": "gswJVpZR6fOa",
        "colab_type": "code",
        "colab": {}
      },
      "source": [
        "# adjust budget, first_week, tot_net_gross for inflation\n",
        "for i in range(df_sm_miss.shape[0]):\n",
        "  yr = df_sm_miss.loc[i,'release_year']\n",
        "  cpi_ratio = dict_cpi[yr]\n",
        "  # df_sm.loc[i,'cpi_ratio'] = cpi_ratio\n",
        "  df_sm_miss.loc[i,'budget_adjust'] = round(df_sm_miss.loc[i,'budget']*cpi_ratio,3)\n",
        "  df_sm_miss.loc[i,'first_week_adjust'] = round(df_sm_miss.loc[i,'first_week']*cpi_ratio,3)\n",
        "  df_sm_miss.loc[i,'tot_net_gross_adjust'] = round(df_sm_miss.loc[i,'tot_net_gross']*cpi_ratio,3)"
      ],
      "execution_count": 23,
      "outputs": []
    },
    {
      "cell_type": "code",
      "metadata": {
        "id": "4FiNqIPvLiCO",
        "colab_type": "code",
        "colab": {
          "base_uri": "https://localhost:8080/",
          "height": 357
        },
        "outputId": "c2b0d02b-9d87-4128-a4fe-88bf36f259b7"
      },
      "source": [
        " df_sm_miss.info()"
      ],
      "execution_count": 24,
      "outputs": [
        {
          "output_type": "stream",
          "text": [
            "<class 'pandas.core.frame.DataFrame'>\n",
            "RangeIndex: 2466 entries, 0 to 2465\n",
            "Data columns (total 13 columns):\n",
            " #   Column                Non-Null Count  Dtype         \n",
            "---  ------                --------------  -----         \n",
            " 0   film                  2466 non-null   object        \n",
            " 1   id                    2466 non-null   int64         \n",
            " 2   rank                  2466 non-null   int64         \n",
            " 3   release_date          2466 non-null   datetime64[ns]\n",
            " 4   release_year          2466 non-null   int64         \n",
            " 5   verdict               2466 non-null   object        \n",
            " 6   verdict_rank          2466 non-null   int64         \n",
            " 7   budget                2466 non-null   float64       \n",
            " 8   first_week            2466 non-null   float64       \n",
            " 9   tot_net_gross         2466 non-null   float64       \n",
            " 10  budget_adjust         2466 non-null   float64       \n",
            " 11  first_week_adjust     2466 non-null   float64       \n",
            " 12  tot_net_gross_adjust  2466 non-null   float64       \n",
            "dtypes: datetime64[ns](1), float64(6), int64(4), object(2)\n",
            "memory usage: 250.6+ KB\n"
          ],
          "name": "stdout"
        }
      ]
    },
    {
      "cell_type": "code",
      "metadata": {
        "id": "Zdrn24z8Mnh3",
        "colab_type": "code",
        "colab": {
          "base_uri": "https://localhost:8080/",
          "height": 297
        },
        "outputId": "97b42f47-e9e9-4cd7-d533-6c997bb42d41"
      },
      "source": [
        "#df_sm_miss.loc[0:,'budget':].describe()\n",
        "df_sm_miss[['budget','budget_adjust','first_week','first_week_adjust','tot_net_gross','tot_net_gross_adjust']].describe()"
      ],
      "execution_count": 25,
      "outputs": [
        {
          "output_type": "execute_result",
          "data": {
            "text/html": [
              "<div>\n",
              "<style scoped>\n",
              "    .dataframe tbody tr th:only-of-type {\n",
              "        vertical-align: middle;\n",
              "    }\n",
              "\n",
              "    .dataframe tbody tr th {\n",
              "        vertical-align: top;\n",
              "    }\n",
              "\n",
              "    .dataframe thead th {\n",
              "        text-align: right;\n",
              "    }\n",
              "</style>\n",
              "<table border=\"1\" class=\"dataframe\">\n",
              "  <thead>\n",
              "    <tr style=\"text-align: right;\">\n",
              "      <th></th>\n",
              "      <th>budget</th>\n",
              "      <th>budget_adjust</th>\n",
              "      <th>first_week</th>\n",
              "      <th>first_week_adjust</th>\n",
              "      <th>tot_net_gross</th>\n",
              "      <th>tot_net_gross_adjust</th>\n",
              "    </tr>\n",
              "  </thead>\n",
              "  <tbody>\n",
              "    <tr>\n",
              "      <th>count</th>\n",
              "      <td>2466.000000</td>\n",
              "      <td>2466.000000</td>\n",
              "      <td>2466.000000</td>\n",
              "      <td>2466.000000</td>\n",
              "      <td>2466.000000</td>\n",
              "      <td>2466.000000</td>\n",
              "    </tr>\n",
              "    <tr>\n",
              "      <th>mean</th>\n",
              "      <td>15.329106</td>\n",
              "      <td>27.986575</td>\n",
              "      <td>9.523644</td>\n",
              "      <td>16.309522</td>\n",
              "      <td>15.169829</td>\n",
              "      <td>28.206402</td>\n",
              "    </tr>\n",
              "    <tr>\n",
              "      <th>std</th>\n",
              "      <td>28.470193</td>\n",
              "      <td>37.761845</td>\n",
              "      <td>22.247333</td>\n",
              "      <td>29.969239</td>\n",
              "      <td>35.586895</td>\n",
              "      <td>51.562994</td>\n",
              "    </tr>\n",
              "    <tr>\n",
              "      <th>min</th>\n",
              "      <td>0.100000</td>\n",
              "      <td>0.195000</td>\n",
              "      <td>0.003000</td>\n",
              "      <td>0.006000</td>\n",
              "      <td>0.023000</td>\n",
              "      <td>0.082000</td>\n",
              "    </tr>\n",
              "    <tr>\n",
              "      <th>25%</th>\n",
              "      <td>2.500000</td>\n",
              "      <td>6.818000</td>\n",
              "      <td>0.435000</td>\n",
              "      <td>1.126750</td>\n",
              "      <td>0.635750</td>\n",
              "      <td>1.588750</td>\n",
              "    </tr>\n",
              "    <tr>\n",
              "      <th>50%</th>\n",
              "      <td>5.750000</td>\n",
              "      <td>15.600000</td>\n",
              "      <td>1.871500</td>\n",
              "      <td>5.425000</td>\n",
              "      <td>3.029000</td>\n",
              "      <td>8.363500</td>\n",
              "    </tr>\n",
              "    <tr>\n",
              "      <th>75%</th>\n",
              "      <td>17.000000</td>\n",
              "      <td>34.100000</td>\n",
              "      <td>6.737500</td>\n",
              "      <td>17.207250</td>\n",
              "      <td>12.328750</td>\n",
              "      <td>31.681000</td>\n",
              "    </tr>\n",
              "    <tr>\n",
              "      <th>max</th>\n",
              "      <td>575.000000</td>\n",
              "      <td>661.250000</td>\n",
              "      <td>246.470000</td>\n",
              "      <td>295.764000</td>\n",
              "      <td>510.360000</td>\n",
              "      <td>612.432000</td>\n",
              "    </tr>\n",
              "  </tbody>\n",
              "</table>\n",
              "</div>"
            ],
            "text/plain": [
              "            budget  budget_adjust  ...  tot_net_gross  tot_net_gross_adjust\n",
              "count  2466.000000    2466.000000  ...    2466.000000           2466.000000\n",
              "mean     15.329106      27.986575  ...      15.169829             28.206402\n",
              "std      28.470193      37.761845  ...      35.586895             51.562994\n",
              "min       0.100000       0.195000  ...       0.023000              0.082000\n",
              "25%       2.500000       6.818000  ...       0.635750              1.588750\n",
              "50%       5.750000      15.600000  ...       3.029000              8.363500\n",
              "75%      17.000000      34.100000  ...      12.328750             31.681000\n",
              "max     575.000000     661.250000  ...     510.360000            612.432000\n",
              "\n",
              "[8 rows x 6 columns]"
            ]
          },
          "metadata": {
            "tags": []
          },
          "execution_count": 25
        }
      ]
    },
    {
      "cell_type": "code",
      "metadata": {
        "id": "zxkOg4Otd1Cw",
        "colab_type": "code",
        "colab": {
          "base_uri": "https://localhost:8080/",
          "height": 227
        },
        "outputId": "139f5ee2-e5ae-4877-8145-90a668ceaf43"
      },
      "source": [
        "df_sm_miss.loc[0:,['budget_adjust','first_week_adjust','tot_net_gross_adjust']].hist(bins=50,figsize=(12,3), layout=(1,3));"
      ],
      "execution_count": 48,
      "outputs": [
        {
          "output_type": "display_data",
          "data": {
            "image/png": "[encoded data removed]",
            "text/plain": [
              "<Figure size 864x216 with 3 Axes>"
            ]
          },
          "metadata": {
            "tags": [],
            "needs_background": "light"
          }
        }
      ]
    },
    {
      "cell_type": "code",
      "metadata": {
        "id": "_VohwRV4eLKh",
        "colab_type": "code",
        "colab": {
          "base_uri": "https://localhost:8080/",
          "height": 227
        },
        "outputId": "7c242cdc-ea86-4dbe-dd87-cd9181720521"
      },
      "source": [
        "df_sm_miss.loc[0:,['release_year','verdict_rank']].hist(bins=50,figsize=(12,3), layout=(1,3));"
      ],
      "execution_count": 49,
      "outputs": [
        {
          "output_type": "display_data",
          "data": {
            "image/png": "[encoded data removed]",
            "text/plain": [
              "<Figure size 864x216 with 3 Axes>"
            ]
          },
          "metadata": {
            "tags": [],
            "needs_background": "light"
          }
        }
      ]
    },
    {
      "cell_type": "markdown",
      "metadata": {
        "id": "1LkwQNaEXtl8",
        "colab_type": "text"
      },
      "source": [
        ""
      ]
    },
    {
      "cell_type": "code",
      "metadata": {
        "id": "8ruMk9_bkACw",
        "colab_type": "code",
        "colab": {
          "base_uri": "https://localhost:8080/",
          "height": 362
        },
        "outputId": "ca7e8b33-8a93-4cfd-fd58-45d4353c92d1"
      },
      "source": [
        "corr_list = ['budget_adjust','first_week_adjust','tot_net_gross_adjust']\n",
        "corr = pd.DataFrame()\n",
        "for var1 in corr_list:\n",
        "    for var2 in corr_list:\n",
        "        corr.loc[var1, var2] = df_sm_miss.corr().loc[var1, var2]\n",
        "sns.heatmap(corr, annot=True);"
      ],
      "execution_count": 51,
      "outputs": [
        {
          "output_type": "display_data",
          "data": {
            "image/png": "[encoded data removed]",
            "text/plain": [
              "<Figure size 432x288 with 2 Axes>"
            ]
          },
          "metadata": {
            "tags": [],
            "needs_background": "light"
          }
        }
      ]
    },
    {
      "cell_type": "code",
      "metadata": {
        "id": "8UGqz3PsHLEq",
        "colab_type": "code",
        "colab": {
          "base_uri": "https://localhost:8080/",
          "height": 68
        },
        "outputId": "0faff487-ba08-4252-d16b-c453dfb8a285"
      },
      "source": [
        "from scipy.stats import kurtosis\n",
        "from scipy.stats import skew\n",
        "\n",
        "col_sel = ['budget_adjust','first_week_adjust','tot_net_gross_adjust',]\n",
        "for var in col_sel:\n",
        "  data = df_sm_miss[var]\n",
        "  print(var, round(skew(data),3), round(kurtosis(data),3))\n"
      ],
      "execution_count": 53,
      "outputs": [
        {
          "output_type": "stream",
          "text": [
            "budget_adjust 4.598 43.436\n",
            "first_week_adjust 3.999 21.114\n",
            "tot_net_gross_adjust 4.034 23.475\n"
          ],
          "name": "stdout"
        }
      ]
    }
  ]
}