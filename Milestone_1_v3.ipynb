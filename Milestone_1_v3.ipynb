{
  "nbformat": 4,
  "nbformat_minor": 0,
  "metadata": {
    "colab": {
      "name": "Untitled0.ipynb",
      "provenance": [],
      "collapsed_sections": [],
      "authorship_tag": "ABX9TyObwQ34NtAUprExeiBtR2/w",
      "include_colab_link": true
    },
    "kernelspec": {
      "name": "python3",
      "display_name": "Python 3"
    }
  },
  "cells": [
    {
      "cell_type": "markdown",
      "metadata": {
        "id": "view-in-github",
        "colab_type": "text"
      },
      "source": [
        "<a href=\"https://colab.research.google.com/github/daveking63/Bollywood/blob/master/Milestone_1_v3.ipynb\" target=\"_parent\"><img src=\"https://colab.research.google.com/assets/colab-badge.svg\" alt=\"Open In Colab\"/></a>"
      ]
    },
    {
      "cell_type": "code",
      "metadata": {
        "id": "vIcMyLzxboPB",
        "colab_type": "code",
        "colab": {}
      },
      "source": [
        "import warnings\n",
        "warnings.filterwarnings('ignore')"
      ],
      "execution_count": 1,
      "outputs": []
    },
    {
      "cell_type": "code",
      "metadata": {
        "id": "fzz04hdTKznZ",
        "colab_type": "code",
        "colab": {
          "resources": {
            "http://localhost:8080/nbextensions/google.colab/files.js": {
              "data": "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",
              "ok": true,
              "headers": [
                [
                  "content-type",
                  "application/javascript"
                ]
              ],
              "status": 200,
              "status_text": ""
            }
          },
          "base_uri": "https://localhost:8080/",
          "height": 140
        },
        "outputId": "5e47526f-7403-4680-af70-02b1c26e40ad"
      },
      "source": [
        "from google.colab import files\n",
        "data_to_load = files.upload()"
      ],
      "execution_count": 2,
      "outputs": [
        {
          "output_type": "display_data",
          "data": {
            "text/html": [
              "\n",
              "     <input type=\"file\" id=\"files-7547c607-e321-4b6b-ab50-905c9fb3d783\" name=\"files[]\" multiple disabled\n",
              "        style=\"border:none\" />\n",
              "     <output id=\"result-7547c607-e321-4b6b-ab50-905c9fb3d783\">\n",
              "      Upload widget is only available when the cell has been executed in the\n",
              "      current browser session. Please rerun this cell to enable.\n",
              "      </output>\n",
              "      <script src=\"/nbextensions/google.colab/files.js\"></script> "
            ],
            "text/plain": [
              "<IPython.core.display.HTML object>"
            ]
          },
          "metadata": {
            "tags": []
          }
        },
        {
          "output_type": "stream",
          "text": [
            "Saving verdict_ranks.txt to verdict_ranks (5).txt\n",
            "Saving bw_success_measures.txt to bw_success_measures (10).txt\n",
            "Saving india_cpi_2020.txt to india_cpi_2020 (10).txt\n"
          ],
          "name": "stdout"
        }
      ]
    },
    {
      "cell_type": "code",
      "metadata": {
        "id": "IjpKvn6Z7Q1_",
        "colab_type": "code",
        "colab": {}
      },
      "source": [
        "import pandas as pd\n",
        "import numpy as np\n",
        "import seaborn as sns\n",
        "import matplotlib.pyplot as plt\n",
        "%matplotlib inline"
      ],
      "execution_count": 3,
      "outputs": []
    },
    {
      "cell_type": "code",
      "metadata": {
        "id": "FYeDayafSxj7",
        "colab_type": "code",
        "colab": {}
      },
      "source": [
        "import io\n",
        "df_sm = pd.read_csv(io.BytesIO(data_to_load['bw_success_measures.txt']),sep='\\t')"
      ],
      "execution_count": 4,
      "outputs": []
    },
    {
      "cell_type": "code",
      "metadata": {
        "id": "Tj87KOElL2uk",
        "colab_type": "code",
        "colab": {
          "base_uri": "https://localhost:8080/",
          "height": 272
        },
        "outputId": "01ffcd94-b1d4-4a64-da8a-73a6d8223295"
      },
      "source": [
        "# Total sample size, variables, missing values, data types for download file\n",
        "df_sm.info()"
      ],
      "execution_count": 5,
      "outputs": [
        {
          "output_type": "stream",
          "text": [
            "<class 'pandas.core.frame.DataFrame'>\n",
            "RangeIndex: 2963 entries, 0 to 2962\n",
            "Data columns (total 8 columns):\n",
            " #   Column         Non-Null Count  Dtype  \n",
            "---  ------         --------------  -----  \n",
            " 0   film           2963 non-null   object \n",
            " 1   id             2963 non-null   int64  \n",
            " 2   rank           2963 non-null   int64  \n",
            " 3   release_date   2963 non-null   object \n",
            " 4   verdict        2963 non-null   object \n",
            " 5   budget         2797 non-null   float64\n",
            " 6   first_week     2466 non-null   float64\n",
            " 7   tot_net_gross  2963 non-null   float64\n",
            "dtypes: float64(3), int64(2), object(3)\n",
            "memory usage: 185.3+ KB\n"
          ],
          "name": "stdout"
        }
      ]
    },
    {
      "cell_type": "code",
      "metadata": {
        "id": "HyunhOBFQ3no",
        "colab_type": "code",
        "colab": {
          "base_uri": "https://localhost:8080/",
          "height": 297
        },
        "outputId": "557cff04-851d-4c54-d00e-93fa1943a3ed"
      },
      "source": [
        "# Summary of aggregate measures for key financial (response/dependent) variables\n",
        "# mean, std, min ... all in Indian Crores (10M rupees)\n",
        "\n",
        "df_sm[['budget','first_week','tot_net_gross']].describe()"
      ],
      "execution_count": 6,
      "outputs": [
        {
          "output_type": "execute_result",
          "data": {
            "text/html": [
              "<div>\n",
              "<style scoped>\n",
              "    .dataframe tbody tr th:only-of-type {\n",
              "        vertical-align: middle;\n",
              "    }\n",
              "\n",
              "    .dataframe tbody tr th {\n",
              "        vertical-align: top;\n",
              "    }\n",
              "\n",
              "    .dataframe thead th {\n",
              "        text-align: right;\n",
              "    }\n",
              "</style>\n",
              "<table border=\"1\" class=\"dataframe\">\n",
              "  <thead>\n",
              "    <tr style=\"text-align: right;\">\n",
              "      <th></th>\n",
              "      <th>budget</th>\n",
              "      <th>first_week</th>\n",
              "      <th>tot_net_gross</th>\n",
              "    </tr>\n",
              "  </thead>\n",
              "  <tbody>\n",
              "    <tr>\n",
              "      <th>count</th>\n",
              "      <td>2797.000000</td>\n",
              "      <td>2466.000000</td>\n",
              "      <td>2963.00000</td>\n",
              "    </tr>\n",
              "    <tr>\n",
              "      <th>mean</th>\n",
              "      <td>13.391911</td>\n",
              "      <td>9.523644</td>\n",
              "      <td>12.64578</td>\n",
              "    </tr>\n",
              "    <tr>\n",
              "      <th>std</th>\n",
              "      <td>27.234132</td>\n",
              "      <td>22.247333</td>\n",
              "      <td>32.94777</td>\n",
              "    </tr>\n",
              "    <tr>\n",
              "      <th>min</th>\n",
              "      <td>0.080000</td>\n",
              "      <td>0.003000</td>\n",
              "      <td>0.00500</td>\n",
              "    </tr>\n",
              "    <tr>\n",
              "      <th>25%</th>\n",
              "      <td>1.250000</td>\n",
              "      <td>0.435000</td>\n",
              "      <td>0.23350</td>\n",
              "    </tr>\n",
              "    <tr>\n",
              "      <th>50%</th>\n",
              "      <td>4.500000</td>\n",
              "      <td>1.871500</td>\n",
              "      <td>1.67500</td>\n",
              "    </tr>\n",
              "    <tr>\n",
              "      <th>75%</th>\n",
              "      <td>14.000000</td>\n",
              "      <td>6.737500</td>\n",
              "      <td>8.96750</td>\n",
              "    </tr>\n",
              "    <tr>\n",
              "      <th>max</th>\n",
              "      <td>575.000000</td>\n",
              "      <td>246.470000</td>\n",
              "      <td>510.36000</td>\n",
              "    </tr>\n",
              "  </tbody>\n",
              "</table>\n",
              "</div>"
            ],
            "text/plain": [
              "            budget   first_week  tot_net_gross\n",
              "count  2797.000000  2466.000000     2963.00000\n",
              "mean     13.391911     9.523644       12.64578\n",
              "std      27.234132    22.247333       32.94777\n",
              "min       0.080000     0.003000        0.00500\n",
              "25%       1.250000     0.435000        0.23350\n",
              "50%       4.500000     1.871500        1.67500\n",
              "75%      14.000000     6.737500        8.96750\n",
              "max     575.000000   246.470000      510.36000"
            ]
          },
          "metadata": {
            "tags": []
          },
          "execution_count": 6
        }
      ]
    },
    {
      "cell_type": "code",
      "metadata": {
        "id": "8tqud9zi5YDI",
        "colab_type": "code",
        "colab": {
          "base_uri": "https://localhost:8080/",
          "height": 289
        },
        "outputId": "07d0b15c-a213-49f1-ca54-1cbe41fcb9a9"
      },
      "source": [
        "# As a precursor to handling missing data create and\n",
        "# insert the year the film was made and a numerical\n",
        "# variable representing the values for the ordinal variable 'verdict'\n",
        "\n",
        "# Convert the release_date to 'datetime', then insert\n",
        "# a new column release_year (int)\n",
        "\n",
        "import datetime\n",
        "release_year = pd.Series([])\n",
        "df_sm['release_date'] = pd.to_datetime(df_sm['release_date'])\n",
        "release_year = df_sm['release_date'].map(lambda x: int(x.strftime('%Y')))\n",
        "df_sm.insert(4, \"release_year\", release_year)\n",
        "df_sm.info()"
      ],
      "execution_count": 7,
      "outputs": [
        {
          "output_type": "stream",
          "text": [
            "<class 'pandas.core.frame.DataFrame'>\n",
            "RangeIndex: 2963 entries, 0 to 2962\n",
            "Data columns (total 9 columns):\n",
            " #   Column         Non-Null Count  Dtype         \n",
            "---  ------         --------------  -----         \n",
            " 0   film           2963 non-null   object        \n",
            " 1   id             2963 non-null   int64         \n",
            " 2   rank           2963 non-null   int64         \n",
            " 3   release_date   2963 non-null   datetime64[ns]\n",
            " 4   release_year   2963 non-null   int64         \n",
            " 5   verdict        2963 non-null   object        \n",
            " 6   budget         2797 non-null   float64       \n",
            " 7   first_week     2466 non-null   float64       \n",
            " 8   tot_net_gross  2963 non-null   float64       \n",
            "dtypes: datetime64[ns](1), float64(3), int64(3), object(2)\n",
            "memory usage: 208.5+ KB\n"
          ],
          "name": "stdout"
        }
      ]
    },
    {
      "cell_type": "code",
      "metadata": {
        "id": "6K_MpGPR95I_",
        "colab_type": "code",
        "colab": {
          "base_uri": "https://localhost:8080/",
          "height": 323
        },
        "outputId": "b3898488-a8dd-4825-d767-f977d7e3bca6"
      },
      "source": [
        "# Insert a new variable 'verdict_ranking' that assigns a numerical value 1-9\n",
        "# to the ordinal variable 'verdict' whose string values are:\n",
        "# Disaster, Flop, Below Average, Average, Semi Hit, Hit, Super Hit, Blockbuster, All Time Blockbuster\n",
        "\n",
        "# read file containing verdicts and associated verdict ranks\n",
        "df_verdicts = pd.read_csv(io.BytesIO(data_to_load['verdict_ranks.txt']),sep='\\t')\n",
        "\n",
        "# create a dictionary associating verdicts with verdict ranks\n",
        "verdict_dict = dict(zip(df_verdicts.verdict, df_verdicts.verdict_rank))\n",
        "\n",
        "verdict_rank_list = []\n",
        "for i in range(df_sm.shape[0]):\n",
        "  vrank = verdict_dict[df_sm.loc[i, 'verdict']]\n",
        "  verdict_rank_list.append(vrank)\n",
        "\n",
        "df_sm.insert(6, \"verdict_rank\", verdict_rank_list)\n",
        "print(df_sm.info())"
      ],
      "execution_count": 8,
      "outputs": [
        {
          "output_type": "stream",
          "text": [
            "<class 'pandas.core.frame.DataFrame'>\n",
            "RangeIndex: 2963 entries, 0 to 2962\n",
            "Data columns (total 10 columns):\n",
            " #   Column         Non-Null Count  Dtype         \n",
            "---  ------         --------------  -----         \n",
            " 0   film           2963 non-null   object        \n",
            " 1   id             2963 non-null   int64         \n",
            " 2   rank           2963 non-null   int64         \n",
            " 3   release_date   2963 non-null   datetime64[ns]\n",
            " 4   release_year   2963 non-null   int64         \n",
            " 5   verdict        2963 non-null   object        \n",
            " 6   verdict_rank   2963 non-null   int64         \n",
            " 7   budget         2797 non-null   float64       \n",
            " 8   first_week     2466 non-null   float64       \n",
            " 9   tot_net_gross  2963 non-null   float64       \n",
            "dtypes: datetime64[ns](1), float64(3), int64(4), object(2)\n",
            "memory usage: 231.6+ KB\n",
            "None\n"
          ],
          "name": "stdout"
        }
      ]
    },
    {
      "cell_type": "code",
      "metadata": {
        "id": "JdnkQB6kwBRs",
        "colab_type": "code",
        "colab": {
          "base_uri": "https://localhost:8080/",
          "height": 603
        },
        "outputId": "8e141d00-9f3f-4359-bb0d-7e901f0d4250"
      },
      "source": [
        "# Handling Missing Data\n",
        "\n",
        "# Option 1:\n",
        "# Drop rows with missing budget or first_week\n",
        "# There are 166 rows or films missing budget data and 497 missing first_week revenues\n",
        "# Decision is to drop the rows with missing first_week revenues\n",
        "\n",
        "df_sm_miss = df_sm.copy(deep=True)\n",
        "df_sm_miss = df_sm_miss.dropna(subset=['first_week'])\n",
        "df_sm_miss.index = range(len(df_sm_miss.index))\n",
        "print(df_sm_miss.info())\n",
        "\n",
        "df_sm_miss_agg = df_sm_miss[['budget','first_week','tot_net_gross']].describe()\n",
        "df_sm_miss_agg"
      ],
      "execution_count": 14,
      "outputs": [
        {
          "output_type": "stream",
          "text": [
            "<class 'pandas.core.frame.DataFrame'>\n",
            "RangeIndex: 2466 entries, 0 to 2465\n",
            "Data columns (total 10 columns):\n",
            " #   Column         Non-Null Count  Dtype         \n",
            "---  ------         --------------  -----         \n",
            " 0   film           2466 non-null   object        \n",
            " 1   id             2466 non-null   int64         \n",
            " 2   rank           2466 non-null   int64         \n",
            " 3   release_date   2466 non-null   datetime64[ns]\n",
            " 4   release_year   2466 non-null   int64         \n",
            " 5   verdict        2466 non-null   object        \n",
            " 6   verdict_rank   2466 non-null   int64         \n",
            " 7   budget         2354 non-null   float64       \n",
            " 8   first_week     2466 non-null   float64       \n",
            " 9   tot_net_gross  2466 non-null   float64       \n",
            "dtypes: datetime64[ns](1), float64(3), int64(4), object(2)\n",
            "memory usage: 192.8+ KB\n",
            "None\n"
          ],
          "name": "stdout"
        },
        {
          "output_type": "execute_result",
          "data": {
            "text/html": [
              "<div>\n",
              "<style scoped>\n",
              "    .dataframe tbody tr th:only-of-type {\n",
              "        vertical-align: middle;\n",
              "    }\n",
              "\n",
              "    .dataframe tbody tr th {\n",
              "        vertical-align: top;\n",
              "    }\n",
              "\n",
              "    .dataframe thead th {\n",
              "        text-align: right;\n",
              "    }\n",
              "</style>\n",
              "<table border=\"1\" class=\"dataframe\">\n",
              "  <thead>\n",
              "    <tr style=\"text-align: right;\">\n",
              "      <th></th>\n",
              "      <th>budget</th>\n",
              "      <th>first_week</th>\n",
              "      <th>tot_net_gross</th>\n",
              "    </tr>\n",
              "  </thead>\n",
              "  <tbody>\n",
              "    <tr>\n",
              "      <th>count</th>\n",
              "      <td>2354.000000</td>\n",
              "      <td>2466.000000</td>\n",
              "      <td>2466.000000</td>\n",
              "    </tr>\n",
              "    <tr>\n",
              "      <th>mean</th>\n",
              "      <td>15.857508</td>\n",
              "      <td>9.523644</td>\n",
              "      <td>15.169829</td>\n",
              "    </tr>\n",
              "    <tr>\n",
              "      <th>std</th>\n",
              "      <td>29.033149</td>\n",
              "      <td>22.247333</td>\n",
              "      <td>35.586895</td>\n",
              "    </tr>\n",
              "    <tr>\n",
              "      <th>min</th>\n",
              "      <td>0.100000</td>\n",
              "      <td>0.003000</td>\n",
              "      <td>0.023000</td>\n",
              "    </tr>\n",
              "    <tr>\n",
              "      <th>25%</th>\n",
              "      <td>2.500000</td>\n",
              "      <td>0.435000</td>\n",
              "      <td>0.635750</td>\n",
              "    </tr>\n",
              "    <tr>\n",
              "      <th>50%</th>\n",
              "      <td>6.000000</td>\n",
              "      <td>1.871500</td>\n",
              "      <td>3.029000</td>\n",
              "    </tr>\n",
              "    <tr>\n",
              "      <th>75%</th>\n",
              "      <td>18.000000</td>\n",
              "      <td>6.737500</td>\n",
              "      <td>12.328750</td>\n",
              "    </tr>\n",
              "    <tr>\n",
              "      <th>max</th>\n",
              "      <td>575.000000</td>\n",
              "      <td>246.470000</td>\n",
              "      <td>510.360000</td>\n",
              "    </tr>\n",
              "  </tbody>\n",
              "</table>\n",
              "</div>"
            ],
            "text/plain": [
              "            budget   first_week  tot_net_gross\n",
              "count  2354.000000  2466.000000    2466.000000\n",
              "mean     15.857508     9.523644      15.169829\n",
              "std      29.033149    22.247333      35.586895\n",
              "min       0.100000     0.003000       0.023000\n",
              "25%       2.500000     0.435000       0.635750\n",
              "50%       6.000000     1.871500       3.029000\n",
              "75%      18.000000     6.737500      12.328750\n",
              "max     575.000000   246.470000     510.360000"
            ]
          },
          "metadata": {
            "tags": []
          },
          "execution_count": 14
        }
      ]
    },
    {
      "cell_type": "code",
      "metadata": {
        "id": "aD2E5Szeikxv",
        "colab_type": "code",
        "colab": {
          "base_uri": "https://localhost:8080/",
          "height": 476
        },
        "outputId": "0d832bd7-6e0a-4425-8bcc-a9496a86fa08"
      },
      "source": [
        "# Option 2 - imputing values for rows missing\n",
        "# budget values. The imputed values are based on\n",
        "# mean budget values for each 'verdict_rank'\n",
        "print('Original dataframe')\n",
        "print(df_sm.groupby('verdict_rank')[['budget']].agg(['mean','median','count']),'\\n')\n",
        "print('With rows missing first_week revenues')\n",
        "print(df_sm_miss.groupby('verdict_rank')[['budget']].agg(['mean','median','count']))"
      ],
      "execution_count": 17,
      "outputs": [
        {
          "output_type": "stream",
          "text": [
            "Original dataframe\n",
            "                 budget             \n",
            "                   mean median count\n",
            "verdict_rank                        \n",
            "1              5.793394   2.00  1560\n",
            "2             16.177686   7.75   644\n",
            "3             17.383663   9.50   101\n",
            "4             19.617803  11.00   132\n",
            "5             26.372549  13.00   102\n",
            "6             33.639015  20.50   132\n",
            "7             41.203472  24.50    72\n",
            "8             63.755952  41.50    42\n",
            "9             73.416667  48.00    12 \n",
            "\n",
            "With rows missing first_week revenues\n",
            "                 budget             \n",
            "                   mean median count\n",
            "verdict_rank                        \n",
            "1              7.819864    4.0  1140\n",
            "2             16.558156    8.0   629\n",
            "3             18.088144    9.5    97\n",
            "4             20.068217   12.0   129\n",
            "5             26.631188   13.0   101\n",
            "6             33.639015   20.5   132\n",
            "7             41.203472   24.5    72\n",
            "8             63.755952   41.5    42\n",
            "9             73.416667   48.0    12\n"
          ],
          "name": "stdout"
        }
      ]
    },
    {
      "cell_type": "code",
      "metadata": {
        "id": "c_v00GhkWv3k",
        "colab_type": "code",
        "colab": {
          "base_uri": "https://localhost:8080/",
          "height": 34
        },
        "outputId": "2a3357f5-7428-498f-de3b-afdb2d1a7dd3"
      },
      "source": [
        "df_sm_miss['budget'].isna().sum()\n"
      ],
      "execution_count": 18,
      "outputs": [
        {
          "output_type": "execute_result",
          "data": {
            "text/plain": [
              "112"
            ]
          },
          "metadata": {
            "tags": []
          },
          "execution_count": 18
        }
      ]
    },
    {
      "cell_type": "code",
      "metadata": {
        "id": "NNwsPSj4nZ03",
        "colab_type": "code",
        "colab": {
          "base_uri": "https://localhost:8080/",
          "height": 297
        },
        "outputId": "c9e8576a-6d28-4056-fa0a-01ee83460dac"
      },
      "source": [
        "# Substitute median budget from verdict_rank for missing budget values\n",
        "df_sm_miss['budget'] = df_sm_miss['budget'].fillna(df_sm_miss.groupby('verdict_rank')['budget'].transform('median'))\n",
        "#df_sm_miss['budget'] = df_sm_miss.groupby('verdict')['budget'].transform(lambda grp: grp.fillna(np.median(grp)))\n",
        "df_sm_miss_agg = df_sm_miss[['budget','first_week','tot_net_gross']].describe()\n",
        "df_sm_miss_agg"
      ],
      "execution_count": 19,
      "outputs": [
        {
          "output_type": "execute_result",
          "data": {
            "text/html": [
              "<div>\n",
              "<style scoped>\n",
              "    .dataframe tbody tr th:only-of-type {\n",
              "        vertical-align: middle;\n",
              "    }\n",
              "\n",
              "    .dataframe tbody tr th {\n",
              "        vertical-align: top;\n",
              "    }\n",
              "\n",
              "    .dataframe thead th {\n",
              "        text-align: right;\n",
              "    }\n",
              "</style>\n",
              "<table border=\"1\" class=\"dataframe\">\n",
              "  <thead>\n",
              "    <tr style=\"text-align: right;\">\n",
              "      <th></th>\n",
              "      <th>budget</th>\n",
              "      <th>first_week</th>\n",
              "      <th>tot_net_gross</th>\n",
              "    </tr>\n",
              "  </thead>\n",
              "  <tbody>\n",
              "    <tr>\n",
              "      <th>count</th>\n",
              "      <td>2466.000000</td>\n",
              "      <td>2466.000000</td>\n",
              "      <td>2466.000000</td>\n",
              "    </tr>\n",
              "    <tr>\n",
              "      <th>mean</th>\n",
              "      <td>15.329106</td>\n",
              "      <td>9.523644</td>\n",
              "      <td>15.169829</td>\n",
              "    </tr>\n",
              "    <tr>\n",
              "      <th>std</th>\n",
              "      <td>28.470193</td>\n",
              "      <td>22.247333</td>\n",
              "      <td>35.586895</td>\n",
              "    </tr>\n",
              "    <tr>\n",
              "      <th>min</th>\n",
              "      <td>0.100000</td>\n",
              "      <td>0.003000</td>\n",
              "      <td>0.023000</td>\n",
              "    </tr>\n",
              "    <tr>\n",
              "      <th>25%</th>\n",
              "      <td>2.500000</td>\n",
              "      <td>0.435000</td>\n",
              "      <td>0.635750</td>\n",
              "    </tr>\n",
              "    <tr>\n",
              "      <th>50%</th>\n",
              "      <td>5.750000</td>\n",
              "      <td>1.871500</td>\n",
              "      <td>3.029000</td>\n",
              "    </tr>\n",
              "    <tr>\n",
              "      <th>75%</th>\n",
              "      <td>17.000000</td>\n",
              "      <td>6.737500</td>\n",
              "      <td>12.328750</td>\n",
              "    </tr>\n",
              "    <tr>\n",
              "      <th>max</th>\n",
              "      <td>575.000000</td>\n",
              "      <td>246.470000</td>\n",
              "      <td>510.360000</td>\n",
              "    </tr>\n",
              "  </tbody>\n",
              "</table>\n",
              "</div>"
            ],
            "text/plain": [
              "            budget   first_week  tot_net_gross\n",
              "count  2466.000000  2466.000000    2466.000000\n",
              "mean     15.329106     9.523644      15.169829\n",
              "std      28.470193    22.247333      35.586895\n",
              "min       0.100000     0.003000       0.023000\n",
              "25%       2.500000     0.435000       0.635750\n",
              "50%       5.750000     1.871500       3.029000\n",
              "75%      17.000000     6.737500      12.328750\n",
              "max     575.000000   246.470000     510.360000"
            ]
          },
          "metadata": {
            "tags": []
          },
          "execution_count": 19
        }
      ]
    },
    {
      "cell_type": "code",
      "metadata": {
        "id": "0vijKyDWqxxY",
        "colab_type": "code",
        "colab": {
          "base_uri": "https://localhost:8080/",
          "height": 328
        },
        "outputId": "701008e3-9103-4261-c427-048b941e0211"
      },
      "source": [
        "df_sm_agg = df_sm[['budget','first_week', 'tot_net_gross']].describe()\n",
        "df_agg = pd.concat([df_sm_miss_agg, df_sm_agg], axis=1, keys=('Missing','Original'))\n",
        "df_agg"
      ],
      "execution_count": 20,
      "outputs": [
        {
          "output_type": "execute_result",
          "data": {
            "text/html": [
              "<div>\n",
              "<style scoped>\n",
              "    .dataframe tbody tr th:only-of-type {\n",
              "        vertical-align: middle;\n",
              "    }\n",
              "\n",
              "    .dataframe tbody tr th {\n",
              "        vertical-align: top;\n",
              "    }\n",
              "\n",
              "    .dataframe thead tr th {\n",
              "        text-align: left;\n",
              "    }\n",
              "</style>\n",
              "<table border=\"1\" class=\"dataframe\">\n",
              "  <thead>\n",
              "    <tr>\n",
              "      <th></th>\n",
              "      <th colspan=\"3\" halign=\"left\">Missing</th>\n",
              "      <th colspan=\"3\" halign=\"left\">Original</th>\n",
              "    </tr>\n",
              "    <tr>\n",
              "      <th></th>\n",
              "      <th>budget</th>\n",
              "      <th>first_week</th>\n",
              "      <th>tot_net_gross</th>\n",
              "      <th>budget</th>\n",
              "      <th>first_week</th>\n",
              "      <th>tot_net_gross</th>\n",
              "    </tr>\n",
              "  </thead>\n",
              "  <tbody>\n",
              "    <tr>\n",
              "      <th>count</th>\n",
              "      <td>2466.000000</td>\n",
              "      <td>2466.000000</td>\n",
              "      <td>2466.000000</td>\n",
              "      <td>2797.000000</td>\n",
              "      <td>2466.000000</td>\n",
              "      <td>2963.00000</td>\n",
              "    </tr>\n",
              "    <tr>\n",
              "      <th>mean</th>\n",
              "      <td>15.329106</td>\n",
              "      <td>9.523644</td>\n",
              "      <td>15.169829</td>\n",
              "      <td>13.391911</td>\n",
              "      <td>9.523644</td>\n",
              "      <td>12.64578</td>\n",
              "    </tr>\n",
              "    <tr>\n",
              "      <th>std</th>\n",
              "      <td>28.470193</td>\n",
              "      <td>22.247333</td>\n",
              "      <td>35.586895</td>\n",
              "      <td>27.234132</td>\n",
              "      <td>22.247333</td>\n",
              "      <td>32.94777</td>\n",
              "    </tr>\n",
              "    <tr>\n",
              "      <th>min</th>\n",
              "      <td>0.100000</td>\n",
              "      <td>0.003000</td>\n",
              "      <td>0.023000</td>\n",
              "      <td>0.080000</td>\n",
              "      <td>0.003000</td>\n",
              "      <td>0.00500</td>\n",
              "    </tr>\n",
              "    <tr>\n",
              "      <th>25%</th>\n",
              "      <td>2.500000</td>\n",
              "      <td>0.435000</td>\n",
              "      <td>0.635750</td>\n",
              "      <td>1.250000</td>\n",
              "      <td>0.435000</td>\n",
              "      <td>0.23350</td>\n",
              "    </tr>\n",
              "    <tr>\n",
              "      <th>50%</th>\n",
              "      <td>5.750000</td>\n",
              "      <td>1.871500</td>\n",
              "      <td>3.029000</td>\n",
              "      <td>4.500000</td>\n",
              "      <td>1.871500</td>\n",
              "      <td>1.67500</td>\n",
              "    </tr>\n",
              "    <tr>\n",
              "      <th>75%</th>\n",
              "      <td>17.000000</td>\n",
              "      <td>6.737500</td>\n",
              "      <td>12.328750</td>\n",
              "      <td>14.000000</td>\n",
              "      <td>6.737500</td>\n",
              "      <td>8.96750</td>\n",
              "    </tr>\n",
              "    <tr>\n",
              "      <th>max</th>\n",
              "      <td>575.000000</td>\n",
              "      <td>246.470000</td>\n",
              "      <td>510.360000</td>\n",
              "      <td>575.000000</td>\n",
              "      <td>246.470000</td>\n",
              "      <td>510.36000</td>\n",
              "    </tr>\n",
              "  </tbody>\n",
              "</table>\n",
              "</div>"
            ],
            "text/plain": [
              "           Missing               ...     Original              \n",
              "            budget   first_week  ...   first_week tot_net_gross\n",
              "count  2466.000000  2466.000000  ...  2466.000000    2963.00000\n",
              "mean     15.329106     9.523644  ...     9.523644      12.64578\n",
              "std      28.470193    22.247333  ...    22.247333      32.94777\n",
              "min       0.100000     0.003000  ...     0.003000       0.00500\n",
              "25%       2.500000     0.435000  ...     0.435000       0.23350\n",
              "50%       5.750000     1.871500  ...     1.871500       1.67500\n",
              "75%      17.000000     6.737500  ...     6.737500       8.96750\n",
              "max     575.000000   246.470000  ...   246.470000     510.36000\n",
              "\n",
              "[8 rows x 6 columns]"
            ]
          },
          "metadata": {
            "tags": []
          },
          "execution_count": 20
        }
      ]
    },
    {
      "cell_type": "code",
      "metadata": {
        "id": "D6nB4zRrRyjO",
        "colab_type": "code",
        "colab": {}
      },
      "source": [
        "# Adjusting for Currency Inflation"
      ],
      "execution_count": 21,
      "outputs": []
    },
    {
      "cell_type": "code",
      "metadata": {
        "id": "szlS_qYlKjPG",
        "colab_type": "code",
        "colab": {
          "base_uri": "https://localhost:8080/",
          "height": 54
        },
        "outputId": "062591d5-bfe3-4862-d3a2-31e9d4f12a94"
      },
      "source": [
        "# read consumer price index ratio for years between 1994 & 2019 with base year of 2020\n",
        "df_cpi = pd.read_csv(io.BytesIO(data_to_load['india_cpi_2020.txt']),sep='\\t')\n",
        "\n",
        "# create a dictionary of CPI ratios with year as key\n",
        "dict_cpi = dict(zip(df_cpi.Year, df_cpi.CPI_Ratio))\n",
        "print(dict_cpi)"
      ],
      "execution_count": 22,
      "outputs": [
        {
          "output_type": "stream",
          "text": [
            "{1994: 5.77, 1995: 5.27, 1996: 4.8, 1997: 4.35, 1998: 4.09, 1999: 3.55, 2000: 3.53, 2001: 3.41, 2002: 3.25, 2003: 3.15, 2004: 3.03, 2005: 2.92, 2006: 2.77, 2007: 2.6, 2008: 2.46, 2009: 2.25, 2010: 1.95, 2011: 1.78, 2012: 1.68, 2013: 1.51, 2014: 1.38, 2015: 1.3, 2016: 1.23, 2017: 1.2, 2018: 1.15, 2019: 1.1, 2020: 1.0}\n"
          ],
          "name": "stdout"
        }
      ]
    },
    {
      "cell_type": "code",
      "metadata": {
        "id": "gswJVpZR6fOa",
        "colab_type": "code",
        "colab": {}
      },
      "source": [
        "# adjust budget, first_week, tot_net_gross for inflation\n",
        "for i in range(df_sm_miss.shape[0]):\n",
        "  yr = df_sm_miss.loc[i,'release_year']\n",
        "  cpi_ratio = dict_cpi[yr]\n",
        "  # df_sm.loc[i,'cpi_ratio'] = cpi_ratio\n",
        "  df_sm_miss.loc[i,'budget_adjust'] = round(df_sm_miss.loc[i,'budget']*cpi_ratio,3)\n",
        "  df_sm_miss.loc[i,'first_week_adjust'] = round(df_sm_miss.loc[i,'first_week']*cpi_ratio,3)\n",
        "  df_sm_miss.loc[i,'tot_net_gross_adjust'] = round(df_sm_miss.loc[i,'tot_net_gross']*cpi_ratio,3)"
      ],
      "execution_count": 23,
      "outputs": []
    },
    {
      "cell_type": "code",
      "metadata": {
        "id": "4FiNqIPvLiCO",
        "colab_type": "code",
        "colab": {
          "base_uri": "https://localhost:8080/",
          "height": 357
        },
        "outputId": "c2b0d02b-9d87-4128-a4fe-88bf36f259b7"
      },
      "source": [
        " df_sm_miss.info()"
      ],
      "execution_count": 24,
      "outputs": [
        {
          "output_type": "stream",
          "text": [
            "<class 'pandas.core.frame.DataFrame'>\n",
            "RangeIndex: 2466 entries, 0 to 2465\n",
            "Data columns (total 13 columns):\n",
            " #   Column                Non-Null Count  Dtype         \n",
            "---  ------                --------------  -----         \n",
            " 0   film                  2466 non-null   object        \n",
            " 1   id                    2466 non-null   int64         \n",
            " 2   rank                  2466 non-null   int64         \n",
            " 3   release_date          2466 non-null   datetime64[ns]\n",
            " 4   release_year          2466 non-null   int64         \n",
            " 5   verdict               2466 non-null   object        \n",
            " 6   verdict_rank          2466 non-null   int64         \n",
            " 7   budget                2466 non-null   float64       \n",
            " 8   first_week            2466 non-null   float64       \n",
            " 9   tot_net_gross         2466 non-null   float64       \n",
            " 10  budget_adjust         2466 non-null   float64       \n",
            " 11  first_week_adjust     2466 non-null   float64       \n",
            " 12  tot_net_gross_adjust  2466 non-null   float64       \n",
            "dtypes: datetime64[ns](1), float64(6), int64(4), object(2)\n",
            "memory usage: 250.6+ KB\n"
          ],
          "name": "stdout"
        }
      ]
    },
    {
      "cell_type": "code",
      "metadata": {
        "id": "Zdrn24z8Mnh3",
        "colab_type": "code",
        "colab": {
          "base_uri": "https://localhost:8080/",
          "height": 297
        },
        "outputId": "97b42f47-e9e9-4cd7-d533-6c997bb42d41"
      },
      "source": [
        "#df_sm_miss.loc[0:,'budget':].describe()\n",
        "df_sm_miss[['budget','budget_adjust','first_week','first_week_adjust','tot_net_gross','tot_net_gross_adjust']].describe()"
      ],
      "execution_count": 25,
      "outputs": [
        {
          "output_type": "execute_result",
          "data": {
            "text/html": [
              "<div>\n",
              "<style scoped>\n",
              "    .dataframe tbody tr th:only-of-type {\n",
              "        vertical-align: middle;\n",
              "    }\n",
              "\n",
              "    .dataframe tbody tr th {\n",
              "        vertical-align: top;\n",
              "    }\n",
              "\n",
              "    .dataframe thead th {\n",
              "        text-align: right;\n",
              "    }\n",
              "</style>\n",
              "<table border=\"1\" class=\"dataframe\">\n",
              "  <thead>\n",
              "    <tr style=\"text-align: right;\">\n",
              "      <th></th>\n",
              "      <th>budget</th>\n",
              "      <th>budget_adjust</th>\n",
              "      <th>first_week</th>\n",
              "      <th>first_week_adjust</th>\n",
              "      <th>tot_net_gross</th>\n",
              "      <th>tot_net_gross_adjust</th>\n",
              "    </tr>\n",
              "  </thead>\n",
              "  <tbody>\n",
              "    <tr>\n",
              "      <th>count</th>\n",
              "      <td>2466.000000</td>\n",
              "      <td>2466.000000</td>\n",
              "      <td>2466.000000</td>\n",
              "      <td>2466.000000</td>\n",
              "      <td>2466.000000</td>\n",
              "      <td>2466.000000</td>\n",
              "    </tr>\n",
              "    <tr>\n",
              "      <th>mean</th>\n",
              "      <td>15.329106</td>\n",
              "      <td>27.986575</td>\n",
              "      <td>9.523644</td>\n",
              "      <td>16.309522</td>\n",
              "      <td>15.169829</td>\n",
              "      <td>28.206402</td>\n",
              "    </tr>\n",
              "    <tr>\n",
              "      <th>std</th>\n",
              "      <td>28.470193</td>\n",
              "      <td>37.761845</td>\n",
              "      <td>22.247333</td>\n",
              "      <td>29.969239</td>\n",
              "      <td>35.586895</td>\n",
              "      <td>51.562994</td>\n",
              "    </tr>\n",
              "    <tr>\n",
              "      <th>min</th>\n",
              "      <td>0.100000</td>\n",
              "      <td>0.195000</td>\n",
              "      <td>0.003000</td>\n",
              "      <td>0.006000</td>\n",
              "      <td>0.023000</td>\n",
              "      <td>0.082000</td>\n",
              "    </tr>\n",
              "    <tr>\n",
              "      <th>25%</th>\n",
              "      <td>2.500000</td>\n",
              "      <td>6.818000</td>\n",
              "      <td>0.435000</td>\n",
              "      <td>1.126750</td>\n",
              "      <td>0.635750</td>\n",
              "      <td>1.588750</td>\n",
              "    </tr>\n",
              "    <tr>\n",
              "      <th>50%</th>\n",
              "      <td>5.750000</td>\n",
              "      <td>15.600000</td>\n",
              "      <td>1.871500</td>\n",
              "      <td>5.425000</td>\n",
              "      <td>3.029000</td>\n",
              "      <td>8.363500</td>\n",
              "    </tr>\n",
              "    <tr>\n",
              "      <th>75%</th>\n",
              "      <td>17.000000</td>\n",
              "      <td>34.100000</td>\n",
              "      <td>6.737500</td>\n",
              "      <td>17.207250</td>\n",
              "      <td>12.328750</td>\n",
              "      <td>31.681000</td>\n",
              "    </tr>\n",
              "    <tr>\n",
              "      <th>max</th>\n",
              "      <td>575.000000</td>\n",
              "      <td>661.250000</td>\n",
              "      <td>246.470000</td>\n",
              "      <td>295.764000</td>\n",
              "      <td>510.360000</td>\n",
              "      <td>612.432000</td>\n",
              "    </tr>\n",
              "  </tbody>\n",
              "</table>\n",
              "</div>"
            ],
            "text/plain": [
              "            budget  budget_adjust  ...  tot_net_gross  tot_net_gross_adjust\n",
              "count  2466.000000    2466.000000  ...    2466.000000           2466.000000\n",
              "mean     15.329106      27.986575  ...      15.169829             28.206402\n",
              "std      28.470193      37.761845  ...      35.586895             51.562994\n",
              "min       0.100000       0.195000  ...       0.023000              0.082000\n",
              "25%       2.500000       6.818000  ...       0.635750              1.588750\n",
              "50%       5.750000      15.600000  ...       3.029000              8.363500\n",
              "75%      17.000000      34.100000  ...      12.328750             31.681000\n",
              "max     575.000000     661.250000  ...     510.360000            612.432000\n",
              "\n",
              "[8 rows x 6 columns]"
            ]
          },
          "metadata": {
            "tags": []
          },
          "execution_count": 25
        }
      ]
    },
    {
      "cell_type": "code",
      "metadata": {
        "id": "W2cheQCO2D1Y",
        "colab_type": "code",
        "colab": {
          "base_uri": "https://localhost:8080/",
          "height": 411
        },
        "outputId": "9a0cd83d-c6cf-4cd1-cc94-b1bc21c25158"
      },
      "source": [
        "df_sm_miss.head()"
      ],
      "execution_count": 26,
      "outputs": [
        {
          "output_type": "execute_result",
          "data": {
            "text/html": [
              "<div>\n",
              "<style scoped>\n",
              "    .dataframe tbody tr th:only-of-type {\n",
              "        vertical-align: middle;\n",
              "    }\n",
              "\n",
              "    .dataframe tbody tr th {\n",
              "        vertical-align: top;\n",
              "    }\n",
              "\n",
              "    .dataframe thead th {\n",
              "        text-align: right;\n",
              "    }\n",
              "</style>\n",
              "<table border=\"1\" class=\"dataframe\">\n",
              "  <thead>\n",
              "    <tr style=\"text-align: right;\">\n",
              "      <th></th>\n",
              "      <th>film</th>\n",
              "      <th>id</th>\n",
              "      <th>rank</th>\n",
              "      <th>release_date</th>\n",
              "      <th>release_year</th>\n",
              "      <th>verdict</th>\n",
              "      <th>verdict_rank</th>\n",
              "      <th>budget</th>\n",
              "      <th>first_week</th>\n",
              "      <th>tot_net_gross</th>\n",
              "      <th>budget_adjust</th>\n",
              "      <th>first_week_adjust</th>\n",
              "      <th>tot_net_gross_adjust</th>\n",
              "    </tr>\n",
              "  </thead>\n",
              "  <tbody>\n",
              "    <tr>\n",
              "      <th>0</th>\n",
              "      <td>Hum Aapke Hain Koun..!</td>\n",
              "      <td>11</td>\n",
              "      <td>1</td>\n",
              "      <td>1994-08-05</td>\n",
              "      <td>1994</td>\n",
              "      <td>All Time Blockbuster</td>\n",
              "      <td>9</td>\n",
              "      <td>6.25</td>\n",
              "      <td>0.680</td>\n",
              "      <td>72.465</td>\n",
              "      <td>36.062</td>\n",
              "      <td>3.924</td>\n",
              "      <td>418.123</td>\n",
              "    </tr>\n",
              "    <tr>\n",
              "      <th>1</th>\n",
              "      <td>Bahubali 2 - The Conclusion</td>\n",
              "      <td>3517</td>\n",
              "      <td>2</td>\n",
              "      <td>2017-04-28</td>\n",
              "      <td>2017</td>\n",
              "      <td>All Time Blockbuster</td>\n",
              "      <td>9</td>\n",
              "      <td>195.00</td>\n",
              "      <td>246.470</td>\n",
              "      <td>510.360</td>\n",
              "      <td>234.000</td>\n",
              "      <td>295.764</td>\n",
              "      <td>612.432</td>\n",
              "    </tr>\n",
              "    <tr>\n",
              "      <th>2</th>\n",
              "      <td>Gadar - Ek Prem Katha</td>\n",
              "      <td>657</td>\n",
              "      <td>3</td>\n",
              "      <td>2001-06-15</td>\n",
              "      <td>2001</td>\n",
              "      <td>All Time Blockbuster</td>\n",
              "      <td>9</td>\n",
              "      <td>19.00</td>\n",
              "      <td>9.280</td>\n",
              "      <td>76.880</td>\n",
              "      <td>64.790</td>\n",
              "      <td>31.645</td>\n",
              "      <td>262.161</td>\n",
              "    </tr>\n",
              "    <tr>\n",
              "      <th>3</th>\n",
              "      <td>Dilwale Dulhania Le Jayenge</td>\n",
              "      <td>3036</td>\n",
              "      <td>4</td>\n",
              "      <td>1995-10-20</td>\n",
              "      <td>1995</td>\n",
              "      <td>All Time Blockbuster</td>\n",
              "      <td>9</td>\n",
              "      <td>4.00</td>\n",
              "      <td>3.373</td>\n",
              "      <td>53.313</td>\n",
              "      <td>21.080</td>\n",
              "      <td>17.776</td>\n",
              "      <td>280.960</td>\n",
              "    </tr>\n",
              "    <tr>\n",
              "      <th>4</th>\n",
              "      <td>Raja Hindustani</td>\n",
              "      <td>2737</td>\n",
              "      <td>5</td>\n",
              "      <td>1996-11-11</td>\n",
              "      <td>1996</td>\n",
              "      <td>All Time Blockbuster</td>\n",
              "      <td>9</td>\n",
              "      <td>5.75</td>\n",
              "      <td>3.650</td>\n",
              "      <td>43.145</td>\n",
              "      <td>27.600</td>\n",
              "      <td>17.520</td>\n",
              "      <td>207.096</td>\n",
              "    </tr>\n",
              "  </tbody>\n",
              "</table>\n",
              "</div>"
            ],
            "text/plain": [
              "                          film    id  ...  first_week_adjust tot_net_gross_adjust\n",
              "0       Hum Aapke Hain Koun..!    11  ...              3.924              418.123\n",
              "1  Bahubali 2 - The Conclusion  3517  ...            295.764              612.432\n",
              "2        Gadar - Ek Prem Katha   657  ...             31.645              262.161\n",
              "3  Dilwale Dulhania Le Jayenge  3036  ...             17.776              280.960\n",
              "4              Raja Hindustani  2737  ...             17.520              207.096\n",
              "\n",
              "[5 rows x 13 columns]"
            ]
          },
          "metadata": {
            "tags": []
          },
          "execution_count": 26
        }
      ]
    },
    {
      "cell_type": "code",
      "metadata": {
        "id": "VLXl96J2b61L",
        "colab_type": "code",
        "colab": {
          "base_uri": "https://localhost:8080/",
          "height": 523
        },
        "outputId": "920a8b4d-850a-4a53-e84c-765f5b476ec9"
      },
      "source": [
        "# aggregate stats for all variables/columns\n",
        "df_sm_miss.describe(include = 'all')"
      ],
      "execution_count": 28,
      "outputs": [
        {
          "output_type": "execute_result",
          "data": {
            "text/html": [
              "<div>\n",
              "<style scoped>\n",
              "    .dataframe tbody tr th:only-of-type {\n",
              "        vertical-align: middle;\n",
              "    }\n",
              "\n",
              "    .dataframe tbody tr th {\n",
              "        vertical-align: top;\n",
              "    }\n",
              "\n",
              "    .dataframe thead th {\n",
              "        text-align: right;\n",
              "    }\n",
              "</style>\n",
              "<table border=\"1\" class=\"dataframe\">\n",
              "  <thead>\n",
              "    <tr style=\"text-align: right;\">\n",
              "      <th></th>\n",
              "      <th>film</th>\n",
              "      <th>id</th>\n",
              "      <th>rank</th>\n",
              "      <th>release_date</th>\n",
              "      <th>release_year</th>\n",
              "      <th>verdict</th>\n",
              "      <th>verdict_rank</th>\n",
              "      <th>budget</th>\n",
              "      <th>first_week</th>\n",
              "      <th>tot_net_gross</th>\n",
              "      <th>budget_adjust</th>\n",
              "      <th>first_week_adjust</th>\n",
              "      <th>tot_net_gross_adjust</th>\n",
              "    </tr>\n",
              "  </thead>\n",
              "  <tbody>\n",
              "    <tr>\n",
              "      <th>count</th>\n",
              "      <td>2466</td>\n",
              "      <td>2466.000000</td>\n",
              "      <td>2466.000000</td>\n",
              "      <td>2466</td>\n",
              "      <td>2466.000000</td>\n",
              "      <td>2466</td>\n",
              "      <td>2466.000000</td>\n",
              "      <td>2466.000000</td>\n",
              "      <td>2466.000000</td>\n",
              "      <td>2466.000000</td>\n",
              "      <td>2466.000000</td>\n",
              "      <td>2466.000000</td>\n",
              "      <td>2466.000000</td>\n",
              "    </tr>\n",
              "    <tr>\n",
              "      <th>unique</th>\n",
              "      <td>2446</td>\n",
              "      <td>NaN</td>\n",
              "      <td>NaN</td>\n",
              "      <td>1264</td>\n",
              "      <td>NaN</td>\n",
              "      <td>9</td>\n",
              "      <td>NaN</td>\n",
              "      <td>NaN</td>\n",
              "      <td>NaN</td>\n",
              "      <td>NaN</td>\n",
              "      <td>NaN</td>\n",
              "      <td>NaN</td>\n",
              "      <td>NaN</td>\n",
              "    </tr>\n",
              "    <tr>\n",
              "      <th>top</th>\n",
              "      <td>Hulchul</td>\n",
              "      <td>NaN</td>\n",
              "      <td>NaN</td>\n",
              "      <td>2009-08-28 00:00:00</td>\n",
              "      <td>NaN</td>\n",
              "      <td>Disaster</td>\n",
              "      <td>NaN</td>\n",
              "      <td>NaN</td>\n",
              "      <td>NaN</td>\n",
              "      <td>NaN</td>\n",
              "      <td>NaN</td>\n",
              "      <td>NaN</td>\n",
              "      <td>NaN</td>\n",
              "    </tr>\n",
              "    <tr>\n",
              "      <th>freq</th>\n",
              "      <td>2</td>\n",
              "      <td>NaN</td>\n",
              "      <td>NaN</td>\n",
              "      <td>6</td>\n",
              "      <td>NaN</td>\n",
              "      <td>1247</td>\n",
              "      <td>NaN</td>\n",
              "      <td>NaN</td>\n",
              "      <td>NaN</td>\n",
              "      <td>NaN</td>\n",
              "      <td>NaN</td>\n",
              "      <td>NaN</td>\n",
              "      <td>NaN</td>\n",
              "    </tr>\n",
              "    <tr>\n",
              "      <th>first</th>\n",
              "      <td>NaN</td>\n",
              "      <td>NaN</td>\n",
              "      <td>NaN</td>\n",
              "      <td>1994-01-07 00:00:00</td>\n",
              "      <td>NaN</td>\n",
              "      <td>NaN</td>\n",
              "      <td>NaN</td>\n",
              "      <td>NaN</td>\n",
              "      <td>NaN</td>\n",
              "      <td>NaN</td>\n",
              "      <td>NaN</td>\n",
              "      <td>NaN</td>\n",
              "      <td>NaN</td>\n",
              "    </tr>\n",
              "    <tr>\n",
              "      <th>last</th>\n",
              "      <td>NaN</td>\n",
              "      <td>NaN</td>\n",
              "      <td>NaN</td>\n",
              "      <td>2019-12-27 00:00:00</td>\n",
              "      <td>NaN</td>\n",
              "      <td>NaN</td>\n",
              "      <td>NaN</td>\n",
              "      <td>NaN</td>\n",
              "      <td>NaN</td>\n",
              "      <td>NaN</td>\n",
              "      <td>NaN</td>\n",
              "      <td>NaN</td>\n",
              "      <td>NaN</td>\n",
              "    </tr>\n",
              "    <tr>\n",
              "      <th>mean</th>\n",
              "      <td>NaN</td>\n",
              "      <td>1814.210057</td>\n",
              "      <td>1336.409165</td>\n",
              "      <td>NaN</td>\n",
              "      <td>2006.885645</td>\n",
              "      <td>NaN</td>\n",
              "      <td>2.258719</td>\n",
              "      <td>15.329106</td>\n",
              "      <td>9.523644</td>\n",
              "      <td>15.169829</td>\n",
              "      <td>27.986575</td>\n",
              "      <td>16.309522</td>\n",
              "      <td>28.206402</td>\n",
              "    </tr>\n",
              "    <tr>\n",
              "      <th>std</th>\n",
              "      <td>NaN</td>\n",
              "      <td>1329.141953</td>\n",
              "      <td>833.866127</td>\n",
              "      <td>NaN</td>\n",
              "      <td>7.141563</td>\n",
              "      <td>NaN</td>\n",
              "      <td>1.870551</td>\n",
              "      <td>28.470193</td>\n",
              "      <td>22.247333</td>\n",
              "      <td>35.586895</td>\n",
              "      <td>37.761845</td>\n",
              "      <td>29.969239</td>\n",
              "      <td>51.562994</td>\n",
              "    </tr>\n",
              "    <tr>\n",
              "      <th>min</th>\n",
              "      <td>NaN</td>\n",
              "      <td>1.000000</td>\n",
              "      <td>1.000000</td>\n",
              "      <td>NaN</td>\n",
              "      <td>1994.000000</td>\n",
              "      <td>NaN</td>\n",
              "      <td>1.000000</td>\n",
              "      <td>0.100000</td>\n",
              "      <td>0.003000</td>\n",
              "      <td>0.023000</td>\n",
              "      <td>0.195000</td>\n",
              "      <td>0.006000</td>\n",
              "      <td>0.082000</td>\n",
              "    </tr>\n",
              "    <tr>\n",
              "      <th>25%</th>\n",
              "      <td>NaN</td>\n",
              "      <td>630.250000</td>\n",
              "      <td>633.250000</td>\n",
              "      <td>NaN</td>\n",
              "      <td>2001.000000</td>\n",
              "      <td>NaN</td>\n",
              "      <td>1.000000</td>\n",
              "      <td>2.500000</td>\n",
              "      <td>0.435000</td>\n",
              "      <td>0.635750</td>\n",
              "      <td>6.818000</td>\n",
              "      <td>1.126750</td>\n",
              "      <td>1.588750</td>\n",
              "    </tr>\n",
              "    <tr>\n",
              "      <th>50%</th>\n",
              "      <td>NaN</td>\n",
              "      <td>1654.500000</td>\n",
              "      <td>1285.500000</td>\n",
              "      <td>NaN</td>\n",
              "      <td>2007.000000</td>\n",
              "      <td>NaN</td>\n",
              "      <td>1.000000</td>\n",
              "      <td>5.750000</td>\n",
              "      <td>1.871500</td>\n",
              "      <td>3.029000</td>\n",
              "      <td>15.600000</td>\n",
              "      <td>5.425000</td>\n",
              "      <td>8.363500</td>\n",
              "    </tr>\n",
              "    <tr>\n",
              "      <th>75%</th>\n",
              "      <td>NaN</td>\n",
              "      <td>2786.500000</td>\n",
              "      <td>1933.500000</td>\n",
              "      <td>NaN</td>\n",
              "      <td>2013.000000</td>\n",
              "      <td>NaN</td>\n",
              "      <td>2.000000</td>\n",
              "      <td>17.000000</td>\n",
              "      <td>6.737500</td>\n",
              "      <td>12.328750</td>\n",
              "      <td>34.100000</td>\n",
              "      <td>17.207250</td>\n",
              "      <td>31.681000</td>\n",
              "    </tr>\n",
              "    <tr>\n",
              "      <th>max</th>\n",
              "      <td>NaN</td>\n",
              "      <td>5786.000000</td>\n",
              "      <td>4201.000000</td>\n",
              "      <td>NaN</td>\n",
              "      <td>2019.000000</td>\n",
              "      <td>NaN</td>\n",
              "      <td>9.000000</td>\n",
              "      <td>575.000000</td>\n",
              "      <td>246.470000</td>\n",
              "      <td>510.360000</td>\n",
              "      <td>661.250000</td>\n",
              "      <td>295.764000</td>\n",
              "      <td>612.432000</td>\n",
              "    </tr>\n",
              "  </tbody>\n",
              "</table>\n",
              "</div>"
            ],
            "text/plain": [
              "           film           id  ...  first_week_adjust tot_net_gross_adjust\n",
              "count      2466  2466.000000  ...        2466.000000          2466.000000\n",
              "unique     2446          NaN  ...                NaN                  NaN\n",
              "top     Hulchul          NaN  ...                NaN                  NaN\n",
              "freq          2          NaN  ...                NaN                  NaN\n",
              "first       NaN          NaN  ...                NaN                  NaN\n",
              "last        NaN          NaN  ...                NaN                  NaN\n",
              "mean        NaN  1814.210057  ...          16.309522            28.206402\n",
              "std         NaN  1329.141953  ...          29.969239            51.562994\n",
              "min         NaN     1.000000  ...           0.006000             0.082000\n",
              "25%         NaN   630.250000  ...           1.126750             1.588750\n",
              "50%         NaN  1654.500000  ...           5.425000             8.363500\n",
              "75%         NaN  2786.500000  ...          17.207250            31.681000\n",
              "max         NaN  5786.000000  ...         295.764000           612.432000\n",
              "\n",
              "[13 rows x 13 columns]"
            ]
          },
          "metadata": {
            "tags": []
          },
          "execution_count": 28
        }
      ]
    },
    {
      "cell_type": "code",
      "metadata": {
        "id": "sqsN3HhbZNt_",
        "colab_type": "code",
        "colab": {}
      },
      "source": [
        "# Additional Measures of Success"
      ],
      "execution_count": null,
      "outputs": []
    },
    {
      "cell_type": "markdown",
      "metadata": {
        "id": "1LkwQNaEXtl8",
        "colab_type": "text"
      },
      "source": [
        ""
      ]
    },
    {
      "cell_type": "code",
      "metadata": {
        "id": "GCiok90nPuP0",
        "colab_type": "code",
        "colab": {
          "base_uri": "https://localhost:8080/",
          "height": 297
        },
        "outputId": "8a33241d-901b-4797-cfab-fe94c757eeb3"
      },
      "source": [
        "# Additional Measure 1: ROI\n",
        "# roi for first_week_adjust, tot_net_gross_adjust\n",
        "df_ln = df_sm_miss.shape[0]\n",
        "for i in range(0,df_ln):\n",
        "  bud = df_sm_miss.loc[i,'budget_adjust']\n",
        "  first = df_sm_miss.loc[i,'first_week_adjust']\n",
        "  tot = df_sm_miss.loc[i, 'tot_net_gross_adjust']\n",
        "  df_sm_miss.loc[i,'first_week_roi'] = ((first - bud)/bud) * 100\n",
        "  df_sm_miss.loc[i,'tot_net_gross_roi'] = ((tot - bud)/bud) * 100\n",
        "\n",
        "#df_sm_miss.info()\n",
        "df_sm_miss.loc[0:,['first_week_roi','tot_net_gross_roi']].describe()"
      ],
      "execution_count": 29,
      "outputs": [
        {
          "output_type": "execute_result",
          "data": {
            "text/html": [
              "<div>\n",
              "<style scoped>\n",
              "    .dataframe tbody tr th:only-of-type {\n",
              "        vertical-align: middle;\n",
              "    }\n",
              "\n",
              "    .dataframe tbody tr th {\n",
              "        vertical-align: top;\n",
              "    }\n",
              "\n",
              "    .dataframe thead th {\n",
              "        text-align: right;\n",
              "    }\n",
              "</style>\n",
              "<table border=\"1\" class=\"dataframe\">\n",
              "  <thead>\n",
              "    <tr style=\"text-align: right;\">\n",
              "      <th></th>\n",
              "      <th>first_week_roi</th>\n",
              "      <th>tot_net_gross_roi</th>\n",
              "    </tr>\n",
              "  </thead>\n",
              "  <tbody>\n",
              "    <tr>\n",
              "      <th>count</th>\n",
              "      <td>2466.000000</td>\n",
              "      <td>2466.000000</td>\n",
              "    </tr>\n",
              "    <tr>\n",
              "      <th>mean</th>\n",
              "      <td>-56.562538</td>\n",
              "      <td>-20.780800</td>\n",
              "    </tr>\n",
              "    <tr>\n",
              "      <th>std</th>\n",
              "      <td>34.718358</td>\n",
              "      <td>84.676846</td>\n",
              "    </tr>\n",
              "    <tr>\n",
              "      <th>min</th>\n",
              "      <td>-99.628205</td>\n",
              "      <td>-99.237179</td>\n",
              "    </tr>\n",
              "    <tr>\n",
              "      <th>25%</th>\n",
              "      <td>-84.028507</td>\n",
              "      <td>-79.738923</td>\n",
              "    </tr>\n",
              "    <tr>\n",
              "      <th>50%</th>\n",
              "      <td>-62.462176</td>\n",
              "      <td>-41.536354</td>\n",
              "    </tr>\n",
              "    <tr>\n",
              "      <th>75%</th>\n",
              "      <td>-39.015180</td>\n",
              "      <td>9.122212</td>\n",
              "    </tr>\n",
              "    <tr>\n",
              "      <th>max</th>\n",
              "      <td>170.769231</td>\n",
              "      <td>1232.827324</td>\n",
              "    </tr>\n",
              "  </tbody>\n",
              "</table>\n",
              "</div>"
            ],
            "text/plain": [
              "       first_week_roi  tot_net_gross_roi\n",
              "count     2466.000000        2466.000000\n",
              "mean       -56.562538         -20.780800\n",
              "std         34.718358          84.676846\n",
              "min        -99.628205         -99.237179\n",
              "25%        -84.028507         -79.738923\n",
              "50%        -62.462176         -41.536354\n",
              "75%        -39.015180           9.122212\n",
              "max        170.769231        1232.827324"
            ]
          },
          "metadata": {
            "tags": []
          },
          "execution_count": 29
        }
      ]
    },
    {
      "cell_type": "code",
      "metadata": {
        "id": "8ruMk9_bkACw",
        "colab_type": "code",
        "colab": {
          "base_uri": "https://localhost:8080/",
          "height": 362
        },
        "outputId": "6fbcd349-cb48-4ece-a286-84486dae2ece"
      },
      "source": [
        "corr_list = ['budget_adjust','first_week_adjust','tot_net_gross_adjust', 'first_week_roi','tot_net_gross_roi']\n",
        "corr = pd.DataFrame()\n",
        "for var1 in corr_list:\n",
        "    for var2 in corr_list:\n",
        "        corr.loc[var1, var2] = df_sm_miss.corr().loc[var1, var2]\n",
        "sns.heatmap(corr, annot=True);"
      ],
      "execution_count": 30,
      "outputs": [
        {
          "output_type": "display_data",
          "data": {
            "image/png": "[encoded data removed]",
            "text/plain": [
              "<Figure size 432x288 with 2 Axes>"
            ]
          },
          "metadata": {
            "tags": [],
            "needs_background": "light"
          }
        }
      ]
    },
    {
      "cell_type": "code",
      "metadata": {
        "id": "hCSsL0yGc51z",
        "colab_type": "code",
        "colab": {
          "base_uri": "https://localhost:8080/",
          "height": 320
        },
        "outputId": "8b35e3e0-4f73-417c-a195-d1458381708c"
      },
      "source": [
        "# box_plot of budget_adjust, first_week_adjust, tot_net_gross_adjust\n",
        "fig, ax = plt.subplots(figsize=(10, 5))\n",
        "df_sm_miss.loc[0:,['budget_adjust','first_week_adjust','tot_net_gross_adjust']].boxplot(vert=False);"
      ],
      "execution_count": 31,
      "outputs": [
        {
          "output_type": "display_data",
          "data": {
            "image/png": "[encoded data removed]",
            "text/plain": [
              "<Figure size 720x360 with 1 Axes>"
            ]
          },
          "metadata": {
            "tags": [],
            "needs_background": "light"
          }
        }
      ]
    },
    {
      "cell_type": "code",
      "metadata": {
        "id": "Zk4vYQwl2toh",
        "colab_type": "code",
        "colab": {
          "base_uri": "https://localhost:8080/",
          "height": 320
        },
        "outputId": "01c06435-69ba-4706-cd2d-599013a55060"
      },
      "source": [
        "# box_plot of budget_adjust, first_week_adjust, tot_net_gross_adjust\n",
        "fig, ax = plt.subplots(figsize=(10, 5))\n",
        "df_sm_miss.loc[0:,['first_week_roi','tot_net_gross_roi']].boxplot(vert=False);"
      ],
      "execution_count": 32,
      "outputs": [
        {
          "output_type": "display_data",
          "data": {
            "image/png": "[encoded data removed]",
            "text/plain": [
              "<Figure size 720x360 with 1 Axes>"
            ]
          },
          "metadata": {
            "tags": [],
            "needs_background": "light"
          }
        }
      ]
    },
    {
      "cell_type": "code",
      "metadata": {
        "id": "30HjlmNHxy9T",
        "colab_type": "code",
        "colab": {
          "base_uri": "https://localhost:8080/",
          "height": 265
        },
        "outputId": "86e29f0d-637b-40e2-d49f-97c18ec74dc5"
      },
      "source": [
        "num_bins = 50\n",
        "col_sel = ['budget_adjust','first_week_adjust','tot_met_gross_adjust']\n",
        "x = df_sm_miss.budget_adjust\n",
        "n, bins, patches = plt.hist(x, num_bins, facecolor='blue', alpha=0.5)"
      ],
      "execution_count": 33,
      "outputs": [
        {
          "output_type": "display_data",
          "data": {
            "image/png": "[encoded data removed]",
            "text/plain": [
              "<Figure size 432x288 with 1 Axes>"
            ]
          },
          "metadata": {
            "tags": [],
            "needs_background": "light"
          }
        }
      ]
    },
    {
      "cell_type": "code",
      "metadata": {
        "id": "uH3BmFzAzR-c",
        "colab_type": "code",
        "colab": {
          "base_uri": "https://localhost:8080/",
          "height": 227
        },
        "outputId": "d719d2bb-23eb-4823-b020-ec19ef6da50f"
      },
      "source": [
        "df_sm_miss.loc[0:,['budget_adjust','first_week_adjust','tot_net_gross_adjust']].hist(bins=50,figsize=(12,3), layout=(1,3));"
      ],
      "execution_count": 34,
      "outputs": [
        {
          "output_type": "display_data",
          "data": {
            "image/png": "[encoded data removed]",
            "text/plain": [
              "<Figure size 864x216 with 3 Axes>"
            ]
          },
          "metadata": {
            "tags": [],
            "needs_background": "light"
          }
        }
      ]
    },
    {
      "cell_type": "code",
      "metadata": {
        "id": "tTj2V-waSMS8",
        "colab_type": "code",
        "colab": {
          "base_uri": "https://localhost:8080/",
          "height": 227
        },
        "outputId": "0da0061e-4b56-44e5-d16f-3ea54952639c"
      },
      "source": [
        "df_sm_miss.loc[0:,['first_week_roi','tot_net_gross_roi']].hist(bins=50,figsize=(9,3), layout=(1,2));"
      ],
      "execution_count": 35,
      "outputs": [
        {
          "output_type": "display_data",
          "data": {
            "image/png": "[encoded data removed]",
            "text/plain": [
              "<Figure size 648x216 with 2 Axes>"
            ]
          },
          "metadata": {
            "tags": [],
            "needs_background": "light"
          }
        }
      ]
    },
    {
      "cell_type": "code",
      "metadata": {
        "id": "8UGqz3PsHLEq",
        "colab_type": "code",
        "colab": {
          "base_uri": "https://localhost:8080/",
          "height": 102
        },
        "outputId": "8dd39cb9-13d3-4fb4-fa36-89cfc414e744"
      },
      "source": [
        "from scipy.stats import kurtosis\n",
        "from scipy.stats import skew\n",
        "\n",
        "col_sel = ['budget_adjust','first_week_adjust','tot_net_gross_adjust','first_week_roi','tot_net_gross_roi']\n",
        "for var in col_sel:\n",
        "  data = df_sm_miss[var]\n",
        "  print(var, round(skew(data),3), round(kurtosis(data),3))\n"
      ],
      "execution_count": 36,
      "outputs": [
        {
          "output_type": "stream",
          "text": [
            "budget_adjust 4.598 43.436\n",
            "first_week_adjust 3.999 21.114\n",
            "tot_net_gross_adjust 4.034 23.475\n",
            "first_week_roi 1.54 3.995\n",
            "tot_net_gross_roi 3.815 34.852\n"
          ],
          "name": "stdout"
        }
      ]
    },
    {
      "cell_type": "code",
      "metadata": {
        "id": "3bkxg6rEOFCc",
        "colab_type": "code",
        "colab": {}
      },
      "source": [
        "def log_trans(column):\n",
        "    y = np.log(column + 1)\n",
        "    return y"
      ],
      "execution_count": 37,
      "outputs": []
    },
    {
      "cell_type": "code",
      "metadata": {
        "id": "JVIwsQn0Om0i",
        "colab_type": "code",
        "colab": {
          "base_uri": "https://localhost:8080/",
          "height": 297
        },
        "outputId": "f96f4ea0-94e8-481c-b2ac-71f8d4993a4c"
      },
      "source": [
        "df_sm_miss.loc[0:,'budget_log'] = log_trans(df_sm_miss.budget_adjust)\n",
        "df_sm_miss.loc[0:,'first_week_log'] = log_trans(df_sm_miss.first_week_adjust)\n",
        "df_sm_miss.loc[0:,'tot_net_gross_log'] = log_trans(df_sm_miss.tot_net_gross_adjust)\n",
        "df_sm_miss.loc[0:,['budget_log','first_week_log','tot_net_gross_log']].describe()"
      ],
      "execution_count": 39,
      "outputs": [
        {
          "output_type": "execute_result",
          "data": {
            "text/html": [
              "<div>\n",
              "<style scoped>\n",
              "    .dataframe tbody tr th:only-of-type {\n",
              "        vertical-align: middle;\n",
              "    }\n",
              "\n",
              "    .dataframe tbody tr th {\n",
              "        vertical-align: top;\n",
              "    }\n",
              "\n",
              "    .dataframe thead th {\n",
              "        text-align: right;\n",
              "    }\n",
              "</style>\n",
              "<table border=\"1\" class=\"dataframe\">\n",
              "  <thead>\n",
              "    <tr style=\"text-align: right;\">\n",
              "      <th></th>\n",
              "      <th>budget_log</th>\n",
              "      <th>first_week_log</th>\n",
              "      <th>tot_net_gross_log</th>\n",
              "    </tr>\n",
              "  </thead>\n",
              "  <tbody>\n",
              "    <tr>\n",
              "      <th>count</th>\n",
              "      <td>2466.000000</td>\n",
              "      <td>2466.000000</td>\n",
              "      <td>2466.000000</td>\n",
              "    </tr>\n",
              "    <tr>\n",
              "      <th>mean</th>\n",
              "      <td>2.827153</td>\n",
              "      <td>1.950363</td>\n",
              "      <td>2.303805</td>\n",
              "    </tr>\n",
              "    <tr>\n",
              "      <th>std</th>\n",
              "      <td>1.031664</td>\n",
              "      <td>1.311738</td>\n",
              "      <td>1.491144</td>\n",
              "    </tr>\n",
              "    <tr>\n",
              "      <th>min</th>\n",
              "      <td>0.178146</td>\n",
              "      <td>0.005982</td>\n",
              "      <td>0.078811</td>\n",
              "    </tr>\n",
              "    <tr>\n",
              "      <th>25%</th>\n",
              "      <td>2.056429</td>\n",
              "      <td>0.754590</td>\n",
              "      <td>0.951175</td>\n",
              "    </tr>\n",
              "    <tr>\n",
              "      <th>50%</th>\n",
              "      <td>2.809403</td>\n",
              "      <td>1.860195</td>\n",
              "      <td>2.236819</td>\n",
              "    </tr>\n",
              "    <tr>\n",
              "      <th>75%</th>\n",
              "      <td>3.558201</td>\n",
              "      <td>2.901820</td>\n",
              "      <td>3.486793</td>\n",
              "    </tr>\n",
              "    <tr>\n",
              "      <th>max</th>\n",
              "      <td>6.495643</td>\n",
              "      <td>5.692937</td>\n",
              "      <td>6.419069</td>\n",
              "    </tr>\n",
              "  </tbody>\n",
              "</table>\n",
              "</div>"
            ],
            "text/plain": [
              "        budget_log  first_week_log  tot_net_gross_log\n",
              "count  2466.000000     2466.000000        2466.000000\n",
              "mean      2.827153        1.950363           2.303805\n",
              "std       1.031664        1.311738           1.491144\n",
              "min       0.178146        0.005982           0.078811\n",
              "25%       2.056429        0.754590           0.951175\n",
              "50%       2.809403        1.860195           2.236819\n",
              "75%       3.558201        2.901820           3.486793\n",
              "max       6.495643        5.692937           6.419069"
            ]
          },
          "metadata": {
            "tags": []
          },
          "execution_count": 39
        }
      ]
    },
    {
      "cell_type": "code",
      "metadata": {
        "id": "bqv-vrnip1P0",
        "colab_type": "code",
        "colab": {
          "base_uri": "https://localhost:8080/",
          "height": 68
        },
        "outputId": "23ca6d61-432e-4473-9ca1-15e7ccc60c1e"
      },
      "source": [
        "col_sel = ['budget_log','first_week_log','tot_net_gross_log']\n",
        "for var in col_sel:\n",
        "  data = df_sm_miss[var]\n",
        "  print(var, round(skew(data),3), round(kurtosis(data),3))"
      ],
      "execution_count": 40,
      "outputs": [
        {
          "output_type": "stream",
          "text": [
            "budget_log 0.154 -0.417\n",
            "first_week_log 0.406 -0.743\n",
            "tot_net_gross_log 0.276 -0.978\n"
          ],
          "name": "stdout"
        }
      ]
    },
    {
      "cell_type": "code",
      "metadata": {
        "id": "51ljg7kdrsoQ",
        "colab_type": "code",
        "colab": {
          "base_uri": "https://localhost:8080/",
          "height": 227
        },
        "outputId": "b4ff203d-0376-4b66-adcd-6922e0018ba9"
      },
      "source": [
        "df_sm_miss.loc[0:,['budget_log','first_week_log','tot_net_gross_log']].hist(bins=50,figsize=(12,3), layout=(1,3));"
      ],
      "execution_count": 41,
      "outputs": [
        {
          "output_type": "display_data",
          "data": {
            "image/png": "[encoded data removed]",
            "text/plain": [
              "<Figure size 864x216 with 3 Axes>"
            ]
          },
          "metadata": {
            "tags": [],
            "needs_background": "light"
          }
        }
      ]
    },
    {
      "cell_type": "code",
      "metadata": {
        "id": "nfGCSU7HwLcl",
        "colab_type": "code",
        "colab": {}
      },
      "source": [
        "def znorm(df_col):\n",
        "  df_z = (df_col - df_col.mean())/df_col.std()\n",
        "  return df_z\n",
        "\n",
        "def minmax_norm(df_col):\n",
        "  df_mm = (df_col -df_col.min())/(df_col.max()-df_col.min())\n",
        "  return df_mm"
      ],
      "execution_count": 43,
      "outputs": []
    },
    {
      "cell_type": "code",
      "metadata": {
        "id": "MQ76ffUTOxRp",
        "colab_type": "code",
        "colab": {}
      },
      "source": [
        "df_sm_miss.loc[0:,'budget_log_norm'] = minmax_norm(df_sm.budget_log)\n",
        "df_sm_miss.loc[0:,'first_week_log_norm'] = minmax_norm(df_sm.first_week_log)\n",
        "df_sm_miss.loc[0:,'tot_net_gross_log_norm'] = minmax_norm(df_sm.tot_net_gross_log)\n",
        "\n",
        "df_sm_miss.loc[0:,['budget_log_norm','first_week_log_norm','tot_net_gross_log_norm']].describe()"
      ],
      "execution_count": null,
      "outputs": []
    },
    {
      "cell_type": "code",
      "metadata": {
        "id": "COb7bjmkaX94",
        "colab_type": "code",
        "colab": {}
      },
      "source": [
        ""
      ],
      "execution_count": null,
      "outputs": []
    },
    {
      "cell_type": "code",
      "metadata": {
        "id": "7h7nOiJzxhNb",
        "colab_type": "code",
        "colab": {}
      },
      "source": [
        "col_sel = ['budget_log_norm','first_week_log_norm','tot_net_gross_log_norm']\n",
        "for var in col_sel:\n",
        "  data = df_sm[var]\n",
        "  print(var, round(skew(data),3), round(kurtosis(data),3))"
      ],
      "execution_count": null,
      "outputs": []
    },
    {
      "cell_type": "code",
      "metadata": {
        "id": "W0BzJeeMwwup",
        "colab_type": "code",
        "colab": {}
      },
      "source": [
        "df_sm.loc[0:,['budget_log_norm','first_week_log_norm','tot_net_gross_log_norm']].hist(bins=50,figsize=(12,3), layout=(1,3));"
      ],
      "execution_count": null,
      "outputs": []
    },
    {
      "cell_type": "code",
      "metadata": {
        "id": "nSz_cjojx8d-",
        "colab_type": "code",
        "colab": {}
      },
      "source": [
        "# Success where measures are ordinal variables - converted to numerical values\n",
        "\n",
        "# first measure based on rankings assigned by BOI (partially based on gross revenues and roi)\n",
        "# verdict_rank - 1-9 based on verdict ('Disaster' = 1 ... 'All Time Blockbuster' = 9)\n",
        " \n",
        "verdict_dict = {'All Time Blockbuster':9,'Blockbuster':8, 'Super Hit':7, 'Hit':6, 'Semi Hit':5, 'Average':4, 'Below Average':3, 'Flop':2, 'Disaster':1}\n",
        "\n",
        "for i in range(0,df_ln):\n",
        "  df_sm.loc[i,'verdict_rank'] = verdict_dict[df_sm.loc[i,'verdict']]\n",
        "\n",
        "# Frequency of verdict_ranks in sorted order\n",
        "df_sm.verdict_rank.value_counts(sort=False)"
      ],
      "execution_count": null,
      "outputs": []
    },
    {
      "cell_type": "code",
      "metadata": {
        "id": "VM1uOeGD2VON",
        "colab_type": "code",
        "colab": {}
      },
      "source": [
        "ax = sns.countplot(x=\"verdict_rank\",data=df_sm)"
      ],
      "execution_count": null,
      "outputs": []
    },
    {
      "cell_type": "code",
      "metadata": {
        "id": "YwcHPGVm55Ga",
        "colab_type": "code",
        "colab": {}
      },
      "source": [
        "# Success based on profit = \n",
        "for i in range(0,df_ln):\n",
        "  revenue = df_sm.loc[i,'tot_net_gross_adjust']\n",
        "  budget = df_sm.loc[i,'budget_adjust']\n",
        "  profit = (.8 * revenue) - budget\n",
        "  if profit > 0:\n",
        "    df_sm.loc[i,'success_flop'] = 1 # success\n",
        "  else:\n",
        "    df_sm.loc[i,'success_flop'] = 0 # flop\n",
        "\n",
        "df_sm.success_flop.value_counts()"
      ],
      "execution_count": null,
      "outputs": []
    },
    {
      "cell_type": "code",
      "metadata": {
        "id": "FcTYlqEh8B7Z",
        "colab_type": "code",
        "colab": {}
      },
      "source": [
        "ax = sns.countplot(x=\"success_flop\",data=df_sm);"
      ],
      "execution_count": null,
      "outputs": []
    },
    {
      "cell_type": "code",
      "metadata": {
        "id": "2HA1pEmT8MVU",
        "colab_type": "code",
        "colab": {}
      },
      "source": [
        "# Success measured by profit ratio = gross_rev/budget\n",
        "# 3 ordinal values: low = profit ratio - < 1.0; moderate - profit ratio >= 1.0 and < 2.0; high - >= 2.0\n",
        "\n",
        "for i in range(0,df_ln):\n",
        "  revenue = df_sm.loc[i,'tot_net_gross_adjust']\n",
        "  budget = df_sm.loc[i,'budget_adjust']\n",
        "  profit_ratio = revenue/budget\n",
        "  if profit_ratio < 1.0:\n",
        "    df_sm.loc[i,'profit_ratio'] = 1 # low grossing\n",
        "  elif profit_ratio >= 2.0:\n",
        "    df_sm.loc[i,'profit_ratio'] = 3 # high grossing\n",
        "  else:\n",
        "    df_sm.loc[i,'profit_ratio'] = 2 # moderate grossing\n",
        "\n",
        "df_sm.profit_ratio.value_counts()"
      ],
      "execution_count": null,
      "outputs": []
    },
    {
      "cell_type": "code",
      "metadata": {
        "id": "QHj4AV119NlV",
        "colab_type": "code",
        "colab": {}
      },
      "source": [
        "ax = sns.countplot(x=\"rev_grossing\",data=df_sm);"
      ],
      "execution_count": null,
      "outputs": []
    },
    {
      "cell_type": "code",
      "metadata": {
        "id": "XAthHwIxtmiE",
        "colab_type": "code",
        "colab": {}
      },
      "source": [
        "var_list = ['success_flop','rev_grossing','verdict_rank','success_flop','rev_grossing']\n",
        "for i in range(0,2):\n",
        "  var1= var_list[i]\n",
        "  for j in range(i+1,3):\n",
        "    var2 = var_list[j]\n",
        "    print(pd.crosstab(df_sm.loc[0:,var1],df_sm.loc[0:,var2], dropna = False, margins = True),'\\n')\n"
      ],
      "execution_count": null,
      "outputs": []
    },
    {
      "cell_type": "code",
      "metadata": {
        "id": "ZaaF6n2W9Zuo",
        "colab_type": "code",
        "colab": {}
      },
      "source": [
        "from scipy import stats\n",
        "\n",
        "corr = pd.DataFrame()\n",
        "for var1 in var_list:\n",
        "    for var2 in corr_list:\n",
        "        rho, pval = stats.spearmanr(df_sm.loc[0:,var1],df_sm.loc[0:,var2])\n",
        "        corr.loc[var1, var2] = rho\n",
        "sns.heatmap(corr, annot=True);\n"
      ],
      "execution_count": null,
      "outputs": []
    },
    {
      "cell_type": "code",
      "metadata": {
        "id": "qeD1aRoVseEO",
        "colab_type": "code",
        "colab": {}
      },
      "source": [
        "# success_flop, rev_grossing, verdict_rank by 5 year groups\n",
        "yr_limits = [(1994,2000,1995),(2000,2005,2000),(2005,2010, 2005),(2010,2015,2010),(2015,2020,2015)]\n",
        "\n",
        "for i in range(0,df_ln):\n",
        "  for yr_tup in yr_limits:\n",
        "    if (df_sm.loc[i,'release_year'] >= yr_tup[0] and df_sm.loc[i,'release_year'] < yr_tup[1]):\n",
        "      #print(i,df_sm.loc[i,'release_year'],yr_tup[0],yr_tup[2])\n",
        "      df_sm.loc[i,'5yr'] = yr_tup[2]\n",
        "      \n",
        "df_sm.groupby('5yr')['5yr'].count()\n"
      ],
      "execution_count": null,
      "outputs": []
    },
    {
      "cell_type": "code",
      "metadata": {
        "id": "FbG-gif6IoJJ",
        "colab_type": "code",
        "colab": {}
      },
      "source": [
        "# regardless of the ordinal variable, the percentage of poorly performing movies remained relatively\n",
        "# the same from 2000 on.\n",
        "pd.crosstab(df_sm.loc[0:,'5yr'],df_sm.loc[0:,'verdict_rank'], dropna = False, margins = True, normalize='index')"
      ],
      "execution_count": null,
      "outputs": []
    },
    {
      "cell_type": "code",
      "metadata": {
        "id": "Gxkup2hLKda2",
        "colab_type": "code",
        "colab": {}
      },
      "source": [
        "df_sm.groupby('5yr')['tot_net_gross_adjust','budget_adjust','tot_net_gross_roi'].mean()"
      ],
      "execution_count": null,
      "outputs": []
    }
  ]
}